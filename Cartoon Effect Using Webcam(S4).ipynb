{
 "cells": [
  {
   "cell_type": "markdown",
   "metadata": {},
   "source": [
    "<div style=\"\n",
    "    background: linear-gradient(to right, #001f3f, #0074D9, #7FDBFF);\n",
    "    padding: 15px;\n",
    "    border-radius: 20px;\n",
    "    text-align: center;\n",
    "    font-size: 36px;\n",
    "    font-family: 'Orbitron', sans-serif;\n",
    "    color: white;\n",
    "    text-shadow: 0px 0px 10px #00ccff, 0px 0px 20px #00ccff;\n",
    "    box-shadow: 0px 0px 15px rgba(0, 204, 255, 0.6);\n",
    "    display: flex;\n",
    "    align-items: center;\n",
    "    justify-content: center;\n",
    "    gap: 10px;\">\n",
    "    🚀 Welcome to AI Recognition & Gesture Control! 🎥\n",
    "</div>"
   ]
  },
  {
   "cell_type": "markdown",
   "metadata": {},
   "source": [
    "<div style=\"\n",
    "    background: linear-gradient(to right, #2c3e50, #4ca1af);\n",
    "    padding: 15px;\n",
    "    border-radius: 20px;\n",
    "    text-align: center;\n",
    "    font-size: 36px;\n",
    "    font-family: 'Orbitron', sans-serif;\n",
    "    color: white;\n",
    "    text-shadow: 0px 0px 10px #00ff99, 0px 0px 20px #00ff99;\n",
    "    box-shadow: 0px 0px 15px rgba(0, 255, 153, 0.6);\n",
    "    display: flex;\n",
    "    align-items: center;\n",
    "    justify-content: center;\n",
    "    gap: 10px;\">\n",
    "    🎭 Real-Time AI Filters & Object Detection! 🤖\n",
    "</div>"
   ]
  },
  {
   "cell_type": "markdown",
   "metadata": {},
   "source": [
    "<div style=\"\n",
    "    background: linear-gradient(to right, #8e44ad, #9b59b6);\n",
    "    padding: 15px;\n",
    "    border-radius: 20px;\n",
    "    text-align: center;\n",
    "    font-size: 36px;\n",
    "    font-family: 'Orbitron', sans-serif;\n",
    "    color: white;\n",
    "    text-shadow: 0px 0px 10px #ff66ff, 0px 0px 20px #ff66ff;\n",
    "    box-shadow: 0px 0px 15px rgba(255, 102, 255, 0.6);\n",
    "    display: flex;\n",
    "    align-items: center;\n",
    "    justify-content: center;\n",
    "    gap: 10px;\">\n",
    "    🕵️‍♂️ AI That Sees & Reacts Instantly! 🔥\n",
    "</div>"
   ]
  },
  {
   "cell_type": "code",
   "execution_count": null,
   "metadata": {},
   "outputs": [],
   "source": []
  },
  {
   "cell_type": "code",
   "execution_count": null,
   "metadata": {},
   "outputs": [],
   "source": []
  },
  {
   "cell_type": "code",
   "execution_count": null,
   "metadata": {},
   "outputs": [],
   "source": []
  },
  {
   "cell_type": "code",
   "execution_count": 1,
   "metadata": {},
   "outputs": [
    {
     "name": "stderr",
     "output_type": "stream",
     "text": [
      "Using cache found in C:\\Users\\GAMING/.cache\\torch\\hub\\ultralytics_yolov5_master\n",
      "YOLOv5  2025-2-13 Python-3.12.3 torch-2.6.0+cpu CPU\n",
      "\n",
      "Fusing layers... \n",
      "YOLOv5s summary: 213 layers, 7225885 parameters, 0 gradients, 16.4 GFLOPs\n",
      "Adding AutoShape... \n",
      "C:\\Users\\GAMING/.cache\\torch\\hub\\ultralytics_yolov5_master\\models\\common.py:894: FutureWarning: `torch.cuda.amp.autocast(args...)` is deprecated. Please use `torch.amp.autocast('cuda', args...)` instead.\n",
      "  with amp.autocast(autocast):\n",
      "C:\\Users\\GAMING/.cache\\torch\\hub\\ultralytics_yolov5_master\\models\\common.py:894: FutureWarning: `torch.cuda.amp.autocast(args...)` is deprecated. Please use `torch.amp.autocast('cuda', args...)` instead.\n",
      "  with amp.autocast(autocast):\n"
     ]
    },
    {
     "name": "stdout",
     "output_type": "stream",
     "text": [
      "Modes -> Glow: False, Particles: False, Mirror: False, Filter: 0\n",
      "Modes -> Glow: False, Particles: False, Mirror: False, Filter: 0\n",
      "Modes -> Glow: False, Particles: False, Mirror: False, Filter: 0\n"
     ]
    },
    {
     "name": "stderr",
     "output_type": "stream",
     "text": [
      "C:\\Users\\GAMING/.cache\\torch\\hub\\ultralytics_yolov5_master\\models\\common.py:894: FutureWarning: `torch.cuda.amp.autocast(args...)` is deprecated. Please use `torch.amp.autocast('cuda', args...)` instead.\n",
      "  with amp.autocast(autocast):\n",
      "C:\\Users\\GAMING/.cache\\torch\\hub\\ultralytics_yolov5_master\\models\\common.py:894: FutureWarning: `torch.cuda.amp.autocast(args...)` is deprecated. Please use `torch.amp.autocast('cuda', args...)` instead.\n",
      "  with amp.autocast(autocast):\n"
     ]
    },
    {
     "name": "stdout",
     "output_type": "stream",
     "text": [
      "Modes -> Glow: False, Particles: False, Mirror: False, Filter: 0\n",
      "Modes -> Glow: False, Particles: False, Mirror: False, Filter: 0\n",
      "Modes -> Glow: False, Particles: False, Mirror: False, Filter: 0\n"
     ]
    },
    {
     "name": "stderr",
     "output_type": "stream",
     "text": [
      "C:\\Users\\GAMING/.cache\\torch\\hub\\ultralytics_yolov5_master\\models\\common.py:894: FutureWarning: `torch.cuda.amp.autocast(args...)` is deprecated. Please use `torch.amp.autocast('cuda', args...)` instead.\n",
      "  with amp.autocast(autocast):\n",
      "C:\\Users\\GAMING/.cache\\torch\\hub\\ultralytics_yolov5_master\\models\\common.py:894: FutureWarning: `torch.cuda.amp.autocast(args...)` is deprecated. Please use `torch.amp.autocast('cuda', args...)` instead.\n",
      "  with amp.autocast(autocast):\n"
     ]
    },
    {
     "name": "stdout",
     "output_type": "stream",
     "text": [
      "Modes -> Glow: False, Particles: False, Mirror: False, Filter: 0\n",
      "Modes -> Glow: False, Particles: False, Mirror: False, Filter: 0\n"
     ]
    },
    {
     "name": "stderr",
     "output_type": "stream",
     "text": [
      "C:\\Users\\GAMING/.cache\\torch\\hub\\ultralytics_yolov5_master\\models\\common.py:894: FutureWarning: `torch.cuda.amp.autocast(args...)` is deprecated. Please use `torch.amp.autocast('cuda', args...)` instead.\n",
      "  with amp.autocast(autocast):\n",
      "C:\\Users\\GAMING/.cache\\torch\\hub\\ultralytics_yolov5_master\\models\\common.py:894: FutureWarning: `torch.cuda.amp.autocast(args...)` is deprecated. Please use `torch.amp.autocast('cuda', args...)` instead.\n",
      "  with amp.autocast(autocast):\n"
     ]
    },
    {
     "name": "stdout",
     "output_type": "stream",
     "text": [
      "Modes -> Glow: False, Particles: False, Mirror: False, Filter: 0\n",
      "Modes -> Glow: False, Particles: False, Mirror: False, Filter: 0\n",
      "Modes -> Glow: False, Particles: False, Mirror: False, Filter: 0\n",
      "Modes -> Glow: False, Particles: False, Mirror: False, Filter: 0\n"
     ]
    },
    {
     "name": "stderr",
     "output_type": "stream",
     "text": [
      "C:\\Users\\GAMING/.cache\\torch\\hub\\ultralytics_yolov5_master\\models\\common.py:894: FutureWarning: `torch.cuda.amp.autocast(args...)` is deprecated. Please use `torch.amp.autocast('cuda', args...)` instead.\n",
      "  with amp.autocast(autocast):\n",
      "C:\\Users\\GAMING/.cache\\torch\\hub\\ultralytics_yolov5_master\\models\\common.py:894: FutureWarning: `torch.cuda.amp.autocast(args...)` is deprecated. Please use `torch.amp.autocast('cuda', args...)` instead.\n",
      "  with amp.autocast(autocast):\n"
     ]
    },
    {
     "name": "stdout",
     "output_type": "stream",
     "text": [
      "Modes -> Glow: False, Particles: False, Mirror: False, Filter: 0\n",
      "Modes -> Glow: False, Particles: False, Mirror: False, Filter: 0\n",
      "Modes -> Glow: False, Particles: False, Mirror: False, Filter: 0\n",
      "Modes -> Glow: False, Particles: False, Mirror: False, Filter: 0\n"
     ]
    },
    {
     "name": "stderr",
     "output_type": "stream",
     "text": [
      "C:\\Users\\GAMING/.cache\\torch\\hub\\ultralytics_yolov5_master\\models\\common.py:894: FutureWarning: `torch.cuda.amp.autocast(args...)` is deprecated. Please use `torch.amp.autocast('cuda', args...)` instead.\n",
      "  with amp.autocast(autocast):\n",
      "C:\\Users\\GAMING/.cache\\torch\\hub\\ultralytics_yolov5_master\\models\\common.py:894: FutureWarning: `torch.cuda.amp.autocast(args...)` is deprecated. Please use `torch.amp.autocast('cuda', args...)` instead.\n",
      "  with amp.autocast(autocast):\n"
     ]
    },
    {
     "name": "stdout",
     "output_type": "stream",
     "text": [
      "Modes -> Glow: False, Particles: False, Mirror: False, Filter: 0\n",
      "Modes -> Glow: False, Particles: False, Mirror: False, Filter: 0\n"
     ]
    },
    {
     "name": "stderr",
     "output_type": "stream",
     "text": [
      "C:\\Users\\GAMING/.cache\\torch\\hub\\ultralytics_yolov5_master\\models\\common.py:894: FutureWarning: `torch.cuda.amp.autocast(args...)` is deprecated. Please use `torch.amp.autocast('cuda', args...)` instead.\n",
      "  with amp.autocast(autocast):\n"
     ]
    },
    {
     "name": "stdout",
     "output_type": "stream",
     "text": [
      "Modes -> Glow: False, Particles: False, Mirror: False, Filter: 0\n",
      "Modes -> Glow: False, Particles: False, Mirror: False, Filter: 0\n"
     ]
    },
    {
     "name": "stderr",
     "output_type": "stream",
     "text": [
      "C:\\Users\\GAMING/.cache\\torch\\hub\\ultralytics_yolov5_master\\models\\common.py:894: FutureWarning: `torch.cuda.amp.autocast(args...)` is deprecated. Please use `torch.amp.autocast('cuda', args...)` instead.\n",
      "  with amp.autocast(autocast):\n"
     ]
    },
    {
     "name": "stdout",
     "output_type": "stream",
     "text": [
      "Modes -> Glow: False, Particles: False, Mirror: False, Filter: 0\n",
      "Modes -> Glow: False, Particles: False, Mirror: False, Filter: 0\n",
      "Modes -> Glow: False, Particles: False, Mirror: False, Filter: 0\n",
      "Modes -> Glow: False, Particles: False, Mirror: False, Filter: 0\n"
     ]
    },
    {
     "name": "stderr",
     "output_type": "stream",
     "text": [
      "C:\\Users\\GAMING/.cache\\torch\\hub\\ultralytics_yolov5_master\\models\\common.py:894: FutureWarning: `torch.cuda.amp.autocast(args...)` is deprecated. Please use `torch.amp.autocast('cuda', args...)` instead.\n",
      "  with amp.autocast(autocast):\n"
     ]
    },
    {
     "name": "stdout",
     "output_type": "stream",
     "text": [
      "Modes -> Glow: False, Particles: False, Mirror: False, Filter: 0\n",
      "Modes -> Glow: False, Particles: False, Mirror: False, Filter: 0\n"
     ]
    },
    {
     "name": "stderr",
     "output_type": "stream",
     "text": [
      "C:\\Users\\GAMING/.cache\\torch\\hub\\ultralytics_yolov5_master\\models\\common.py:894: FutureWarning: `torch.cuda.amp.autocast(args...)` is deprecated. Please use `torch.amp.autocast('cuda', args...)` instead.\n",
      "  with amp.autocast(autocast):\n",
      "C:\\Users\\GAMING/.cache\\torch\\hub\\ultralytics_yolov5_master\\models\\common.py:894: FutureWarning: `torch.cuda.amp.autocast(args...)` is deprecated. Please use `torch.amp.autocast('cuda', args...)` instead.\n",
      "  with amp.autocast(autocast):\n"
     ]
    },
    {
     "name": "stdout",
     "output_type": "stream",
     "text": [
      "Modes -> Glow: False, Particles: False, Mirror: False, Filter: 0\n",
      "Modes -> Glow: False, Particles: False, Mirror: False, Filter: 0\n",
      "Modes -> Glow: False, Particles: False, Mirror: False, Filter: 0\n",
      "Modes -> Glow: False, Particles: False, Mirror: False, Filter: 0\n"
     ]
    },
    {
     "name": "stderr",
     "output_type": "stream",
     "text": [
      "C:\\Users\\GAMING/.cache\\torch\\hub\\ultralytics_yolov5_master\\models\\common.py:894: FutureWarning: `torch.cuda.amp.autocast(args...)` is deprecated. Please use `torch.amp.autocast('cuda', args...)` instead.\n",
      "  with amp.autocast(autocast):\n"
     ]
    },
    {
     "name": "stdout",
     "output_type": "stream",
     "text": [
      "Modes -> Glow: False, Particles: False, Mirror: False, Filter: 0\n",
      "Modes -> Glow: False, Particles: False, Mirror: False, Filter: 0\n"
     ]
    },
    {
     "name": "stderr",
     "output_type": "stream",
     "text": [
      "C:\\Users\\GAMING/.cache\\torch\\hub\\ultralytics_yolov5_master\\models\\common.py:894: FutureWarning: `torch.cuda.amp.autocast(args...)` is deprecated. Please use `torch.amp.autocast('cuda', args...)` instead.\n",
      "  with amp.autocast(autocast):\n",
      "C:\\Users\\GAMING/.cache\\torch\\hub\\ultralytics_yolov5_master\\models\\common.py:894: FutureWarning: `torch.cuda.amp.autocast(args...)` is deprecated. Please use `torch.amp.autocast('cuda', args...)` instead.\n",
      "  with amp.autocast(autocast):\n"
     ]
    },
    {
     "name": "stdout",
     "output_type": "stream",
     "text": [
      "Modes -> Glow: False, Particles: False, Mirror: False, Filter: 0\n",
      "Modes -> Glow: False, Particles: False, Mirror: False, Filter: 0\n"
     ]
    },
    {
     "name": "stderr",
     "output_type": "stream",
     "text": [
      "C:\\Users\\GAMING/.cache\\torch\\hub\\ultralytics_yolov5_master\\models\\common.py:894: FutureWarning: `torch.cuda.amp.autocast(args...)` is deprecated. Please use `torch.amp.autocast('cuda', args...)` instead.\n",
      "  with amp.autocast(autocast):\n",
      "C:\\Users\\GAMING/.cache\\torch\\hub\\ultralytics_yolov5_master\\models\\common.py:894: FutureWarning: `torch.cuda.amp.autocast(args...)` is deprecated. Please use `torch.amp.autocast('cuda', args...)` instead.\n",
      "  with amp.autocast(autocast):\n"
     ]
    },
    {
     "name": "stdout",
     "output_type": "stream",
     "text": [
      "Modes -> Glow: False, Particles: False, Mirror: False, Filter: 0\n",
      "Modes -> Glow: False, Particles: False, Mirror: False, Filter: 0\n"
     ]
    },
    {
     "name": "stderr",
     "output_type": "stream",
     "text": [
      "C:\\Users\\GAMING/.cache\\torch\\hub\\ultralytics_yolov5_master\\models\\common.py:894: FutureWarning: `torch.cuda.amp.autocast(args...)` is deprecated. Please use `torch.amp.autocast('cuda', args...)` instead.\n",
      "  with amp.autocast(autocast):\n",
      "C:\\Users\\GAMING/.cache\\torch\\hub\\ultralytics_yolov5_master\\models\\common.py:894: FutureWarning: `torch.cuda.amp.autocast(args...)` is deprecated. Please use `torch.amp.autocast('cuda', args...)` instead.\n",
      "  with amp.autocast(autocast):\n"
     ]
    },
    {
     "name": "stdout",
     "output_type": "stream",
     "text": [
      "Modes -> Glow: False, Particles: False, Mirror: False, Filter: 0\n",
      "Modes -> Glow: False, Particles: False, Mirror: False, Filter: 0\n"
     ]
    },
    {
     "name": "stderr",
     "output_type": "stream",
     "text": [
      "C:\\Users\\GAMING/.cache\\torch\\hub\\ultralytics_yolov5_master\\models\\common.py:894: FutureWarning: `torch.cuda.amp.autocast(args...)` is deprecated. Please use `torch.amp.autocast('cuda', args...)` instead.\n",
      "  with amp.autocast(autocast):\n",
      "C:\\Users\\GAMING/.cache\\torch\\hub\\ultralytics_yolov5_master\\models\\common.py:894: FutureWarning: `torch.cuda.amp.autocast(args...)` is deprecated. Please use `torch.amp.autocast('cuda', args...)` instead.\n",
      "  with amp.autocast(autocast):\n"
     ]
    },
    {
     "name": "stdout",
     "output_type": "stream",
     "text": [
      "Modes -> Glow: False, Particles: False, Mirror: False, Filter: 0\n",
      "Modes -> Glow: False, Particles: False, Mirror: False, Filter: 0\n"
     ]
    },
    {
     "name": "stderr",
     "output_type": "stream",
     "text": [
      "C:\\Users\\GAMING/.cache\\torch\\hub\\ultralytics_yolov5_master\\models\\common.py:894: FutureWarning: `torch.cuda.amp.autocast(args...)` is deprecated. Please use `torch.amp.autocast('cuda', args...)` instead.\n",
      "  with amp.autocast(autocast):\n",
      "C:\\Users\\GAMING/.cache\\torch\\hub\\ultralytics_yolov5_master\\models\\common.py:894: FutureWarning: `torch.cuda.amp.autocast(args...)` is deprecated. Please use `torch.amp.autocast('cuda', args...)` instead.\n",
      "  with amp.autocast(autocast):\n"
     ]
    },
    {
     "name": "stdout",
     "output_type": "stream",
     "text": [
      "Modes -> Glow: False, Particles: False, Mirror: False, Filter: 0\n",
      "Modes -> Glow: False, Particles: False, Mirror: False, Filter: 0\n"
     ]
    },
    {
     "name": "stderr",
     "output_type": "stream",
     "text": [
      "C:\\Users\\GAMING/.cache\\torch\\hub\\ultralytics_yolov5_master\\models\\common.py:894: FutureWarning: `torch.cuda.amp.autocast(args...)` is deprecated. Please use `torch.amp.autocast('cuda', args...)` instead.\n",
      "  with amp.autocast(autocast):\n",
      "C:\\Users\\GAMING/.cache\\torch\\hub\\ultralytics_yolov5_master\\models\\common.py:894: FutureWarning: `torch.cuda.amp.autocast(args...)` is deprecated. Please use `torch.amp.autocast('cuda', args...)` instead.\n",
      "  with amp.autocast(autocast):\n"
     ]
    },
    {
     "name": "stdout",
     "output_type": "stream",
     "text": [
      "Modes -> Glow: False, Particles: False, Mirror: False, Filter: 0\n",
      "Modes -> Glow: False, Particles: False, Mirror: False, Filter: 0\n"
     ]
    },
    {
     "name": "stderr",
     "output_type": "stream",
     "text": [
      "C:\\Users\\GAMING/.cache\\torch\\hub\\ultralytics_yolov5_master\\models\\common.py:894: FutureWarning: `torch.cuda.amp.autocast(args...)` is deprecated. Please use `torch.amp.autocast('cuda', args...)` instead.\n",
      "  with amp.autocast(autocast):\n",
      "C:\\Users\\GAMING/.cache\\torch\\hub\\ultralytics_yolov5_master\\models\\common.py:894: FutureWarning: `torch.cuda.amp.autocast(args...)` is deprecated. Please use `torch.amp.autocast('cuda', args...)` instead.\n",
      "  with amp.autocast(autocast):\n"
     ]
    },
    {
     "name": "stdout",
     "output_type": "stream",
     "text": [
      "Modes -> Glow: False, Particles: False, Mirror: False, Filter: 0\n",
      "Modes -> Glow: False, Particles: False, Mirror: False, Filter: 0\n"
     ]
    },
    {
     "name": "stderr",
     "output_type": "stream",
     "text": [
      "C:\\Users\\GAMING/.cache\\torch\\hub\\ultralytics_yolov5_master\\models\\common.py:894: FutureWarning: `torch.cuda.amp.autocast(args...)` is deprecated. Please use `torch.amp.autocast('cuda', args...)` instead.\n",
      "  with amp.autocast(autocast):\n",
      "C:\\Users\\GAMING/.cache\\torch\\hub\\ultralytics_yolov5_master\\models\\common.py:894: FutureWarning: `torch.cuda.amp.autocast(args...)` is deprecated. Please use `torch.amp.autocast('cuda', args...)` instead.\n",
      "  with amp.autocast(autocast):\n"
     ]
    },
    {
     "name": "stdout",
     "output_type": "stream",
     "text": [
      "Modes -> Glow: False, Particles: False, Mirror: False, Filter: 0\n",
      "Modes -> Glow: False, Particles: False, Mirror: False, Filter: 0\n"
     ]
    },
    {
     "name": "stderr",
     "output_type": "stream",
     "text": [
      "C:\\Users\\GAMING/.cache\\torch\\hub\\ultralytics_yolov5_master\\models\\common.py:894: FutureWarning: `torch.cuda.amp.autocast(args...)` is deprecated. Please use `torch.amp.autocast('cuda', args...)` instead.\n",
      "  with amp.autocast(autocast):\n",
      "C:\\Users\\GAMING/.cache\\torch\\hub\\ultralytics_yolov5_master\\models\\common.py:894: FutureWarning: `torch.cuda.amp.autocast(args...)` is deprecated. Please use `torch.amp.autocast('cuda', args...)` instead.\n",
      "  with amp.autocast(autocast):\n"
     ]
    },
    {
     "name": "stdout",
     "output_type": "stream",
     "text": [
      "Modes -> Glow: False, Particles: False, Mirror: False, Filter: 0\n",
      "Modes -> Glow: False, Particles: False, Mirror: False, Filter: 0\n"
     ]
    },
    {
     "name": "stderr",
     "output_type": "stream",
     "text": [
      "C:\\Users\\GAMING/.cache\\torch\\hub\\ultralytics_yolov5_master\\models\\common.py:894: FutureWarning: `torch.cuda.amp.autocast(args...)` is deprecated. Please use `torch.amp.autocast('cuda', args...)` instead.\n",
      "  with amp.autocast(autocast):\n",
      "C:\\Users\\GAMING/.cache\\torch\\hub\\ultralytics_yolov5_master\\models\\common.py:894: FutureWarning: `torch.cuda.amp.autocast(args...)` is deprecated. Please use `torch.amp.autocast('cuda', args...)` instead.\n",
      "  with amp.autocast(autocast):\n"
     ]
    },
    {
     "name": "stdout",
     "output_type": "stream",
     "text": [
      "Modes -> Glow: False, Particles: False, Mirror: False, Filter: 0\n",
      "Modes -> Glow: False, Particles: False, Mirror: False, Filter: 0\n"
     ]
    },
    {
     "name": "stderr",
     "output_type": "stream",
     "text": [
      "C:\\Users\\GAMING/.cache\\torch\\hub\\ultralytics_yolov5_master\\models\\common.py:894: FutureWarning: `torch.cuda.amp.autocast(args...)` is deprecated. Please use `torch.amp.autocast('cuda', args...)` instead.\n",
      "  with amp.autocast(autocast):\n",
      "C:\\Users\\GAMING/.cache\\torch\\hub\\ultralytics_yolov5_master\\models\\common.py:894: FutureWarning: `torch.cuda.amp.autocast(args...)` is deprecated. Please use `torch.amp.autocast('cuda', args...)` instead.\n",
      "  with amp.autocast(autocast):\n"
     ]
    },
    {
     "name": "stdout",
     "output_type": "stream",
     "text": [
      "Modes -> Glow: False, Particles: False, Mirror: False, Filter: 0\n",
      "Modes -> Glow: False, Particles: False, Mirror: False, Filter: 0\n",
      "Modes -> Glow: False, Particles: False, Mirror: False, Filter: 0\n",
      "Modes -> Glow: False, Particles: False, Mirror: False, Filter: 0\n"
     ]
    },
    {
     "name": "stderr",
     "output_type": "stream",
     "text": [
      "C:\\Users\\GAMING/.cache\\torch\\hub\\ultralytics_yolov5_master\\models\\common.py:894: FutureWarning: `torch.cuda.amp.autocast(args...)` is deprecated. Please use `torch.amp.autocast('cuda', args...)` instead.\n",
      "  with amp.autocast(autocast):\n",
      "C:\\Users\\GAMING/.cache\\torch\\hub\\ultralytics_yolov5_master\\models\\common.py:894: FutureWarning: `torch.cuda.amp.autocast(args...)` is deprecated. Please use `torch.amp.autocast('cuda', args...)` instead.\n",
      "  with amp.autocast(autocast):\n"
     ]
    },
    {
     "name": "stdout",
     "output_type": "stream",
     "text": [
      "Modes -> Glow: False, Particles: False, Mirror: False, Filter: 0\n",
      "Modes -> Glow: False, Particles: False, Mirror: False, Filter: 0\n",
      "Modes -> Glow: False, Particles: False, Mirror: False, Filter: 0\n",
      "Modes -> Glow: False, Particles: False, Mirror: False, Filter: 0\n"
     ]
    },
    {
     "name": "stderr",
     "output_type": "stream",
     "text": [
      "C:\\Users\\GAMING/.cache\\torch\\hub\\ultralytics_yolov5_master\\models\\common.py:894: FutureWarning: `torch.cuda.amp.autocast(args...)` is deprecated. Please use `torch.amp.autocast('cuda', args...)` instead.\n",
      "  with amp.autocast(autocast):\n",
      "C:\\Users\\GAMING/.cache\\torch\\hub\\ultralytics_yolov5_master\\models\\common.py:894: FutureWarning: `torch.cuda.amp.autocast(args...)` is deprecated. Please use `torch.amp.autocast('cuda', args...)` instead.\n",
      "  with amp.autocast(autocast):\n"
     ]
    },
    {
     "name": "stdout",
     "output_type": "stream",
     "text": [
      "Modes -> Glow: False, Particles: False, Mirror: False, Filter: 0\n"
     ]
    },
    {
     "name": "stderr",
     "output_type": "stream",
     "text": [
      "C:\\Users\\GAMING/.cache\\torch\\hub\\ultralytics_yolov5_master\\models\\common.py:894: FutureWarning: `torch.cuda.amp.autocast(args...)` is deprecated. Please use `torch.amp.autocast('cuda', args...)` instead.\n",
      "  with amp.autocast(autocast):\n"
     ]
    },
    {
     "name": "stdout",
     "output_type": "stream",
     "text": [
      "Modes -> Glow: False, Particles: False, Mirror: False, Filter: 0\n",
      "Modes -> Glow: False, Particles: False, Mirror: False, Filter: 0\n"
     ]
    },
    {
     "name": "stderr",
     "output_type": "stream",
     "text": [
      "C:\\Users\\GAMING/.cache\\torch\\hub\\ultralytics_yolov5_master\\models\\common.py:894: FutureWarning: `torch.cuda.amp.autocast(args...)` is deprecated. Please use `torch.amp.autocast('cuda', args...)` instead.\n",
      "  with amp.autocast(autocast):\n",
      "C:\\Users\\GAMING/.cache\\torch\\hub\\ultralytics_yolov5_master\\models\\common.py:894: FutureWarning: `torch.cuda.amp.autocast(args...)` is deprecated. Please use `torch.amp.autocast('cuda', args...)` instead.\n",
      "  with amp.autocast(autocast):\n"
     ]
    },
    {
     "name": "stdout",
     "output_type": "stream",
     "text": [
      "Modes -> Glow: False, Particles: False, Mirror: False, Filter: 0\n",
      "Modes -> Glow: False, Particles: False, Mirror: False, Filter: 0\n"
     ]
    },
    {
     "name": "stderr",
     "output_type": "stream",
     "text": [
      "C:\\Users\\GAMING/.cache\\torch\\hub\\ultralytics_yolov5_master\\models\\common.py:894: FutureWarning: `torch.cuda.amp.autocast(args...)` is deprecated. Please use `torch.amp.autocast('cuda', args...)` instead.\n",
      "  with amp.autocast(autocast):\n",
      "C:\\Users\\GAMING/.cache\\torch\\hub\\ultralytics_yolov5_master\\models\\common.py:894: FutureWarning: `torch.cuda.amp.autocast(args...)` is deprecated. Please use `torch.amp.autocast('cuda', args...)` instead.\n",
      "  with amp.autocast(autocast):\n"
     ]
    },
    {
     "name": "stdout",
     "output_type": "stream",
     "text": [
      "Modes -> Glow: False, Particles: False, Mirror: False, Filter: 0\n",
      "Modes -> Glow: False, Particles: False, Mirror: False, Filter: 0\n"
     ]
    },
    {
     "name": "stderr",
     "output_type": "stream",
     "text": [
      "C:\\Users\\GAMING/.cache\\torch\\hub\\ultralytics_yolov5_master\\models\\common.py:894: FutureWarning: `torch.cuda.amp.autocast(args...)` is deprecated. Please use `torch.amp.autocast('cuda', args...)` instead.\n",
      "  with amp.autocast(autocast):\n",
      "C:\\Users\\GAMING/.cache\\torch\\hub\\ultralytics_yolov5_master\\models\\common.py:894: FutureWarning: `torch.cuda.amp.autocast(args...)` is deprecated. Please use `torch.amp.autocast('cuda', args...)` instead.\n",
      "  with amp.autocast(autocast):\n"
     ]
    },
    {
     "name": "stdout",
     "output_type": "stream",
     "text": [
      "Modes -> Glow: False, Particles: False, Mirror: False, Filter: 0\n",
      "Modes -> Glow: False, Particles: False, Mirror: False, Filter: 0\n",
      "Modes -> Glow: False, Particles: False, Mirror: False, Filter: 0\n",
      "Modes -> Glow: False, Particles: False, Mirror: False, Filter: 0\n"
     ]
    },
    {
     "name": "stderr",
     "output_type": "stream",
     "text": [
      "C:\\Users\\GAMING/.cache\\torch\\hub\\ultralytics_yolov5_master\\models\\common.py:894: FutureWarning: `torch.cuda.amp.autocast(args...)` is deprecated. Please use `torch.amp.autocast('cuda', args...)` instead.\n",
      "  with amp.autocast(autocast):\n",
      "C:\\Users\\GAMING/.cache\\torch\\hub\\ultralytics_yolov5_master\\models\\common.py:894: FutureWarning: `torch.cuda.amp.autocast(args...)` is deprecated. Please use `torch.amp.autocast('cuda', args...)` instead.\n",
      "  with amp.autocast(autocast):\n"
     ]
    },
    {
     "name": "stdout",
     "output_type": "stream",
     "text": [
      "Modes -> Glow: False, Particles: False, Mirror: False, Filter: 0\n",
      "Modes -> Glow: False, Particles: False, Mirror: False, Filter: 0\n"
     ]
    },
    {
     "name": "stderr",
     "output_type": "stream",
     "text": [
      "C:\\Users\\GAMING/.cache\\torch\\hub\\ultralytics_yolov5_master\\models\\common.py:894: FutureWarning: `torch.cuda.amp.autocast(args...)` is deprecated. Please use `torch.amp.autocast('cuda', args...)` instead.\n",
      "  with amp.autocast(autocast):\n",
      "C:\\Users\\GAMING/.cache\\torch\\hub\\ultralytics_yolov5_master\\models\\common.py:894: FutureWarning: `torch.cuda.amp.autocast(args...)` is deprecated. Please use `torch.amp.autocast('cuda', args...)` instead.\n",
      "  with amp.autocast(autocast):\n"
     ]
    },
    {
     "name": "stdout",
     "output_type": "stream",
     "text": [
      "Modes -> Glow: False, Particles: False, Mirror: False, Filter: 0\n",
      "Modes -> Glow: False, Particles: False, Mirror: False, Filter: 0\n",
      "Modes -> Glow: False, Particles: False, Mirror: False, Filter: 0\n",
      "Modes -> Glow: False, Particles: False, Mirror: False, Filter: 0\n"
     ]
    },
    {
     "name": "stderr",
     "output_type": "stream",
     "text": [
      "C:\\Users\\GAMING/.cache\\torch\\hub\\ultralytics_yolov5_master\\models\\common.py:894: FutureWarning: `torch.cuda.amp.autocast(args...)` is deprecated. Please use `torch.amp.autocast('cuda', args...)` instead.\n",
      "  with amp.autocast(autocast):\n",
      "C:\\Users\\GAMING/.cache\\torch\\hub\\ultralytics_yolov5_master\\models\\common.py:894: FutureWarning: `torch.cuda.amp.autocast(args...)` is deprecated. Please use `torch.amp.autocast('cuda', args...)` instead.\n",
      "  with amp.autocast(autocast):\n"
     ]
    },
    {
     "name": "stdout",
     "output_type": "stream",
     "text": [
      "Modes -> Glow: False, Particles: False, Mirror: False, Filter: 0\n",
      "Modes -> Glow: False, Particles: False, Mirror: False, Filter: 0\n"
     ]
    },
    {
     "name": "stderr",
     "output_type": "stream",
     "text": [
      "C:\\Users\\GAMING/.cache\\torch\\hub\\ultralytics_yolov5_master\\models\\common.py:894: FutureWarning: `torch.cuda.amp.autocast(args...)` is deprecated. Please use `torch.amp.autocast('cuda', args...)` instead.\n",
      "  with amp.autocast(autocast):\n",
      "C:\\Users\\GAMING/.cache\\torch\\hub\\ultralytics_yolov5_master\\models\\common.py:894: FutureWarning: `torch.cuda.amp.autocast(args...)` is deprecated. Please use `torch.amp.autocast('cuda', args...)` instead.\n",
      "  with amp.autocast(autocast):\n"
     ]
    },
    {
     "name": "stdout",
     "output_type": "stream",
     "text": [
      "Modes -> Glow: False, Particles: False, Mirror: False, Filter: 0\n",
      "Modes -> Glow: False, Particles: False, Mirror: False, Filter: 0\n"
     ]
    },
    {
     "name": "stderr",
     "output_type": "stream",
     "text": [
      "C:\\Users\\GAMING/.cache\\torch\\hub\\ultralytics_yolov5_master\\models\\common.py:894: FutureWarning: `torch.cuda.amp.autocast(args...)` is deprecated. Please use `torch.amp.autocast('cuda', args...)` instead.\n",
      "  with amp.autocast(autocast):\n",
      "C:\\Users\\GAMING/.cache\\torch\\hub\\ultralytics_yolov5_master\\models\\common.py:894: FutureWarning: `torch.cuda.amp.autocast(args...)` is deprecated. Please use `torch.amp.autocast('cuda', args...)` instead.\n",
      "  with amp.autocast(autocast):\n"
     ]
    },
    {
     "name": "stdout",
     "output_type": "stream",
     "text": [
      "Modes -> Glow: False, Particles: False, Mirror: False, Filter: 0\n",
      "Modes -> Glow: False, Particles: False, Mirror: False, Filter: 0\n"
     ]
    },
    {
     "name": "stderr",
     "output_type": "stream",
     "text": [
      "C:\\Users\\GAMING/.cache\\torch\\hub\\ultralytics_yolov5_master\\models\\common.py:894: FutureWarning: `torch.cuda.amp.autocast(args...)` is deprecated. Please use `torch.amp.autocast('cuda', args...)` instead.\n",
      "  with amp.autocast(autocast):\n",
      "C:\\Users\\GAMING/.cache\\torch\\hub\\ultralytics_yolov5_master\\models\\common.py:894: FutureWarning: `torch.cuda.amp.autocast(args...)` is deprecated. Please use `torch.amp.autocast('cuda', args...)` instead.\n",
      "  with amp.autocast(autocast):\n"
     ]
    },
    {
     "name": "stdout",
     "output_type": "stream",
     "text": [
      "Modes -> Glow: False, Particles: False, Mirror: False, Filter: 0\n",
      "Modes -> Glow: False, Particles: False, Mirror: False, Filter: 0\n"
     ]
    },
    {
     "name": "stderr",
     "output_type": "stream",
     "text": [
      "C:\\Users\\GAMING/.cache\\torch\\hub\\ultralytics_yolov5_master\\models\\common.py:894: FutureWarning: `torch.cuda.amp.autocast(args...)` is deprecated. Please use `torch.amp.autocast('cuda', args...)` instead.\n",
      "  with amp.autocast(autocast):\n",
      "C:\\Users\\GAMING/.cache\\torch\\hub\\ultralytics_yolov5_master\\models\\common.py:894: FutureWarning: `torch.cuda.amp.autocast(args...)` is deprecated. Please use `torch.amp.autocast('cuda', args...)` instead.\n",
      "  with amp.autocast(autocast):\n"
     ]
    },
    {
     "name": "stdout",
     "output_type": "stream",
     "text": [
      "Modes -> Glow: False, Particles: False, Mirror: False, Filter: 0\n",
      "Modes -> Glow: False, Particles: False, Mirror: False, Filter: 0\n"
     ]
    },
    {
     "name": "stderr",
     "output_type": "stream",
     "text": [
      "C:\\Users\\GAMING/.cache\\torch\\hub\\ultralytics_yolov5_master\\models\\common.py:894: FutureWarning: `torch.cuda.amp.autocast(args...)` is deprecated. Please use `torch.amp.autocast('cuda', args...)` instead.\n",
      "  with amp.autocast(autocast):\n",
      "C:\\Users\\GAMING/.cache\\torch\\hub\\ultralytics_yolov5_master\\models\\common.py:894: FutureWarning: `torch.cuda.amp.autocast(args...)` is deprecated. Please use `torch.amp.autocast('cuda', args...)` instead.\n",
      "  with amp.autocast(autocast):\n"
     ]
    },
    {
     "name": "stdout",
     "output_type": "stream",
     "text": [
      "Modes -> Glow: False, Particles: False, Mirror: False, Filter: 0\n",
      "Modes -> Glow: False, Particles: False, Mirror: False, Filter: 0\n"
     ]
    },
    {
     "name": "stderr",
     "output_type": "stream",
     "text": [
      "C:\\Users\\GAMING/.cache\\torch\\hub\\ultralytics_yolov5_master\\models\\common.py:894: FutureWarning: `torch.cuda.amp.autocast(args...)` is deprecated. Please use `torch.amp.autocast('cuda', args...)` instead.\n",
      "  with amp.autocast(autocast):\n",
      "C:\\Users\\GAMING/.cache\\torch\\hub\\ultralytics_yolov5_master\\models\\common.py:894: FutureWarning: `torch.cuda.amp.autocast(args...)` is deprecated. Please use `torch.amp.autocast('cuda', args...)` instead.\n",
      "  with amp.autocast(autocast):\n"
     ]
    },
    {
     "name": "stdout",
     "output_type": "stream",
     "text": [
      "Modes -> Glow: False, Particles: False, Mirror: False, Filter: 0\n",
      "Modes -> Glow: False, Particles: False, Mirror: False, Filter: 0\n"
     ]
    },
    {
     "name": "stderr",
     "output_type": "stream",
     "text": [
      "C:\\Users\\GAMING/.cache\\torch\\hub\\ultralytics_yolov5_master\\models\\common.py:894: FutureWarning: `torch.cuda.amp.autocast(args...)` is deprecated. Please use `torch.amp.autocast('cuda', args...)` instead.\n",
      "  with amp.autocast(autocast):\n",
      "C:\\Users\\GAMING/.cache\\torch\\hub\\ultralytics_yolov5_master\\models\\common.py:894: FutureWarning: `torch.cuda.amp.autocast(args...)` is deprecated. Please use `torch.amp.autocast('cuda', args...)` instead.\n",
      "  with amp.autocast(autocast):\n"
     ]
    },
    {
     "name": "stdout",
     "output_type": "stream",
     "text": [
      "Modes -> Glow: False, Particles: False, Mirror: False, Filter: 0\n",
      "Modes -> Glow: False, Particles: False, Mirror: False, Filter: 0\n"
     ]
    },
    {
     "name": "stderr",
     "output_type": "stream",
     "text": [
      "C:\\Users\\GAMING/.cache\\torch\\hub\\ultralytics_yolov5_master\\models\\common.py:894: FutureWarning: `torch.cuda.amp.autocast(args...)` is deprecated. Please use `torch.amp.autocast('cuda', args...)` instead.\n",
      "  with amp.autocast(autocast):\n"
     ]
    },
    {
     "name": "stdout",
     "output_type": "stream",
     "text": [
      "Modes -> Glow: False, Particles: False, Mirror: False, Filter: 0\n",
      "Modes -> Glow: False, Particles: False, Mirror: False, Filter: 0\n"
     ]
    },
    {
     "name": "stderr",
     "output_type": "stream",
     "text": [
      "C:\\Users\\GAMING/.cache\\torch\\hub\\ultralytics_yolov5_master\\models\\common.py:894: FutureWarning: `torch.cuda.amp.autocast(args...)` is deprecated. Please use `torch.amp.autocast('cuda', args...)` instead.\n",
      "  with amp.autocast(autocast):\n",
      "C:\\Users\\GAMING/.cache\\torch\\hub\\ultralytics_yolov5_master\\models\\common.py:894: FutureWarning: `torch.cuda.amp.autocast(args...)` is deprecated. Please use `torch.amp.autocast('cuda', args...)` instead.\n",
      "  with amp.autocast(autocast):\n"
     ]
    },
    {
     "name": "stdout",
     "output_type": "stream",
     "text": [
      "Modes -> Glow: False, Particles: False, Mirror: False, Filter: 0\n",
      "Modes -> Glow: False, Particles: False, Mirror: False, Filter: 0\n",
      "Modes -> Glow: False, Particles: False, Mirror: False, Filter: 0\n"
     ]
    },
    {
     "name": "stderr",
     "output_type": "stream",
     "text": [
      "C:\\Users\\GAMING/.cache\\torch\\hub\\ultralytics_yolov5_master\\models\\common.py:894: FutureWarning: `torch.cuda.amp.autocast(args...)` is deprecated. Please use `torch.amp.autocast('cuda', args...)` instead.\n",
      "  with amp.autocast(autocast):\n"
     ]
    },
    {
     "name": "stdout",
     "output_type": "stream",
     "text": [
      "Modes -> Glow: False, Particles: False, Mirror: False, Filter: 0\n",
      "Modes -> Glow: False, Particles: False, Mirror: False, Filter: 0\n",
      "Modes -> Glow: False, Particles: False, Mirror: False, Filter: 0\n"
     ]
    },
    {
     "name": "stderr",
     "output_type": "stream",
     "text": [
      "C:\\Users\\GAMING/.cache\\torch\\hub\\ultralytics_yolov5_master\\models\\common.py:894: FutureWarning: `torch.cuda.amp.autocast(args...)` is deprecated. Please use `torch.amp.autocast('cuda', args...)` instead.\n",
      "  with amp.autocast(autocast):\n",
      "C:\\Users\\GAMING/.cache\\torch\\hub\\ultralytics_yolov5_master\\models\\common.py:894: FutureWarning: `torch.cuda.amp.autocast(args...)` is deprecated. Please use `torch.amp.autocast('cuda', args...)` instead.\n",
      "  with amp.autocast(autocast):\n"
     ]
    },
    {
     "name": "stdout",
     "output_type": "stream",
     "text": [
      "Modes -> Glow: False, Particles: False, Mirror: False, Filter: 0\n",
      "Modes -> Glow: False, Particles: False, Mirror: False, Filter: 0\n"
     ]
    },
    {
     "name": "stderr",
     "output_type": "stream",
     "text": [
      "C:\\Users\\GAMING/.cache\\torch\\hub\\ultralytics_yolov5_master\\models\\common.py:894: FutureWarning: `torch.cuda.amp.autocast(args...)` is deprecated. Please use `torch.amp.autocast('cuda', args...)` instead.\n",
      "  with amp.autocast(autocast):\n",
      "C:\\Users\\GAMING/.cache\\torch\\hub\\ultralytics_yolov5_master\\models\\common.py:894: FutureWarning: `torch.cuda.amp.autocast(args...)` is deprecated. Please use `torch.amp.autocast('cuda', args...)` instead.\n",
      "  with amp.autocast(autocast):\n"
     ]
    },
    {
     "name": "stdout",
     "output_type": "stream",
     "text": [
      "Modes -> Glow: False, Particles: False, Mirror: False, Filter: 0\n",
      "Modes -> Glow: False, Particles: False, Mirror: False, Filter: 0\n",
      "Modes -> Glow: False, Particles: False, Mirror: False, Filter: 0\n"
     ]
    },
    {
     "name": "stderr",
     "output_type": "stream",
     "text": [
      "C:\\Users\\GAMING/.cache\\torch\\hub\\ultralytics_yolov5_master\\models\\common.py:894: FutureWarning: `torch.cuda.amp.autocast(args...)` is deprecated. Please use `torch.amp.autocast('cuda', args...)` instead.\n",
      "  with amp.autocast(autocast):\n"
     ]
    },
    {
     "name": "stdout",
     "output_type": "stream",
     "text": [
      "Modes -> Glow: True, Particles: False, Mirror: False, Filter: 0\n",
      "Modes -> Glow: True, Particles: False, Mirror: False, Filter: 0\n",
      "Modes -> Glow: True, Particles: False, Mirror: False, Filter: 0\n"
     ]
    },
    {
     "name": "stderr",
     "output_type": "stream",
     "text": [
      "C:\\Users\\GAMING/.cache\\torch\\hub\\ultralytics_yolov5_master\\models\\common.py:894: FutureWarning: `torch.cuda.amp.autocast(args...)` is deprecated. Please use `torch.amp.autocast('cuda', args...)` instead.\n",
      "  with amp.autocast(autocast):\n"
     ]
    },
    {
     "name": "stdout",
     "output_type": "stream",
     "text": [
      "Modes -> Glow: True, Particles: False, Mirror: False, Filter: 0\n",
      "Modes -> Glow: True, Particles: False, Mirror: False, Filter: 0\n",
      "Modes -> Glow: True, Particles: False, Mirror: False, Filter: 0\n"
     ]
    },
    {
     "name": "stderr",
     "output_type": "stream",
     "text": [
      "C:\\Users\\GAMING/.cache\\torch\\hub\\ultralytics_yolov5_master\\models\\common.py:894: FutureWarning: `torch.cuda.amp.autocast(args...)` is deprecated. Please use `torch.amp.autocast('cuda', args...)` instead.\n",
      "  with amp.autocast(autocast):\n",
      "C:\\Users\\GAMING/.cache\\torch\\hub\\ultralytics_yolov5_master\\models\\common.py:894: FutureWarning: `torch.cuda.amp.autocast(args...)` is deprecated. Please use `torch.amp.autocast('cuda', args...)` instead.\n",
      "  with amp.autocast(autocast):\n",
      "C:\\Users\\GAMING/.cache\\torch\\hub\\ultralytics_yolov5_master\\models\\common.py:894: FutureWarning: `torch.cuda.amp.autocast(args...)` is deprecated. Please use `torch.amp.autocast('cuda', args...)` instead.\n",
      "  with amp.autocast(autocast):\n"
     ]
    },
    {
     "name": "stdout",
     "output_type": "stream",
     "text": [
      "Modes -> Glow: True, Particles: False, Mirror: False, Filter: 0\n",
      "Modes -> Glow: True, Particles: False, Mirror: False, Filter: 0\n",
      "Modes -> Glow: True, Particles: False, Mirror: False, Filter: 0\n",
      "Modes -> Glow: True, Particles: False, Mirror: False, Filter: 0\n",
      "Modes -> Glow: True, Particles: False, Mirror: False, Filter: 0\n",
      "Modes -> Glow: False, Particles: False, Mirror: False, Filter: 0\n"
     ]
    },
    {
     "name": "stderr",
     "output_type": "stream",
     "text": [
      "C:\\Users\\GAMING/.cache\\torch\\hub\\ultralytics_yolov5_master\\models\\common.py:894: FutureWarning: `torch.cuda.amp.autocast(args...)` is deprecated. Please use `torch.amp.autocast('cuda', args...)` instead.\n",
      "  with amp.autocast(autocast):\n",
      "C:\\Users\\GAMING/.cache\\torch\\hub\\ultralytics_yolov5_master\\models\\common.py:894: FutureWarning: `torch.cuda.amp.autocast(args...)` is deprecated. Please use `torch.amp.autocast('cuda', args...)` instead.\n",
      "  with amp.autocast(autocast):\n"
     ]
    },
    {
     "name": "stdout",
     "output_type": "stream",
     "text": [
      "Modes -> Glow: False, Particles: False, Mirror: False, Filter: 0\n",
      "Modes -> Glow: False, Particles: False, Mirror: False, Filter: 0\n",
      "Modes -> Glow: False, Particles: False, Mirror: False, Filter: 0\n"
     ]
    },
    {
     "name": "stderr",
     "output_type": "stream",
     "text": [
      "C:\\Users\\GAMING/.cache\\torch\\hub\\ultralytics_yolov5_master\\models\\common.py:894: FutureWarning: `torch.cuda.amp.autocast(args...)` is deprecated. Please use `torch.amp.autocast('cuda', args...)` instead.\n",
      "  with amp.autocast(autocast):\n",
      "C:\\Users\\GAMING/.cache\\torch\\hub\\ultralytics_yolov5_master\\models\\common.py:894: FutureWarning: `torch.cuda.amp.autocast(args...)` is deprecated. Please use `torch.amp.autocast('cuda', args...)` instead.\n",
      "  with amp.autocast(autocast):\n",
      "C:\\Users\\GAMING/.cache\\torch\\hub\\ultralytics_yolov5_master\\models\\common.py:894: FutureWarning: `torch.cuda.amp.autocast(args...)` is deprecated. Please use `torch.amp.autocast('cuda', args...)` instead.\n",
      "  with amp.autocast(autocast):\n"
     ]
    },
    {
     "name": "stdout",
     "output_type": "stream",
     "text": [
      "Modes -> Glow: False, Particles: False, Mirror: False, Filter: 0\n",
      "Modes -> Glow: False, Particles: False, Mirror: False, Filter: 0\n",
      "Modes -> Glow: False, Particles: False, Mirror: False, Filter: 0\n"
     ]
    },
    {
     "name": "stderr",
     "output_type": "stream",
     "text": [
      "C:\\Users\\GAMING/.cache\\torch\\hub\\ultralytics_yolov5_master\\models\\common.py:894: FutureWarning: `torch.cuda.amp.autocast(args...)` is deprecated. Please use `torch.amp.autocast('cuda', args...)` instead.\n",
      "  with amp.autocast(autocast):\n",
      "C:\\Users\\GAMING/.cache\\torch\\hub\\ultralytics_yolov5_master\\models\\common.py:894: FutureWarning: `torch.cuda.amp.autocast(args...)` is deprecated. Please use `torch.amp.autocast('cuda', args...)` instead.\n",
      "  with amp.autocast(autocast):\n"
     ]
    },
    {
     "name": "stdout",
     "output_type": "stream",
     "text": [
      "Modes -> Glow: False, Particles: False, Mirror: False, Filter: 0\n",
      "Modes -> Glow: False, Particles: False, Mirror: False, Filter: 0\n",
      "Modes -> Glow: False, Particles: False, Mirror: False, Filter: 0\n"
     ]
    },
    {
     "name": "stderr",
     "output_type": "stream",
     "text": [
      "C:\\Users\\GAMING/.cache\\torch\\hub\\ultralytics_yolov5_master\\models\\common.py:894: FutureWarning: `torch.cuda.amp.autocast(args...)` is deprecated. Please use `torch.amp.autocast('cuda', args...)` instead.\n",
      "  with amp.autocast(autocast):\n",
      "C:\\Users\\GAMING/.cache\\torch\\hub\\ultralytics_yolov5_master\\models\\common.py:894: FutureWarning: `torch.cuda.amp.autocast(args...)` is deprecated. Please use `torch.amp.autocast('cuda', args...)` instead.\n",
      "  with amp.autocast(autocast):\n"
     ]
    },
    {
     "name": "stdout",
     "output_type": "stream",
     "text": [
      "Modes -> Glow: False, Particles: False, Mirror: False, Filter: 0\n",
      "Modes -> Glow: False, Particles: True, Mirror: False, Filter: 0\n",
      "Modes -> Glow: False, Particles: True, Mirror: False, Filter: 0\n",
      "Modes -> Glow: False, Particles: True, Mirror: False, Filter: 0\n",
      "Modes -> Glow: False, Particles: True, Mirror: False, Filter: 0\n",
      "Modes -> Glow: False, Particles: True, Mirror: False, Filter: 0\n"
     ]
    },
    {
     "name": "stderr",
     "output_type": "stream",
     "text": [
      "C:\\Users\\GAMING/.cache\\torch\\hub\\ultralytics_yolov5_master\\models\\common.py:894: FutureWarning: `torch.cuda.amp.autocast(args...)` is deprecated. Please use `torch.amp.autocast('cuda', args...)` instead.\n",
      "  with amp.autocast(autocast):\n"
     ]
    },
    {
     "name": "stdout",
     "output_type": "stream",
     "text": [
      "Modes -> Glow: False, Particles: True, Mirror: False, Filter: 0\n",
      "Modes -> Glow: False, Particles: True, Mirror: False, Filter: 0\n",
      "Modes -> Glow: False, Particles: True, Mirror: False, Filter: 0\n",
      "Modes -> Glow: False, Particles: True, Mirror: False, Filter: 0\n",
      "Modes -> Glow: False, Particles: True, Mirror: False, Filter: 0\n"
     ]
    },
    {
     "name": "stderr",
     "output_type": "stream",
     "text": [
      "C:\\Users\\GAMING/.cache\\torch\\hub\\ultralytics_yolov5_master\\models\\common.py:894: FutureWarning: `torch.cuda.amp.autocast(args...)` is deprecated. Please use `torch.amp.autocast('cuda', args...)` instead.\n",
      "  with amp.autocast(autocast):\n"
     ]
    },
    {
     "name": "stdout",
     "output_type": "stream",
     "text": [
      "Modes -> Glow: False, Particles: True, Mirror: False, Filter: 0\n",
      "Modes -> Glow: False, Particles: True, Mirror: False, Filter: 0\n"
     ]
    },
    {
     "name": "stderr",
     "output_type": "stream",
     "text": [
      "C:\\Users\\GAMING/.cache\\torch\\hub\\ultralytics_yolov5_master\\models\\common.py:894: FutureWarning: `torch.cuda.amp.autocast(args...)` is deprecated. Please use `torch.amp.autocast('cuda', args...)` instead.\n",
      "  with amp.autocast(autocast):\n",
      "C:\\Users\\GAMING/.cache\\torch\\hub\\ultralytics_yolov5_master\\models\\common.py:894: FutureWarning: `torch.cuda.amp.autocast(args...)` is deprecated. Please use `torch.amp.autocast('cuda', args...)` instead.\n",
      "  with amp.autocast(autocast):\n"
     ]
    },
    {
     "name": "stdout",
     "output_type": "stream",
     "text": [
      "Modes -> Glow: False, Particles: True, Mirror: False, Filter: 0\n",
      "Modes -> Glow: False, Particles: True, Mirror: False, Filter: 0\n"
     ]
    },
    {
     "name": "stderr",
     "output_type": "stream",
     "text": [
      "C:\\Users\\GAMING/.cache\\torch\\hub\\ultralytics_yolov5_master\\models\\common.py:894: FutureWarning: `torch.cuda.amp.autocast(args...)` is deprecated. Please use `torch.amp.autocast('cuda', args...)` instead.\n",
      "  with amp.autocast(autocast):\n",
      "C:\\Users\\GAMING/.cache\\torch\\hub\\ultralytics_yolov5_master\\models\\common.py:894: FutureWarning: `torch.cuda.amp.autocast(args...)` is deprecated. Please use `torch.amp.autocast('cuda', args...)` instead.\n",
      "  with amp.autocast(autocast):\n"
     ]
    },
    {
     "name": "stdout",
     "output_type": "stream",
     "text": [
      "Modes -> Glow: False, Particles: True, Mirror: False, Filter: 0\n",
      "Modes -> Glow: False, Particles: True, Mirror: False, Filter: 0\n"
     ]
    },
    {
     "name": "stderr",
     "output_type": "stream",
     "text": [
      "C:\\Users\\GAMING/.cache\\torch\\hub\\ultralytics_yolov5_master\\models\\common.py:894: FutureWarning: `torch.cuda.amp.autocast(args...)` is deprecated. Please use `torch.amp.autocast('cuda', args...)` instead.\n",
      "  with amp.autocast(autocast):\n",
      "C:\\Users\\GAMING/.cache\\torch\\hub\\ultralytics_yolov5_master\\models\\common.py:894: FutureWarning: `torch.cuda.amp.autocast(args...)` is deprecated. Please use `torch.amp.autocast('cuda', args...)` instead.\n",
      "  with amp.autocast(autocast):\n"
     ]
    },
    {
     "name": "stdout",
     "output_type": "stream",
     "text": [
      "Modes -> Glow: False, Particles: True, Mirror: False, Filter: 0\n",
      "Modes -> Glow: False, Particles: True, Mirror: False, Filter: 0\n"
     ]
    },
    {
     "name": "stderr",
     "output_type": "stream",
     "text": [
      "C:\\Users\\GAMING/.cache\\torch\\hub\\ultralytics_yolov5_master\\models\\common.py:894: FutureWarning: `torch.cuda.amp.autocast(args...)` is deprecated. Please use `torch.amp.autocast('cuda', args...)` instead.\n",
      "  with amp.autocast(autocast):\n",
      "C:\\Users\\GAMING/.cache\\torch\\hub\\ultralytics_yolov5_master\\models\\common.py:894: FutureWarning: `torch.cuda.amp.autocast(args...)` is deprecated. Please use `torch.amp.autocast('cuda', args...)` instead.\n",
      "  with amp.autocast(autocast):\n"
     ]
    },
    {
     "name": "stdout",
     "output_type": "stream",
     "text": [
      "Modes -> Glow: False, Particles: True, Mirror: False, Filter: 0\n",
      "Modes -> Glow: False, Particles: True, Mirror: False, Filter: 0\n"
     ]
    },
    {
     "name": "stderr",
     "output_type": "stream",
     "text": [
      "C:\\Users\\GAMING/.cache\\torch\\hub\\ultralytics_yolov5_master\\models\\common.py:894: FutureWarning: `torch.cuda.amp.autocast(args...)` is deprecated. Please use `torch.amp.autocast('cuda', args...)` instead.\n",
      "  with amp.autocast(autocast):\n",
      "C:\\Users\\GAMING/.cache\\torch\\hub\\ultralytics_yolov5_master\\models\\common.py:894: FutureWarning: `torch.cuda.amp.autocast(args...)` is deprecated. Please use `torch.amp.autocast('cuda', args...)` instead.\n",
      "  with amp.autocast(autocast):\n"
     ]
    },
    {
     "name": "stdout",
     "output_type": "stream",
     "text": [
      "Modes -> Glow: False, Particles: True, Mirror: False, Filter: 0\n",
      "Modes -> Glow: False, Particles: True, Mirror: False, Filter: 0\n"
     ]
    },
    {
     "name": "stderr",
     "output_type": "stream",
     "text": [
      "C:\\Users\\GAMING/.cache\\torch\\hub\\ultralytics_yolov5_master\\models\\common.py:894: FutureWarning: `torch.cuda.amp.autocast(args...)` is deprecated. Please use `torch.amp.autocast('cuda', args...)` instead.\n",
      "  with amp.autocast(autocast):\n",
      "C:\\Users\\GAMING/.cache\\torch\\hub\\ultralytics_yolov5_master\\models\\common.py:894: FutureWarning: `torch.cuda.amp.autocast(args...)` is deprecated. Please use `torch.amp.autocast('cuda', args...)` instead.\n",
      "  with amp.autocast(autocast):\n"
     ]
    },
    {
     "name": "stdout",
     "output_type": "stream",
     "text": [
      "Modes -> Glow: False, Particles: True, Mirror: False, Filter: 0\n",
      "Modes -> Glow: False, Particles: True, Mirror: False, Filter: 0\n"
     ]
    },
    {
     "name": "stderr",
     "output_type": "stream",
     "text": [
      "C:\\Users\\GAMING/.cache\\torch\\hub\\ultralytics_yolov5_master\\models\\common.py:894: FutureWarning: `torch.cuda.amp.autocast(args...)` is deprecated. Please use `torch.amp.autocast('cuda', args...)` instead.\n",
      "  with amp.autocast(autocast):\n",
      "C:\\Users\\GAMING/.cache\\torch\\hub\\ultralytics_yolov5_master\\models\\common.py:894: FutureWarning: `torch.cuda.amp.autocast(args...)` is deprecated. Please use `torch.amp.autocast('cuda', args...)` instead.\n",
      "  with amp.autocast(autocast):\n"
     ]
    },
    {
     "name": "stdout",
     "output_type": "stream",
     "text": [
      "Modes -> Glow: False, Particles: True, Mirror: False, Filter: 0\n",
      "Modes -> Glow: False, Particles: True, Mirror: False, Filter: 0\n"
     ]
    },
    {
     "name": "stderr",
     "output_type": "stream",
     "text": [
      "C:\\Users\\GAMING/.cache\\torch\\hub\\ultralytics_yolov5_master\\models\\common.py:894: FutureWarning: `torch.cuda.amp.autocast(args...)` is deprecated. Please use `torch.amp.autocast('cuda', args...)` instead.\n",
      "  with amp.autocast(autocast):\n",
      "C:\\Users\\GAMING/.cache\\torch\\hub\\ultralytics_yolov5_master\\models\\common.py:894: FutureWarning: `torch.cuda.amp.autocast(args...)` is deprecated. Please use `torch.amp.autocast('cuda', args...)` instead.\n",
      "  with amp.autocast(autocast):\n"
     ]
    },
    {
     "name": "stdout",
     "output_type": "stream",
     "text": [
      "Modes -> Glow: False, Particles: True, Mirror: False, Filter: 0\n",
      "Modes -> Glow: False, Particles: True, Mirror: False, Filter: 0\n"
     ]
    },
    {
     "name": "stderr",
     "output_type": "stream",
     "text": [
      "C:\\Users\\GAMING/.cache\\torch\\hub\\ultralytics_yolov5_master\\models\\common.py:894: FutureWarning: `torch.cuda.amp.autocast(args...)` is deprecated. Please use `torch.amp.autocast('cuda', args...)` instead.\n",
      "  with amp.autocast(autocast):\n",
      "C:\\Users\\GAMING/.cache\\torch\\hub\\ultralytics_yolov5_master\\models\\common.py:894: FutureWarning: `torch.cuda.amp.autocast(args...)` is deprecated. Please use `torch.amp.autocast('cuda', args...)` instead.\n",
      "  with amp.autocast(autocast):\n"
     ]
    },
    {
     "name": "stdout",
     "output_type": "stream",
     "text": [
      "Modes -> Glow: False, Particles: True, Mirror: False, Filter: 0\n",
      "Modes -> Glow: False, Particles: True, Mirror: False, Filter: 0\n"
     ]
    },
    {
     "name": "stderr",
     "output_type": "stream",
     "text": [
      "C:\\Users\\GAMING/.cache\\torch\\hub\\ultralytics_yolov5_master\\models\\common.py:894: FutureWarning: `torch.cuda.amp.autocast(args...)` is deprecated. Please use `torch.amp.autocast('cuda', args...)` instead.\n",
      "  with amp.autocast(autocast):\n",
      "C:\\Users\\GAMING/.cache\\torch\\hub\\ultralytics_yolov5_master\\models\\common.py:894: FutureWarning: `torch.cuda.amp.autocast(args...)` is deprecated. Please use `torch.amp.autocast('cuda', args...)` instead.\n",
      "  with amp.autocast(autocast):\n"
     ]
    },
    {
     "name": "stdout",
     "output_type": "stream",
     "text": [
      "Modes -> Glow: False, Particles: True, Mirror: False, Filter: 0\n",
      "Modes -> Glow: False, Particles: True, Mirror: False, Filter: 0\n"
     ]
    },
    {
     "name": "stderr",
     "output_type": "stream",
     "text": [
      "C:\\Users\\GAMING/.cache\\torch\\hub\\ultralytics_yolov5_master\\models\\common.py:894: FutureWarning: `torch.cuda.amp.autocast(args...)` is deprecated. Please use `torch.amp.autocast('cuda', args...)` instead.\n",
      "  with amp.autocast(autocast):\n",
      "C:\\Users\\GAMING/.cache\\torch\\hub\\ultralytics_yolov5_master\\models\\common.py:894: FutureWarning: `torch.cuda.amp.autocast(args...)` is deprecated. Please use `torch.amp.autocast('cuda', args...)` instead.\n",
      "  with amp.autocast(autocast):\n"
     ]
    },
    {
     "name": "stdout",
     "output_type": "stream",
     "text": [
      "Modes -> Glow: False, Particles: True, Mirror: False, Filter: 0\n",
      "Modes -> Glow: False, Particles: True, Mirror: False, Filter: 0\n"
     ]
    },
    {
     "name": "stderr",
     "output_type": "stream",
     "text": [
      "C:\\Users\\GAMING/.cache\\torch\\hub\\ultralytics_yolov5_master\\models\\common.py:894: FutureWarning: `torch.cuda.amp.autocast(args...)` is deprecated. Please use `torch.amp.autocast('cuda', args...)` instead.\n",
      "  with amp.autocast(autocast):\n",
      "C:\\Users\\GAMING/.cache\\torch\\hub\\ultralytics_yolov5_master\\models\\common.py:894: FutureWarning: `torch.cuda.amp.autocast(args...)` is deprecated. Please use `torch.amp.autocast('cuda', args...)` instead.\n",
      "  with amp.autocast(autocast):\n"
     ]
    },
    {
     "name": "stdout",
     "output_type": "stream",
     "text": [
      "Modes -> Glow: False, Particles: True, Mirror: False, Filter: 0\n",
      "Modes -> Glow: False, Particles: True, Mirror: False, Filter: 0\n"
     ]
    },
    {
     "name": "stderr",
     "output_type": "stream",
     "text": [
      "C:\\Users\\GAMING/.cache\\torch\\hub\\ultralytics_yolov5_master\\models\\common.py:894: FutureWarning: `torch.cuda.amp.autocast(args...)` is deprecated. Please use `torch.amp.autocast('cuda', args...)` instead.\n",
      "  with amp.autocast(autocast):\n",
      "C:\\Users\\GAMING/.cache\\torch\\hub\\ultralytics_yolov5_master\\models\\common.py:894: FutureWarning: `torch.cuda.amp.autocast(args...)` is deprecated. Please use `torch.amp.autocast('cuda', args...)` instead.\n",
      "  with amp.autocast(autocast):\n"
     ]
    },
    {
     "name": "stdout",
     "output_type": "stream",
     "text": [
      "Modes -> Glow: False, Particles: True, Mirror: False, Filter: 0\n",
      "Modes -> Glow: False, Particles: True, Mirror: False, Filter: 0\n"
     ]
    },
    {
     "name": "stderr",
     "output_type": "stream",
     "text": [
      "C:\\Users\\GAMING/.cache\\torch\\hub\\ultralytics_yolov5_master\\models\\common.py:894: FutureWarning: `torch.cuda.amp.autocast(args...)` is deprecated. Please use `torch.amp.autocast('cuda', args...)` instead.\n",
      "  with amp.autocast(autocast):\n",
      "C:\\Users\\GAMING/.cache\\torch\\hub\\ultralytics_yolov5_master\\models\\common.py:894: FutureWarning: `torch.cuda.amp.autocast(args...)` is deprecated. Please use `torch.amp.autocast('cuda', args...)` instead.\n",
      "  with amp.autocast(autocast):\n"
     ]
    },
    {
     "name": "stdout",
     "output_type": "stream",
     "text": [
      "Modes -> Glow: False, Particles: True, Mirror: False, Filter: 0\n",
      "Modes -> Glow: False, Particles: True, Mirror: False, Filter: 0\n"
     ]
    },
    {
     "name": "stderr",
     "output_type": "stream",
     "text": [
      "C:\\Users\\GAMING/.cache\\torch\\hub\\ultralytics_yolov5_master\\models\\common.py:894: FutureWarning: `torch.cuda.amp.autocast(args...)` is deprecated. Please use `torch.amp.autocast('cuda', args...)` instead.\n",
      "  with amp.autocast(autocast):\n",
      "C:\\Users\\GAMING/.cache\\torch\\hub\\ultralytics_yolov5_master\\models\\common.py:894: FutureWarning: `torch.cuda.amp.autocast(args...)` is deprecated. Please use `torch.amp.autocast('cuda', args...)` instead.\n",
      "  with amp.autocast(autocast):\n"
     ]
    },
    {
     "name": "stdout",
     "output_type": "stream",
     "text": [
      "Modes -> Glow: False, Particles: True, Mirror: False, Filter: 0\n",
      "Modes -> Glow: False, Particles: True, Mirror: False, Filter: 0\n"
     ]
    },
    {
     "name": "stderr",
     "output_type": "stream",
     "text": [
      "C:\\Users\\GAMING/.cache\\torch\\hub\\ultralytics_yolov5_master\\models\\common.py:894: FutureWarning: `torch.cuda.amp.autocast(args...)` is deprecated. Please use `torch.amp.autocast('cuda', args...)` instead.\n",
      "  with amp.autocast(autocast):\n",
      "C:\\Users\\GAMING/.cache\\torch\\hub\\ultralytics_yolov5_master\\models\\common.py:894: FutureWarning: `torch.cuda.amp.autocast(args...)` is deprecated. Please use `torch.amp.autocast('cuda', args...)` instead.\n",
      "  with amp.autocast(autocast):\n"
     ]
    },
    {
     "name": "stdout",
     "output_type": "stream",
     "text": [
      "Modes -> Glow: False, Particles: True, Mirror: False, Filter: 0\n",
      "Modes -> Glow: False, Particles: True, Mirror: False, Filter: 0\n"
     ]
    },
    {
     "name": "stderr",
     "output_type": "stream",
     "text": [
      "C:\\Users\\GAMING/.cache\\torch\\hub\\ultralytics_yolov5_master\\models\\common.py:894: FutureWarning: `torch.cuda.amp.autocast(args...)` is deprecated. Please use `torch.amp.autocast('cuda', args...)` instead.\n",
      "  with amp.autocast(autocast):\n",
      "C:\\Users\\GAMING/.cache\\torch\\hub\\ultralytics_yolov5_master\\models\\common.py:894: FutureWarning: `torch.cuda.amp.autocast(args...)` is deprecated. Please use `torch.amp.autocast('cuda', args...)` instead.\n",
      "  with amp.autocast(autocast):\n"
     ]
    },
    {
     "name": "stdout",
     "output_type": "stream",
     "text": [
      "Modes -> Glow: False, Particles: True, Mirror: False, Filter: 0\n",
      "Modes -> Glow: False, Particles: True, Mirror: False, Filter: 0\n"
     ]
    },
    {
     "name": "stderr",
     "output_type": "stream",
     "text": [
      "C:\\Users\\GAMING/.cache\\torch\\hub\\ultralytics_yolov5_master\\models\\common.py:894: FutureWarning: `torch.cuda.amp.autocast(args...)` is deprecated. Please use `torch.amp.autocast('cuda', args...)` instead.\n",
      "  with amp.autocast(autocast):\n",
      "C:\\Users\\GAMING/.cache\\torch\\hub\\ultralytics_yolov5_master\\models\\common.py:894: FutureWarning: `torch.cuda.amp.autocast(args...)` is deprecated. Please use `torch.amp.autocast('cuda', args...)` instead.\n",
      "  with amp.autocast(autocast):\n"
     ]
    },
    {
     "name": "stdout",
     "output_type": "stream",
     "text": [
      "Modes -> Glow: False, Particles: True, Mirror: False, Filter: 0\n",
      "Modes -> Glow: False, Particles: True, Mirror: False, Filter: 0\n"
     ]
    },
    {
     "name": "stderr",
     "output_type": "stream",
     "text": [
      "C:\\Users\\GAMING/.cache\\torch\\hub\\ultralytics_yolov5_master\\models\\common.py:894: FutureWarning: `torch.cuda.amp.autocast(args...)` is deprecated. Please use `torch.amp.autocast('cuda', args...)` instead.\n",
      "  with amp.autocast(autocast):\n",
      "C:\\Users\\GAMING/.cache\\torch\\hub\\ultralytics_yolov5_master\\models\\common.py:894: FutureWarning: `torch.cuda.amp.autocast(args...)` is deprecated. Please use `torch.amp.autocast('cuda', args...)` instead.\n",
      "  with amp.autocast(autocast):\n"
     ]
    },
    {
     "name": "stdout",
     "output_type": "stream",
     "text": [
      "Modes -> Glow: False, Particles: True, Mirror: False, Filter: 0\n",
      "Modes -> Glow: False, Particles: True, Mirror: False, Filter: 0\n"
     ]
    },
    {
     "name": "stderr",
     "output_type": "stream",
     "text": [
      "C:\\Users\\GAMING/.cache\\torch\\hub\\ultralytics_yolov5_master\\models\\common.py:894: FutureWarning: `torch.cuda.amp.autocast(args...)` is deprecated. Please use `torch.amp.autocast('cuda', args...)` instead.\n",
      "  with amp.autocast(autocast):\n",
      "C:\\Users\\GAMING/.cache\\torch\\hub\\ultralytics_yolov5_master\\models\\common.py:894: FutureWarning: `torch.cuda.amp.autocast(args...)` is deprecated. Please use `torch.amp.autocast('cuda', args...)` instead.\n",
      "  with amp.autocast(autocast):\n"
     ]
    },
    {
     "name": "stdout",
     "output_type": "stream",
     "text": [
      "Modes -> Glow: False, Particles: True, Mirror: False, Filter: 0\n",
      "Modes -> Glow: False, Particles: True, Mirror: False, Filter: 0\n"
     ]
    },
    {
     "name": "stderr",
     "output_type": "stream",
     "text": [
      "C:\\Users\\GAMING/.cache\\torch\\hub\\ultralytics_yolov5_master\\models\\common.py:894: FutureWarning: `torch.cuda.amp.autocast(args...)` is deprecated. Please use `torch.amp.autocast('cuda', args...)` instead.\n",
      "  with amp.autocast(autocast):\n",
      "C:\\Users\\GAMING/.cache\\torch\\hub\\ultralytics_yolov5_master\\models\\common.py:894: FutureWarning: `torch.cuda.amp.autocast(args...)` is deprecated. Please use `torch.amp.autocast('cuda', args...)` instead.\n",
      "  with amp.autocast(autocast):\n"
     ]
    },
    {
     "name": "stdout",
     "output_type": "stream",
     "text": [
      "Modes -> Glow: False, Particles: True, Mirror: False, Filter: 0\n",
      "Modes -> Glow: False, Particles: True, Mirror: False, Filter: 0\n"
     ]
    },
    {
     "name": "stderr",
     "output_type": "stream",
     "text": [
      "C:\\Users\\GAMING/.cache\\torch\\hub\\ultralytics_yolov5_master\\models\\common.py:894: FutureWarning: `torch.cuda.amp.autocast(args...)` is deprecated. Please use `torch.amp.autocast('cuda', args...)` instead.\n",
      "  with amp.autocast(autocast):\n",
      "C:\\Users\\GAMING/.cache\\torch\\hub\\ultralytics_yolov5_master\\models\\common.py:894: FutureWarning: `torch.cuda.amp.autocast(args...)` is deprecated. Please use `torch.amp.autocast('cuda', args...)` instead.\n",
      "  with amp.autocast(autocast):\n"
     ]
    },
    {
     "name": "stdout",
     "output_type": "stream",
     "text": [
      "Modes -> Glow: False, Particles: True, Mirror: False, Filter: 0\n",
      "Modes -> Glow: False, Particles: True, Mirror: False, Filter: 0\n"
     ]
    },
    {
     "name": "stderr",
     "output_type": "stream",
     "text": [
      "C:\\Users\\GAMING/.cache\\torch\\hub\\ultralytics_yolov5_master\\models\\common.py:894: FutureWarning: `torch.cuda.amp.autocast(args...)` is deprecated. Please use `torch.amp.autocast('cuda', args...)` instead.\n",
      "  with amp.autocast(autocast):\n",
      "C:\\Users\\GAMING/.cache\\torch\\hub\\ultralytics_yolov5_master\\models\\common.py:894: FutureWarning: `torch.cuda.amp.autocast(args...)` is deprecated. Please use `torch.amp.autocast('cuda', args...)` instead.\n",
      "  with amp.autocast(autocast):\n"
     ]
    },
    {
     "name": "stdout",
     "output_type": "stream",
     "text": [
      "Modes -> Glow: False, Particles: True, Mirror: False, Filter: 0\n",
      "Modes -> Glow: False, Particles: True, Mirror: False, Filter: 0\n"
     ]
    },
    {
     "name": "stderr",
     "output_type": "stream",
     "text": [
      "C:\\Users\\GAMING/.cache\\torch\\hub\\ultralytics_yolov5_master\\models\\common.py:894: FutureWarning: `torch.cuda.amp.autocast(args...)` is deprecated. Please use `torch.amp.autocast('cuda', args...)` instead.\n",
      "  with amp.autocast(autocast):\n",
      "C:\\Users\\GAMING/.cache\\torch\\hub\\ultralytics_yolov5_master\\models\\common.py:894: FutureWarning: `torch.cuda.amp.autocast(args...)` is deprecated. Please use `torch.amp.autocast('cuda', args...)` instead.\n",
      "  with amp.autocast(autocast):\n"
     ]
    },
    {
     "name": "stdout",
     "output_type": "stream",
     "text": [
      "Modes -> Glow: False, Particles: True, Mirror: False, Filter: 0\n",
      "Modes -> Glow: False, Particles: True, Mirror: False, Filter: 0\n"
     ]
    },
    {
     "name": "stderr",
     "output_type": "stream",
     "text": [
      "C:\\Users\\GAMING/.cache\\torch\\hub\\ultralytics_yolov5_master\\models\\common.py:894: FutureWarning: `torch.cuda.amp.autocast(args...)` is deprecated. Please use `torch.amp.autocast('cuda', args...)` instead.\n",
      "  with amp.autocast(autocast):\n",
      "C:\\Users\\GAMING/.cache\\torch\\hub\\ultralytics_yolov5_master\\models\\common.py:894: FutureWarning: `torch.cuda.amp.autocast(args...)` is deprecated. Please use `torch.amp.autocast('cuda', args...)` instead.\n",
      "  with amp.autocast(autocast):\n"
     ]
    },
    {
     "name": "stdout",
     "output_type": "stream",
     "text": [
      "Modes -> Glow: False, Particles: True, Mirror: False, Filter: 0\n",
      "Modes -> Glow: False, Particles: True, Mirror: False, Filter: 0\n"
     ]
    },
    {
     "name": "stderr",
     "output_type": "stream",
     "text": [
      "C:\\Users\\GAMING/.cache\\torch\\hub\\ultralytics_yolov5_master\\models\\common.py:894: FutureWarning: `torch.cuda.amp.autocast(args...)` is deprecated. Please use `torch.amp.autocast('cuda', args...)` instead.\n",
      "  with amp.autocast(autocast):\n",
      "C:\\Users\\GAMING/.cache\\torch\\hub\\ultralytics_yolov5_master\\models\\common.py:894: FutureWarning: `torch.cuda.amp.autocast(args...)` is deprecated. Please use `torch.amp.autocast('cuda', args...)` instead.\n",
      "  with amp.autocast(autocast):\n"
     ]
    },
    {
     "name": "stdout",
     "output_type": "stream",
     "text": [
      "Modes -> Glow: False, Particles: True, Mirror: False, Filter: 0\n",
      "Modes -> Glow: False, Particles: True, Mirror: False, Filter: 0\n"
     ]
    },
    {
     "name": "stderr",
     "output_type": "stream",
     "text": [
      "C:\\Users\\GAMING/.cache\\torch\\hub\\ultralytics_yolov5_master\\models\\common.py:894: FutureWarning: `torch.cuda.amp.autocast(args...)` is deprecated. Please use `torch.amp.autocast('cuda', args...)` instead.\n",
      "  with amp.autocast(autocast):\n",
      "C:\\Users\\GAMING/.cache\\torch\\hub\\ultralytics_yolov5_master\\models\\common.py:894: FutureWarning: `torch.cuda.amp.autocast(args...)` is deprecated. Please use `torch.amp.autocast('cuda', args...)` instead.\n",
      "  with amp.autocast(autocast):\n"
     ]
    },
    {
     "name": "stdout",
     "output_type": "stream",
     "text": [
      "Modes -> Glow: False, Particles: True, Mirror: False, Filter: 0\n",
      "Modes -> Glow: False, Particles: True, Mirror: False, Filter: 0\n"
     ]
    },
    {
     "name": "stderr",
     "output_type": "stream",
     "text": [
      "C:\\Users\\GAMING/.cache\\torch\\hub\\ultralytics_yolov5_master\\models\\common.py:894: FutureWarning: `torch.cuda.amp.autocast(args...)` is deprecated. Please use `torch.amp.autocast('cuda', args...)` instead.\n",
      "  with amp.autocast(autocast):\n",
      "C:\\Users\\GAMING/.cache\\torch\\hub\\ultralytics_yolov5_master\\models\\common.py:894: FutureWarning: `torch.cuda.amp.autocast(args...)` is deprecated. Please use `torch.amp.autocast('cuda', args...)` instead.\n",
      "  with amp.autocast(autocast):\n"
     ]
    },
    {
     "name": "stdout",
     "output_type": "stream",
     "text": [
      "Modes -> Glow: False, Particles: True, Mirror: False, Filter: 0\n",
      "Modes -> Glow: False, Particles: True, Mirror: False, Filter: 0\n"
     ]
    },
    {
     "name": "stderr",
     "output_type": "stream",
     "text": [
      "C:\\Users\\GAMING/.cache\\torch\\hub\\ultralytics_yolov5_master\\models\\common.py:894: FutureWarning: `torch.cuda.amp.autocast(args...)` is deprecated. Please use `torch.amp.autocast('cuda', args...)` instead.\n",
      "  with amp.autocast(autocast):\n",
      "C:\\Users\\GAMING/.cache\\torch\\hub\\ultralytics_yolov5_master\\models\\common.py:894: FutureWarning: `torch.cuda.amp.autocast(args...)` is deprecated. Please use `torch.amp.autocast('cuda', args...)` instead.\n",
      "  with amp.autocast(autocast):\n"
     ]
    },
    {
     "name": "stdout",
     "output_type": "stream",
     "text": [
      "Modes -> Glow: False, Particles: True, Mirror: False, Filter: 0\n",
      "Modes -> Glow: False, Particles: True, Mirror: False, Filter: 0\n"
     ]
    },
    {
     "name": "stderr",
     "output_type": "stream",
     "text": [
      "C:\\Users\\GAMING/.cache\\torch\\hub\\ultralytics_yolov5_master\\models\\common.py:894: FutureWarning: `torch.cuda.amp.autocast(args...)` is deprecated. Please use `torch.amp.autocast('cuda', args...)` instead.\n",
      "  with amp.autocast(autocast):\n",
      "C:\\Users\\GAMING/.cache\\torch\\hub\\ultralytics_yolov5_master\\models\\common.py:894: FutureWarning: `torch.cuda.amp.autocast(args...)` is deprecated. Please use `torch.amp.autocast('cuda', args...)` instead.\n",
      "  with amp.autocast(autocast):\n"
     ]
    },
    {
     "name": "stdout",
     "output_type": "stream",
     "text": [
      "Modes -> Glow: False, Particles: True, Mirror: False, Filter: 0\n",
      "Modes -> Glow: False, Particles: True, Mirror: False, Filter: 0\n"
     ]
    },
    {
     "name": "stderr",
     "output_type": "stream",
     "text": [
      "C:\\Users\\GAMING/.cache\\torch\\hub\\ultralytics_yolov5_master\\models\\common.py:894: FutureWarning: `torch.cuda.amp.autocast(args...)` is deprecated. Please use `torch.amp.autocast('cuda', args...)` instead.\n",
      "  with amp.autocast(autocast):\n",
      "C:\\Users\\GAMING/.cache\\torch\\hub\\ultralytics_yolov5_master\\models\\common.py:894: FutureWarning: `torch.cuda.amp.autocast(args...)` is deprecated. Please use `torch.amp.autocast('cuda', args...)` instead.\n",
      "  with amp.autocast(autocast):\n"
     ]
    },
    {
     "name": "stdout",
     "output_type": "stream",
     "text": [
      "Modes -> Glow: False, Particles: True, Mirror: False, Filter: 0\n",
      "Modes -> Glow: False, Particles: True, Mirror: False, Filter: 0\n"
     ]
    },
    {
     "name": "stderr",
     "output_type": "stream",
     "text": [
      "C:\\Users\\GAMING/.cache\\torch\\hub\\ultralytics_yolov5_master\\models\\common.py:894: FutureWarning: `torch.cuda.amp.autocast(args...)` is deprecated. Please use `torch.amp.autocast('cuda', args...)` instead.\n",
      "  with amp.autocast(autocast):\n",
      "C:\\Users\\GAMING/.cache\\torch\\hub\\ultralytics_yolov5_master\\models\\common.py:894: FutureWarning: `torch.cuda.amp.autocast(args...)` is deprecated. Please use `torch.amp.autocast('cuda', args...)` instead.\n",
      "  with amp.autocast(autocast):\n"
     ]
    },
    {
     "name": "stdout",
     "output_type": "stream",
     "text": [
      "Modes -> Glow: False, Particles: True, Mirror: False, Filter: 0\n",
      "Modes -> Glow: False, Particles: True, Mirror: False, Filter: 0\n"
     ]
    },
    {
     "name": "stderr",
     "output_type": "stream",
     "text": [
      "C:\\Users\\GAMING/.cache\\torch\\hub\\ultralytics_yolov5_master\\models\\common.py:894: FutureWarning: `torch.cuda.amp.autocast(args...)` is deprecated. Please use `torch.amp.autocast('cuda', args...)` instead.\n",
      "  with amp.autocast(autocast):\n",
      "C:\\Users\\GAMING/.cache\\torch\\hub\\ultralytics_yolov5_master\\models\\common.py:894: FutureWarning: `torch.cuda.amp.autocast(args...)` is deprecated. Please use `torch.amp.autocast('cuda', args...)` instead.\n",
      "  with amp.autocast(autocast):\n"
     ]
    },
    {
     "name": "stdout",
     "output_type": "stream",
     "text": [
      "Modes -> Glow: False, Particles: True, Mirror: False, Filter: 0\n",
      "Modes -> Glow: False, Particles: True, Mirror: False, Filter: 0\n"
     ]
    },
    {
     "name": "stderr",
     "output_type": "stream",
     "text": [
      "C:\\Users\\GAMING/.cache\\torch\\hub\\ultralytics_yolov5_master\\models\\common.py:894: FutureWarning: `torch.cuda.amp.autocast(args...)` is deprecated. Please use `torch.amp.autocast('cuda', args...)` instead.\n",
      "  with amp.autocast(autocast):\n",
      "C:\\Users\\GAMING/.cache\\torch\\hub\\ultralytics_yolov5_master\\models\\common.py:894: FutureWarning: `torch.cuda.amp.autocast(args...)` is deprecated. Please use `torch.amp.autocast('cuda', args...)` instead.\n",
      "  with amp.autocast(autocast):\n"
     ]
    },
    {
     "name": "stdout",
     "output_type": "stream",
     "text": [
      "Modes -> Glow: False, Particles: True, Mirror: False, Filter: 0\n",
      "Modes -> Glow: False, Particles: True, Mirror: False, Filter: 0\n"
     ]
    },
    {
     "name": "stderr",
     "output_type": "stream",
     "text": [
      "C:\\Users\\GAMING/.cache\\torch\\hub\\ultralytics_yolov5_master\\models\\common.py:894: FutureWarning: `torch.cuda.amp.autocast(args...)` is deprecated. Please use `torch.amp.autocast('cuda', args...)` instead.\n",
      "  with amp.autocast(autocast):\n",
      "C:\\Users\\GAMING/.cache\\torch\\hub\\ultralytics_yolov5_master\\models\\common.py:894: FutureWarning: `torch.cuda.amp.autocast(args...)` is deprecated. Please use `torch.amp.autocast('cuda', args...)` instead.\n",
      "  with amp.autocast(autocast):\n"
     ]
    },
    {
     "name": "stdout",
     "output_type": "stream",
     "text": [
      "Modes -> Glow: False, Particles: True, Mirror: False, Filter: 0\n",
      "Modes -> Glow: False, Particles: True, Mirror: False, Filter: 0\n"
     ]
    },
    {
     "name": "stderr",
     "output_type": "stream",
     "text": [
      "C:\\Users\\GAMING/.cache\\torch\\hub\\ultralytics_yolov5_master\\models\\common.py:894: FutureWarning: `torch.cuda.amp.autocast(args...)` is deprecated. Please use `torch.amp.autocast('cuda', args...)` instead.\n",
      "  with amp.autocast(autocast):\n",
      "C:\\Users\\GAMING/.cache\\torch\\hub\\ultralytics_yolov5_master\\models\\common.py:894: FutureWarning: `torch.cuda.amp.autocast(args...)` is deprecated. Please use `torch.amp.autocast('cuda', args...)` instead.\n",
      "  with amp.autocast(autocast):\n"
     ]
    },
    {
     "name": "stdout",
     "output_type": "stream",
     "text": [
      "Modes -> Glow: False, Particles: True, Mirror: False, Filter: 0\n",
      "Modes -> Glow: False, Particles: True, Mirror: False, Filter: 0\n"
     ]
    },
    {
     "name": "stderr",
     "output_type": "stream",
     "text": [
      "C:\\Users\\GAMING/.cache\\torch\\hub\\ultralytics_yolov5_master\\models\\common.py:894: FutureWarning: `torch.cuda.amp.autocast(args...)` is deprecated. Please use `torch.amp.autocast('cuda', args...)` instead.\n",
      "  with amp.autocast(autocast):\n",
      "C:\\Users\\GAMING/.cache\\torch\\hub\\ultralytics_yolov5_master\\models\\common.py:894: FutureWarning: `torch.cuda.amp.autocast(args...)` is deprecated. Please use `torch.amp.autocast('cuda', args...)` instead.\n",
      "  with amp.autocast(autocast):\n"
     ]
    },
    {
     "name": "stdout",
     "output_type": "stream",
     "text": [
      "Modes -> Glow: False, Particles: True, Mirror: False, Filter: 0\n",
      "Modes -> Glow: False, Particles: True, Mirror: False, Filter: 0\n"
     ]
    },
    {
     "name": "stderr",
     "output_type": "stream",
     "text": [
      "C:\\Users\\GAMING/.cache\\torch\\hub\\ultralytics_yolov5_master\\models\\common.py:894: FutureWarning: `torch.cuda.amp.autocast(args...)` is deprecated. Please use `torch.amp.autocast('cuda', args...)` instead.\n",
      "  with amp.autocast(autocast):\n",
      "C:\\Users\\GAMING/.cache\\torch\\hub\\ultralytics_yolov5_master\\models\\common.py:894: FutureWarning: `torch.cuda.amp.autocast(args...)` is deprecated. Please use `torch.amp.autocast('cuda', args...)` instead.\n",
      "  with amp.autocast(autocast):\n"
     ]
    },
    {
     "name": "stdout",
     "output_type": "stream",
     "text": [
      "Modes -> Glow: False, Particles: True, Mirror: False, Filter: 0\n",
      "Modes -> Glow: False, Particles: True, Mirror: False, Filter: 0\n"
     ]
    },
    {
     "name": "stderr",
     "output_type": "stream",
     "text": [
      "C:\\Users\\GAMING/.cache\\torch\\hub\\ultralytics_yolov5_master\\models\\common.py:894: FutureWarning: `torch.cuda.amp.autocast(args...)` is deprecated. Please use `torch.amp.autocast('cuda', args...)` instead.\n",
      "  with amp.autocast(autocast):\n",
      "C:\\Users\\GAMING/.cache\\torch\\hub\\ultralytics_yolov5_master\\models\\common.py:894: FutureWarning: `torch.cuda.amp.autocast(args...)` is deprecated. Please use `torch.amp.autocast('cuda', args...)` instead.\n",
      "  with amp.autocast(autocast):\n"
     ]
    },
    {
     "name": "stdout",
     "output_type": "stream",
     "text": [
      "Modes -> Glow: False, Particles: True, Mirror: False, Filter: 0\n",
      "Modes -> Glow: False, Particles: True, Mirror: False, Filter: 0\n"
     ]
    },
    {
     "name": "stderr",
     "output_type": "stream",
     "text": [
      "C:\\Users\\GAMING/.cache\\torch\\hub\\ultralytics_yolov5_master\\models\\common.py:894: FutureWarning: `torch.cuda.amp.autocast(args...)` is deprecated. Please use `torch.amp.autocast('cuda', args...)` instead.\n",
      "  with amp.autocast(autocast):\n",
      "C:\\Users\\GAMING/.cache\\torch\\hub\\ultralytics_yolov5_master\\models\\common.py:894: FutureWarning: `torch.cuda.amp.autocast(args...)` is deprecated. Please use `torch.amp.autocast('cuda', args...)` instead.\n",
      "  with amp.autocast(autocast):\n"
     ]
    },
    {
     "name": "stdout",
     "output_type": "stream",
     "text": [
      "Modes -> Glow: False, Particles: True, Mirror: False, Filter: 0\n",
      "Modes -> Glow: False, Particles: True, Mirror: False, Filter: 0\n"
     ]
    },
    {
     "name": "stderr",
     "output_type": "stream",
     "text": [
      "C:\\Users\\GAMING/.cache\\torch\\hub\\ultralytics_yolov5_master\\models\\common.py:894: FutureWarning: `torch.cuda.amp.autocast(args...)` is deprecated. Please use `torch.amp.autocast('cuda', args...)` instead.\n",
      "  with amp.autocast(autocast):\n",
      "C:\\Users\\GAMING/.cache\\torch\\hub\\ultralytics_yolov5_master\\models\\common.py:894: FutureWarning: `torch.cuda.amp.autocast(args...)` is deprecated. Please use `torch.amp.autocast('cuda', args...)` instead.\n",
      "  with amp.autocast(autocast):\n"
     ]
    },
    {
     "name": "stdout",
     "output_type": "stream",
     "text": [
      "Modes -> Glow: False, Particles: True, Mirror: False, Filter: 0\n",
      "Modes -> Glow: False, Particles: True, Mirror: False, Filter: 0\n"
     ]
    },
    {
     "name": "stderr",
     "output_type": "stream",
     "text": [
      "C:\\Users\\GAMING/.cache\\torch\\hub\\ultralytics_yolov5_master\\models\\common.py:894: FutureWarning: `torch.cuda.amp.autocast(args...)` is deprecated. Please use `torch.amp.autocast('cuda', args...)` instead.\n",
      "  with amp.autocast(autocast):\n",
      "C:\\Users\\GAMING/.cache\\torch\\hub\\ultralytics_yolov5_master\\models\\common.py:894: FutureWarning: `torch.cuda.amp.autocast(args...)` is deprecated. Please use `torch.amp.autocast('cuda', args...)` instead.\n",
      "  with amp.autocast(autocast):\n"
     ]
    },
    {
     "name": "stdout",
     "output_type": "stream",
     "text": [
      "Modes -> Glow: False, Particles: True, Mirror: False, Filter: 0\n",
      "Modes -> Glow: False, Particles: True, Mirror: False, Filter: 0\n"
     ]
    },
    {
     "name": "stderr",
     "output_type": "stream",
     "text": [
      "C:\\Users\\GAMING/.cache\\torch\\hub\\ultralytics_yolov5_master\\models\\common.py:894: FutureWarning: `torch.cuda.amp.autocast(args...)` is deprecated. Please use `torch.amp.autocast('cuda', args...)` instead.\n",
      "  with amp.autocast(autocast):\n",
      "C:\\Users\\GAMING/.cache\\torch\\hub\\ultralytics_yolov5_master\\models\\common.py:894: FutureWarning: `torch.cuda.amp.autocast(args...)` is deprecated. Please use `torch.amp.autocast('cuda', args...)` instead.\n",
      "  with amp.autocast(autocast):\n"
     ]
    },
    {
     "name": "stdout",
     "output_type": "stream",
     "text": [
      "Modes -> Glow: False, Particles: True, Mirror: False, Filter: 0\n",
      "Modes -> Glow: False, Particles: True, Mirror: False, Filter: 0\n"
     ]
    },
    {
     "name": "stderr",
     "output_type": "stream",
     "text": [
      "C:\\Users\\GAMING/.cache\\torch\\hub\\ultralytics_yolov5_master\\models\\common.py:894: FutureWarning: `torch.cuda.amp.autocast(args...)` is deprecated. Please use `torch.amp.autocast('cuda', args...)` instead.\n",
      "  with amp.autocast(autocast):\n",
      "C:\\Users\\GAMING/.cache\\torch\\hub\\ultralytics_yolov5_master\\models\\common.py:894: FutureWarning: `torch.cuda.amp.autocast(args...)` is deprecated. Please use `torch.amp.autocast('cuda', args...)` instead.\n",
      "  with amp.autocast(autocast):\n"
     ]
    },
    {
     "name": "stdout",
     "output_type": "stream",
     "text": [
      "Modes -> Glow: False, Particles: True, Mirror: False, Filter: 0\n",
      "Modes -> Glow: False, Particles: True, Mirror: False, Filter: 0\n"
     ]
    },
    {
     "name": "stderr",
     "output_type": "stream",
     "text": [
      "C:\\Users\\GAMING/.cache\\torch\\hub\\ultralytics_yolov5_master\\models\\common.py:894: FutureWarning: `torch.cuda.amp.autocast(args...)` is deprecated. Please use `torch.amp.autocast('cuda', args...)` instead.\n",
      "  with amp.autocast(autocast):\n",
      "C:\\Users\\GAMING/.cache\\torch\\hub\\ultralytics_yolov5_master\\models\\common.py:894: FutureWarning: `torch.cuda.amp.autocast(args...)` is deprecated. Please use `torch.amp.autocast('cuda', args...)` instead.\n",
      "  with amp.autocast(autocast):\n"
     ]
    },
    {
     "name": "stdout",
     "output_type": "stream",
     "text": [
      "Modes -> Glow: False, Particles: True, Mirror: False, Filter: 0\n",
      "Modes -> Glow: False, Particles: True, Mirror: False, Filter: 0\n"
     ]
    },
    {
     "name": "stderr",
     "output_type": "stream",
     "text": [
      "C:\\Users\\GAMING/.cache\\torch\\hub\\ultralytics_yolov5_master\\models\\common.py:894: FutureWarning: `torch.cuda.amp.autocast(args...)` is deprecated. Please use `torch.amp.autocast('cuda', args...)` instead.\n",
      "  with amp.autocast(autocast):\n",
      "C:\\Users\\GAMING/.cache\\torch\\hub\\ultralytics_yolov5_master\\models\\common.py:894: FutureWarning: `torch.cuda.amp.autocast(args...)` is deprecated. Please use `torch.amp.autocast('cuda', args...)` instead.\n",
      "  with amp.autocast(autocast):\n"
     ]
    },
    {
     "name": "stdout",
     "output_type": "stream",
     "text": [
      "Modes -> Glow: False, Particles: True, Mirror: False, Filter: 0\n",
      "Modes -> Glow: False, Particles: True, Mirror: False, Filter: 0\n"
     ]
    },
    {
     "name": "stderr",
     "output_type": "stream",
     "text": [
      "C:\\Users\\GAMING/.cache\\torch\\hub\\ultralytics_yolov5_master\\models\\common.py:894: FutureWarning: `torch.cuda.amp.autocast(args...)` is deprecated. Please use `torch.amp.autocast('cuda', args...)` instead.\n",
      "  with amp.autocast(autocast):\n",
      "C:\\Users\\GAMING/.cache\\torch\\hub\\ultralytics_yolov5_master\\models\\common.py:894: FutureWarning: `torch.cuda.amp.autocast(args...)` is deprecated. Please use `torch.amp.autocast('cuda', args...)` instead.\n",
      "  with amp.autocast(autocast):\n"
     ]
    },
    {
     "name": "stdout",
     "output_type": "stream",
     "text": [
      "Modes -> Glow: False, Particles: True, Mirror: False, Filter: 0\n",
      "Modes -> Glow: False, Particles: True, Mirror: False, Filter: 0\n"
     ]
    },
    {
     "name": "stderr",
     "output_type": "stream",
     "text": [
      "C:\\Users\\GAMING/.cache\\torch\\hub\\ultralytics_yolov5_master\\models\\common.py:894: FutureWarning: `torch.cuda.amp.autocast(args...)` is deprecated. Please use `torch.amp.autocast('cuda', args...)` instead.\n",
      "  with amp.autocast(autocast):\n",
      "C:\\Users\\GAMING/.cache\\torch\\hub\\ultralytics_yolov5_master\\models\\common.py:894: FutureWarning: `torch.cuda.amp.autocast(args...)` is deprecated. Please use `torch.amp.autocast('cuda', args...)` instead.\n",
      "  with amp.autocast(autocast):\n"
     ]
    },
    {
     "name": "stdout",
     "output_type": "stream",
     "text": [
      "Modes -> Glow: False, Particles: True, Mirror: False, Filter: 0\n",
      "Modes -> Glow: False, Particles: True, Mirror: False, Filter: 0\n"
     ]
    },
    {
     "name": "stderr",
     "output_type": "stream",
     "text": [
      "C:\\Users\\GAMING/.cache\\torch\\hub\\ultralytics_yolov5_master\\models\\common.py:894: FutureWarning: `torch.cuda.amp.autocast(args...)` is deprecated. Please use `torch.amp.autocast('cuda', args...)` instead.\n",
      "  with amp.autocast(autocast):\n",
      "C:\\Users\\GAMING/.cache\\torch\\hub\\ultralytics_yolov5_master\\models\\common.py:894: FutureWarning: `torch.cuda.amp.autocast(args...)` is deprecated. Please use `torch.amp.autocast('cuda', args...)` instead.\n",
      "  with amp.autocast(autocast):\n"
     ]
    },
    {
     "name": "stdout",
     "output_type": "stream",
     "text": [
      "Modes -> Glow: False, Particles: True, Mirror: False, Filter: 0\n",
      "Modes -> Glow: False, Particles: True, Mirror: False, Filter: 0\n"
     ]
    },
    {
     "name": "stderr",
     "output_type": "stream",
     "text": [
      "C:\\Users\\GAMING/.cache\\torch\\hub\\ultralytics_yolov5_master\\models\\common.py:894: FutureWarning: `torch.cuda.amp.autocast(args...)` is deprecated. Please use `torch.amp.autocast('cuda', args...)` instead.\n",
      "  with amp.autocast(autocast):\n",
      "C:\\Users\\GAMING/.cache\\torch\\hub\\ultralytics_yolov5_master\\models\\common.py:894: FutureWarning: `torch.cuda.amp.autocast(args...)` is deprecated. Please use `torch.amp.autocast('cuda', args...)` instead.\n",
      "  with amp.autocast(autocast):\n"
     ]
    },
    {
     "name": "stdout",
     "output_type": "stream",
     "text": [
      "Modes -> Glow: False, Particles: True, Mirror: False, Filter: 0\n",
      "Modes -> Glow: False, Particles: True, Mirror: False, Filter: 0\n"
     ]
    },
    {
     "name": "stderr",
     "output_type": "stream",
     "text": [
      "C:\\Users\\GAMING/.cache\\torch\\hub\\ultralytics_yolov5_master\\models\\common.py:894: FutureWarning: `torch.cuda.amp.autocast(args...)` is deprecated. Please use `torch.amp.autocast('cuda', args...)` instead.\n",
      "  with amp.autocast(autocast):\n",
      "C:\\Users\\GAMING/.cache\\torch\\hub\\ultralytics_yolov5_master\\models\\common.py:894: FutureWarning: `torch.cuda.amp.autocast(args...)` is deprecated. Please use `torch.amp.autocast('cuda', args...)` instead.\n",
      "  with amp.autocast(autocast):\n"
     ]
    },
    {
     "name": "stdout",
     "output_type": "stream",
     "text": [
      "Modes -> Glow: False, Particles: True, Mirror: False, Filter: 0\n",
      "Modes -> Glow: False, Particles: True, Mirror: False, Filter: 0\n"
     ]
    },
    {
     "name": "stderr",
     "output_type": "stream",
     "text": [
      "C:\\Users\\GAMING/.cache\\torch\\hub\\ultralytics_yolov5_master\\models\\common.py:894: FutureWarning: `torch.cuda.amp.autocast(args...)` is deprecated. Please use `torch.amp.autocast('cuda', args...)` instead.\n",
      "  with amp.autocast(autocast):\n",
      "C:\\Users\\GAMING/.cache\\torch\\hub\\ultralytics_yolov5_master\\models\\common.py:894: FutureWarning: `torch.cuda.amp.autocast(args...)` is deprecated. Please use `torch.amp.autocast('cuda', args...)` instead.\n",
      "  with amp.autocast(autocast):\n"
     ]
    },
    {
     "name": "stdout",
     "output_type": "stream",
     "text": [
      "Modes -> Glow: False, Particles: True, Mirror: False, Filter: 0\n",
      "Modes -> Glow: False, Particles: True, Mirror: False, Filter: 0\n"
     ]
    },
    {
     "name": "stderr",
     "output_type": "stream",
     "text": [
      "C:\\Users\\GAMING/.cache\\torch\\hub\\ultralytics_yolov5_master\\models\\common.py:894: FutureWarning: `torch.cuda.amp.autocast(args...)` is deprecated. Please use `torch.amp.autocast('cuda', args...)` instead.\n",
      "  with amp.autocast(autocast):\n",
      "C:\\Users\\GAMING/.cache\\torch\\hub\\ultralytics_yolov5_master\\models\\common.py:894: FutureWarning: `torch.cuda.amp.autocast(args...)` is deprecated. Please use `torch.amp.autocast('cuda', args...)` instead.\n",
      "  with amp.autocast(autocast):\n"
     ]
    },
    {
     "name": "stdout",
     "output_type": "stream",
     "text": [
      "Modes -> Glow: False, Particles: True, Mirror: False, Filter: 0\n",
      "Modes -> Glow: False, Particles: True, Mirror: False, Filter: 0\n"
     ]
    },
    {
     "name": "stderr",
     "output_type": "stream",
     "text": [
      "C:\\Users\\GAMING/.cache\\torch\\hub\\ultralytics_yolov5_master\\models\\common.py:894: FutureWarning: `torch.cuda.amp.autocast(args...)` is deprecated. Please use `torch.amp.autocast('cuda', args...)` instead.\n",
      "  with amp.autocast(autocast):\n",
      "C:\\Users\\GAMING/.cache\\torch\\hub\\ultralytics_yolov5_master\\models\\common.py:894: FutureWarning: `torch.cuda.amp.autocast(args...)` is deprecated. Please use `torch.amp.autocast('cuda', args...)` instead.\n",
      "  with amp.autocast(autocast):\n"
     ]
    },
    {
     "name": "stdout",
     "output_type": "stream",
     "text": [
      "Modes -> Glow: False, Particles: True, Mirror: False, Filter: 0\n",
      "Modes -> Glow: False, Particles: True, Mirror: False, Filter: 0\n"
     ]
    },
    {
     "name": "stderr",
     "output_type": "stream",
     "text": [
      "C:\\Users\\GAMING/.cache\\torch\\hub\\ultralytics_yolov5_master\\models\\common.py:894: FutureWarning: `torch.cuda.amp.autocast(args...)` is deprecated. Please use `torch.amp.autocast('cuda', args...)` instead.\n",
      "  with amp.autocast(autocast):\n",
      "C:\\Users\\GAMING/.cache\\torch\\hub\\ultralytics_yolov5_master\\models\\common.py:894: FutureWarning: `torch.cuda.amp.autocast(args...)` is deprecated. Please use `torch.amp.autocast('cuda', args...)` instead.\n",
      "  with amp.autocast(autocast):\n"
     ]
    },
    {
     "name": "stdout",
     "output_type": "stream",
     "text": [
      "Modes -> Glow: False, Particles: True, Mirror: False, Filter: 0\n",
      "Modes -> Glow: False, Particles: True, Mirror: False, Filter: 0\n"
     ]
    },
    {
     "name": "stderr",
     "output_type": "stream",
     "text": [
      "C:\\Users\\GAMING/.cache\\torch\\hub\\ultralytics_yolov5_master\\models\\common.py:894: FutureWarning: `torch.cuda.amp.autocast(args...)` is deprecated. Please use `torch.amp.autocast('cuda', args...)` instead.\n",
      "  with amp.autocast(autocast):\n",
      "C:\\Users\\GAMING/.cache\\torch\\hub\\ultralytics_yolov5_master\\models\\common.py:894: FutureWarning: `torch.cuda.amp.autocast(args...)` is deprecated. Please use `torch.amp.autocast('cuda', args...)` instead.\n",
      "  with amp.autocast(autocast):\n"
     ]
    },
    {
     "name": "stdout",
     "output_type": "stream",
     "text": [
      "Modes -> Glow: False, Particles: True, Mirror: False, Filter: 0\n",
      "Modes -> Glow: False, Particles: True, Mirror: False, Filter: 0\n"
     ]
    },
    {
     "name": "stderr",
     "output_type": "stream",
     "text": [
      "C:\\Users\\GAMING/.cache\\torch\\hub\\ultralytics_yolov5_master\\models\\common.py:894: FutureWarning: `torch.cuda.amp.autocast(args...)` is deprecated. Please use `torch.amp.autocast('cuda', args...)` instead.\n",
      "  with amp.autocast(autocast):\n",
      "C:\\Users\\GAMING/.cache\\torch\\hub\\ultralytics_yolov5_master\\models\\common.py:894: FutureWarning: `torch.cuda.amp.autocast(args...)` is deprecated. Please use `torch.amp.autocast('cuda', args...)` instead.\n",
      "  with amp.autocast(autocast):\n"
     ]
    },
    {
     "name": "stdout",
     "output_type": "stream",
     "text": [
      "Modes -> Glow: False, Particles: True, Mirror: False, Filter: 0\n",
      "Modes -> Glow: False, Particles: True, Mirror: False, Filter: 0\n"
     ]
    },
    {
     "name": "stderr",
     "output_type": "stream",
     "text": [
      "C:\\Users\\GAMING/.cache\\torch\\hub\\ultralytics_yolov5_master\\models\\common.py:894: FutureWarning: `torch.cuda.amp.autocast(args...)` is deprecated. Please use `torch.amp.autocast('cuda', args...)` instead.\n",
      "  with amp.autocast(autocast):\n",
      "C:\\Users\\GAMING/.cache\\torch\\hub\\ultralytics_yolov5_master\\models\\common.py:894: FutureWarning: `torch.cuda.amp.autocast(args...)` is deprecated. Please use `torch.amp.autocast('cuda', args...)` instead.\n",
      "  with amp.autocast(autocast):\n"
     ]
    },
    {
     "name": "stdout",
     "output_type": "stream",
     "text": [
      "Modes -> Glow: False, Particles: True, Mirror: False, Filter: 0\n",
      "Modes -> Glow: False, Particles: True, Mirror: False, Filter: 0\n"
     ]
    },
    {
     "name": "stderr",
     "output_type": "stream",
     "text": [
      "C:\\Users\\GAMING/.cache\\torch\\hub\\ultralytics_yolov5_master\\models\\common.py:894: FutureWarning: `torch.cuda.amp.autocast(args...)` is deprecated. Please use `torch.amp.autocast('cuda', args...)` instead.\n",
      "  with amp.autocast(autocast):\n",
      "C:\\Users\\GAMING/.cache\\torch\\hub\\ultralytics_yolov5_master\\models\\common.py:894: FutureWarning: `torch.cuda.amp.autocast(args...)` is deprecated. Please use `torch.amp.autocast('cuda', args...)` instead.\n",
      "  with amp.autocast(autocast):\n"
     ]
    },
    {
     "name": "stdout",
     "output_type": "stream",
     "text": [
      "Modes -> Glow: False, Particles: True, Mirror: False, Filter: 0\n",
      "Modes -> Glow: False, Particles: True, Mirror: False, Filter: 0\n"
     ]
    },
    {
     "name": "stderr",
     "output_type": "stream",
     "text": [
      "C:\\Users\\GAMING/.cache\\torch\\hub\\ultralytics_yolov5_master\\models\\common.py:894: FutureWarning: `torch.cuda.amp.autocast(args...)` is deprecated. Please use `torch.amp.autocast('cuda', args...)` instead.\n",
      "  with amp.autocast(autocast):\n",
      "C:\\Users\\GAMING/.cache\\torch\\hub\\ultralytics_yolov5_master\\models\\common.py:894: FutureWarning: `torch.cuda.amp.autocast(args...)` is deprecated. Please use `torch.amp.autocast('cuda', args...)` instead.\n",
      "  with amp.autocast(autocast):\n"
     ]
    },
    {
     "name": "stdout",
     "output_type": "stream",
     "text": [
      "Modes -> Glow: False, Particles: True, Mirror: False, Filter: 0\n",
      "Modes -> Glow: False, Particles: True, Mirror: False, Filter: 0\n"
     ]
    },
    {
     "name": "stderr",
     "output_type": "stream",
     "text": [
      "C:\\Users\\GAMING/.cache\\torch\\hub\\ultralytics_yolov5_master\\models\\common.py:894: FutureWarning: `torch.cuda.amp.autocast(args...)` is deprecated. Please use `torch.amp.autocast('cuda', args...)` instead.\n",
      "  with amp.autocast(autocast):\n",
      "C:\\Users\\GAMING/.cache\\torch\\hub\\ultralytics_yolov5_master\\models\\common.py:894: FutureWarning: `torch.cuda.amp.autocast(args...)` is deprecated. Please use `torch.amp.autocast('cuda', args...)` instead.\n",
      "  with amp.autocast(autocast):\n"
     ]
    },
    {
     "name": "stdout",
     "output_type": "stream",
     "text": [
      "Modes -> Glow: False, Particles: True, Mirror: False, Filter: 0\n",
      "Modes -> Glow: False, Particles: True, Mirror: False, Filter: 0\n"
     ]
    },
    {
     "name": "stderr",
     "output_type": "stream",
     "text": [
      "C:\\Users\\GAMING/.cache\\torch\\hub\\ultralytics_yolov5_master\\models\\common.py:894: FutureWarning: `torch.cuda.amp.autocast(args...)` is deprecated. Please use `torch.amp.autocast('cuda', args...)` instead.\n",
      "  with amp.autocast(autocast):\n",
      "C:\\Users\\GAMING/.cache\\torch\\hub\\ultralytics_yolov5_master\\models\\common.py:894: FutureWarning: `torch.cuda.amp.autocast(args...)` is deprecated. Please use `torch.amp.autocast('cuda', args...)` instead.\n",
      "  with amp.autocast(autocast):\n"
     ]
    },
    {
     "name": "stdout",
     "output_type": "stream",
     "text": [
      "Modes -> Glow: False, Particles: True, Mirror: False, Filter: 0\n",
      "Modes -> Glow: False, Particles: True, Mirror: False, Filter: 0\n"
     ]
    },
    {
     "name": "stderr",
     "output_type": "stream",
     "text": [
      "C:\\Users\\GAMING/.cache\\torch\\hub\\ultralytics_yolov5_master\\models\\common.py:894: FutureWarning: `torch.cuda.amp.autocast(args...)` is deprecated. Please use `torch.amp.autocast('cuda', args...)` instead.\n",
      "  with amp.autocast(autocast):\n",
      "C:\\Users\\GAMING/.cache\\torch\\hub\\ultralytics_yolov5_master\\models\\common.py:894: FutureWarning: `torch.cuda.amp.autocast(args...)` is deprecated. Please use `torch.amp.autocast('cuda', args...)` instead.\n",
      "  with amp.autocast(autocast):\n"
     ]
    },
    {
     "name": "stdout",
     "output_type": "stream",
     "text": [
      "Modes -> Glow: False, Particles: True, Mirror: False, Filter: 0\n",
      "Modes -> Glow: False, Particles: True, Mirror: False, Filter: 0\n"
     ]
    },
    {
     "name": "stderr",
     "output_type": "stream",
     "text": [
      "C:\\Users\\GAMING/.cache\\torch\\hub\\ultralytics_yolov5_master\\models\\common.py:894: FutureWarning: `torch.cuda.amp.autocast(args...)` is deprecated. Please use `torch.amp.autocast('cuda', args...)` instead.\n",
      "  with amp.autocast(autocast):\n",
      "C:\\Users\\GAMING/.cache\\torch\\hub\\ultralytics_yolov5_master\\models\\common.py:894: FutureWarning: `torch.cuda.amp.autocast(args...)` is deprecated. Please use `torch.amp.autocast('cuda', args...)` instead.\n",
      "  with amp.autocast(autocast):\n"
     ]
    },
    {
     "name": "stdout",
     "output_type": "stream",
     "text": [
      "Modes -> Glow: False, Particles: True, Mirror: False, Filter: 0\n",
      "Modes -> Glow: False, Particles: True, Mirror: False, Filter: 0\n"
     ]
    },
    {
     "name": "stderr",
     "output_type": "stream",
     "text": [
      "C:\\Users\\GAMING/.cache\\torch\\hub\\ultralytics_yolov5_master\\models\\common.py:894: FutureWarning: `torch.cuda.amp.autocast(args...)` is deprecated. Please use `torch.amp.autocast('cuda', args...)` instead.\n",
      "  with amp.autocast(autocast):\n",
      "C:\\Users\\GAMING/.cache\\torch\\hub\\ultralytics_yolov5_master\\models\\common.py:894: FutureWarning: `torch.cuda.amp.autocast(args...)` is deprecated. Please use `torch.amp.autocast('cuda', args...)` instead.\n",
      "  with amp.autocast(autocast):\n"
     ]
    },
    {
     "name": "stdout",
     "output_type": "stream",
     "text": [
      "Modes -> Glow: False, Particles: True, Mirror: False, Filter: 0\n",
      "Modes -> Glow: False, Particles: True, Mirror: False, Filter: 0\n"
     ]
    },
    {
     "name": "stderr",
     "output_type": "stream",
     "text": [
      "C:\\Users\\GAMING/.cache\\torch\\hub\\ultralytics_yolov5_master\\models\\common.py:894: FutureWarning: `torch.cuda.amp.autocast(args...)` is deprecated. Please use `torch.amp.autocast('cuda', args...)` instead.\n",
      "  with amp.autocast(autocast):\n",
      "C:\\Users\\GAMING/.cache\\torch\\hub\\ultralytics_yolov5_master\\models\\common.py:894: FutureWarning: `torch.cuda.amp.autocast(args...)` is deprecated. Please use `torch.amp.autocast('cuda', args...)` instead.\n",
      "  with amp.autocast(autocast):\n"
     ]
    },
    {
     "name": "stdout",
     "output_type": "stream",
     "text": [
      "Modes -> Glow: False, Particles: True, Mirror: False, Filter: 0\n",
      "Modes -> Glow: False, Particles: True, Mirror: False, Filter: 0\n"
     ]
    },
    {
     "name": "stderr",
     "output_type": "stream",
     "text": [
      "C:\\Users\\GAMING/.cache\\torch\\hub\\ultralytics_yolov5_master\\models\\common.py:894: FutureWarning: `torch.cuda.amp.autocast(args...)` is deprecated. Please use `torch.amp.autocast('cuda', args...)` instead.\n",
      "  with amp.autocast(autocast):\n",
      "C:\\Users\\GAMING/.cache\\torch\\hub\\ultralytics_yolov5_master\\models\\common.py:894: FutureWarning: `torch.cuda.amp.autocast(args...)` is deprecated. Please use `torch.amp.autocast('cuda', args...)` instead.\n",
      "  with amp.autocast(autocast):\n"
     ]
    },
    {
     "name": "stdout",
     "output_type": "stream",
     "text": [
      "Modes -> Glow: False, Particles: True, Mirror: False, Filter: 0\n",
      "Modes -> Glow: False, Particles: True, Mirror: False, Filter: 0\n"
     ]
    },
    {
     "name": "stderr",
     "output_type": "stream",
     "text": [
      "C:\\Users\\GAMING/.cache\\torch\\hub\\ultralytics_yolov5_master\\models\\common.py:894: FutureWarning: `torch.cuda.amp.autocast(args...)` is deprecated. Please use `torch.amp.autocast('cuda', args...)` instead.\n",
      "  with amp.autocast(autocast):\n",
      "C:\\Users\\GAMING/.cache\\torch\\hub\\ultralytics_yolov5_master\\models\\common.py:894: FutureWarning: `torch.cuda.amp.autocast(args...)` is deprecated. Please use `torch.amp.autocast('cuda', args...)` instead.\n",
      "  with amp.autocast(autocast):\n"
     ]
    },
    {
     "name": "stdout",
     "output_type": "stream",
     "text": [
      "Modes -> Glow: False, Particles: True, Mirror: False, Filter: 0\n",
      "Modes -> Glow: False, Particles: True, Mirror: False, Filter: 0\n"
     ]
    },
    {
     "name": "stderr",
     "output_type": "stream",
     "text": [
      "C:\\Users\\GAMING/.cache\\torch\\hub\\ultralytics_yolov5_master\\models\\common.py:894: FutureWarning: `torch.cuda.amp.autocast(args...)` is deprecated. Please use `torch.amp.autocast('cuda', args...)` instead.\n",
      "  with amp.autocast(autocast):\n",
      "C:\\Users\\GAMING/.cache\\torch\\hub\\ultralytics_yolov5_master\\models\\common.py:894: FutureWarning: `torch.cuda.amp.autocast(args...)` is deprecated. Please use `torch.amp.autocast('cuda', args...)` instead.\n",
      "  with amp.autocast(autocast):\n"
     ]
    },
    {
     "name": "stdout",
     "output_type": "stream",
     "text": [
      "Modes -> Glow: False, Particles: True, Mirror: False, Filter: 0\n",
      "Modes -> Glow: False, Particles: True, Mirror: False, Filter: 0\n"
     ]
    },
    {
     "name": "stderr",
     "output_type": "stream",
     "text": [
      "C:\\Users\\GAMING/.cache\\torch\\hub\\ultralytics_yolov5_master\\models\\common.py:894: FutureWarning: `torch.cuda.amp.autocast(args...)` is deprecated. Please use `torch.amp.autocast('cuda', args...)` instead.\n",
      "  with amp.autocast(autocast):\n",
      "C:\\Users\\GAMING/.cache\\torch\\hub\\ultralytics_yolov5_master\\models\\common.py:894: FutureWarning: `torch.cuda.amp.autocast(args...)` is deprecated. Please use `torch.amp.autocast('cuda', args...)` instead.\n",
      "  with amp.autocast(autocast):\n"
     ]
    },
    {
     "name": "stdout",
     "output_type": "stream",
     "text": [
      "Modes -> Glow: False, Particles: True, Mirror: False, Filter: 0\n",
      "Modes -> Glow: False, Particles: True, Mirror: False, Filter: 0\n"
     ]
    },
    {
     "name": "stderr",
     "output_type": "stream",
     "text": [
      "C:\\Users\\GAMING/.cache\\torch\\hub\\ultralytics_yolov5_master\\models\\common.py:894: FutureWarning: `torch.cuda.amp.autocast(args...)` is deprecated. Please use `torch.amp.autocast('cuda', args...)` instead.\n",
      "  with amp.autocast(autocast):\n",
      "C:\\Users\\GAMING/.cache\\torch\\hub\\ultralytics_yolov5_master\\models\\common.py:894: FutureWarning: `torch.cuda.amp.autocast(args...)` is deprecated. Please use `torch.amp.autocast('cuda', args...)` instead.\n",
      "  with amp.autocast(autocast):\n"
     ]
    },
    {
     "name": "stdout",
     "output_type": "stream",
     "text": [
      "Modes -> Glow: False, Particles: True, Mirror: False, Filter: 0\n",
      "Modes -> Glow: False, Particles: True, Mirror: False, Filter: 0\n"
     ]
    },
    {
     "name": "stderr",
     "output_type": "stream",
     "text": [
      "C:\\Users\\GAMING/.cache\\torch\\hub\\ultralytics_yolov5_master\\models\\common.py:894: FutureWarning: `torch.cuda.amp.autocast(args...)` is deprecated. Please use `torch.amp.autocast('cuda', args...)` instead.\n",
      "  with amp.autocast(autocast):\n",
      "C:\\Users\\GAMING/.cache\\torch\\hub\\ultralytics_yolov5_master\\models\\common.py:894: FutureWarning: `torch.cuda.amp.autocast(args...)` is deprecated. Please use `torch.amp.autocast('cuda', args...)` instead.\n",
      "  with amp.autocast(autocast):\n"
     ]
    },
    {
     "name": "stdout",
     "output_type": "stream",
     "text": [
      "Modes -> Glow: False, Particles: True, Mirror: False, Filter: 0\n",
      "Modes -> Glow: False, Particles: True, Mirror: False, Filter: 0\n"
     ]
    },
    {
     "name": "stderr",
     "output_type": "stream",
     "text": [
      "C:\\Users\\GAMING/.cache\\torch\\hub\\ultralytics_yolov5_master\\models\\common.py:894: FutureWarning: `torch.cuda.amp.autocast(args...)` is deprecated. Please use `torch.amp.autocast('cuda', args...)` instead.\n",
      "  with amp.autocast(autocast):\n",
      "C:\\Users\\GAMING/.cache\\torch\\hub\\ultralytics_yolov5_master\\models\\common.py:894: FutureWarning: `torch.cuda.amp.autocast(args...)` is deprecated. Please use `torch.amp.autocast('cuda', args...)` instead.\n",
      "  with amp.autocast(autocast):\n"
     ]
    },
    {
     "name": "stdout",
     "output_type": "stream",
     "text": [
      "Modes -> Glow: False, Particles: True, Mirror: False, Filter: 0\n",
      "Modes -> Glow: False, Particles: True, Mirror: False, Filter: 0\n"
     ]
    },
    {
     "name": "stderr",
     "output_type": "stream",
     "text": [
      "C:\\Users\\GAMING/.cache\\torch\\hub\\ultralytics_yolov5_master\\models\\common.py:894: FutureWarning: `torch.cuda.amp.autocast(args...)` is deprecated. Please use `torch.amp.autocast('cuda', args...)` instead.\n",
      "  with amp.autocast(autocast):\n",
      "C:\\Users\\GAMING/.cache\\torch\\hub\\ultralytics_yolov5_master\\models\\common.py:894: FutureWarning: `torch.cuda.amp.autocast(args...)` is deprecated. Please use `torch.amp.autocast('cuda', args...)` instead.\n",
      "  with amp.autocast(autocast):\n"
     ]
    },
    {
     "name": "stdout",
     "output_type": "stream",
     "text": [
      "Modes -> Glow: False, Particles: True, Mirror: False, Filter: 0\n",
      "Modes -> Glow: False, Particles: True, Mirror: False, Filter: 0\n"
     ]
    },
    {
     "name": "stderr",
     "output_type": "stream",
     "text": [
      "C:\\Users\\GAMING/.cache\\torch\\hub\\ultralytics_yolov5_master\\models\\common.py:894: FutureWarning: `torch.cuda.amp.autocast(args...)` is deprecated. Please use `torch.amp.autocast('cuda', args...)` instead.\n",
      "  with amp.autocast(autocast):\n",
      "C:\\Users\\GAMING/.cache\\torch\\hub\\ultralytics_yolov5_master\\models\\common.py:894: FutureWarning: `torch.cuda.amp.autocast(args...)` is deprecated. Please use `torch.amp.autocast('cuda', args...)` instead.\n",
      "  with amp.autocast(autocast):\n"
     ]
    },
    {
     "name": "stdout",
     "output_type": "stream",
     "text": [
      "Modes -> Glow: False, Particles: True, Mirror: False, Filter: 0\n",
      "Modes -> Glow: False, Particles: True, Mirror: False, Filter: 0\n"
     ]
    },
    {
     "name": "stderr",
     "output_type": "stream",
     "text": [
      "C:\\Users\\GAMING/.cache\\torch\\hub\\ultralytics_yolov5_master\\models\\common.py:894: FutureWarning: `torch.cuda.amp.autocast(args...)` is deprecated. Please use `torch.amp.autocast('cuda', args...)` instead.\n",
      "  with amp.autocast(autocast):\n",
      "C:\\Users\\GAMING/.cache\\torch\\hub\\ultralytics_yolov5_master\\models\\common.py:894: FutureWarning: `torch.cuda.amp.autocast(args...)` is deprecated. Please use `torch.amp.autocast('cuda', args...)` instead.\n",
      "  with amp.autocast(autocast):\n"
     ]
    },
    {
     "name": "stdout",
     "output_type": "stream",
     "text": [
      "Modes -> Glow: False, Particles: True, Mirror: False, Filter: 0\n",
      "Modes -> Glow: False, Particles: True, Mirror: False, Filter: 0\n"
     ]
    },
    {
     "name": "stderr",
     "output_type": "stream",
     "text": [
      "C:\\Users\\GAMING/.cache\\torch\\hub\\ultralytics_yolov5_master\\models\\common.py:894: FutureWarning: `torch.cuda.amp.autocast(args...)` is deprecated. Please use `torch.amp.autocast('cuda', args...)` instead.\n",
      "  with amp.autocast(autocast):\n",
      "C:\\Users\\GAMING/.cache\\torch\\hub\\ultralytics_yolov5_master\\models\\common.py:894: FutureWarning: `torch.cuda.amp.autocast(args...)` is deprecated. Please use `torch.amp.autocast('cuda', args...)` instead.\n",
      "  with amp.autocast(autocast):\n"
     ]
    },
    {
     "name": "stdout",
     "output_type": "stream",
     "text": [
      "Modes -> Glow: False, Particles: True, Mirror: False, Filter: 0\n",
      "Modes -> Glow: False, Particles: True, Mirror: False, Filter: 0\n"
     ]
    },
    {
     "name": "stderr",
     "output_type": "stream",
     "text": [
      "C:\\Users\\GAMING/.cache\\torch\\hub\\ultralytics_yolov5_master\\models\\common.py:894: FutureWarning: `torch.cuda.amp.autocast(args...)` is deprecated. Please use `torch.amp.autocast('cuda', args...)` instead.\n",
      "  with amp.autocast(autocast):\n",
      "C:\\Users\\GAMING/.cache\\torch\\hub\\ultralytics_yolov5_master\\models\\common.py:894: FutureWarning: `torch.cuda.amp.autocast(args...)` is deprecated. Please use `torch.amp.autocast('cuda', args...)` instead.\n",
      "  with amp.autocast(autocast):\n"
     ]
    },
    {
     "name": "stdout",
     "output_type": "stream",
     "text": [
      "Modes -> Glow: False, Particles: True, Mirror: False, Filter: 0\n",
      "Modes -> Glow: False, Particles: True, Mirror: False, Filter: 0\n"
     ]
    },
    {
     "name": "stderr",
     "output_type": "stream",
     "text": [
      "C:\\Users\\GAMING/.cache\\torch\\hub\\ultralytics_yolov5_master\\models\\common.py:894: FutureWarning: `torch.cuda.amp.autocast(args...)` is deprecated. Please use `torch.amp.autocast('cuda', args...)` instead.\n",
      "  with amp.autocast(autocast):\n",
      "C:\\Users\\GAMING/.cache\\torch\\hub\\ultralytics_yolov5_master\\models\\common.py:894: FutureWarning: `torch.cuda.amp.autocast(args...)` is deprecated. Please use `torch.amp.autocast('cuda', args...)` instead.\n",
      "  with amp.autocast(autocast):\n"
     ]
    },
    {
     "name": "stdout",
     "output_type": "stream",
     "text": [
      "Modes -> Glow: False, Particles: True, Mirror: False, Filter: 0\n",
      "Modes -> Glow: False, Particles: True, Mirror: False, Filter: 0\n"
     ]
    },
    {
     "name": "stderr",
     "output_type": "stream",
     "text": [
      "C:\\Users\\GAMING/.cache\\torch\\hub\\ultralytics_yolov5_master\\models\\common.py:894: FutureWarning: `torch.cuda.amp.autocast(args...)` is deprecated. Please use `torch.amp.autocast('cuda', args...)` instead.\n",
      "  with amp.autocast(autocast):\n",
      "C:\\Users\\GAMING/.cache\\torch\\hub\\ultralytics_yolov5_master\\models\\common.py:894: FutureWarning: `torch.cuda.amp.autocast(args...)` is deprecated. Please use `torch.amp.autocast('cuda', args...)` instead.\n",
      "  with amp.autocast(autocast):\n"
     ]
    },
    {
     "name": "stdout",
     "output_type": "stream",
     "text": [
      "Modes -> Glow: False, Particles: True, Mirror: False, Filter: 0\n",
      "Modes -> Glow: False, Particles: True, Mirror: False, Filter: 0\n"
     ]
    },
    {
     "name": "stderr",
     "output_type": "stream",
     "text": [
      "C:\\Users\\GAMING/.cache\\torch\\hub\\ultralytics_yolov5_master\\models\\common.py:894: FutureWarning: `torch.cuda.amp.autocast(args...)` is deprecated. Please use `torch.amp.autocast('cuda', args...)` instead.\n",
      "  with amp.autocast(autocast):\n",
      "C:\\Users\\GAMING/.cache\\torch\\hub\\ultralytics_yolov5_master\\models\\common.py:894: FutureWarning: `torch.cuda.amp.autocast(args...)` is deprecated. Please use `torch.amp.autocast('cuda', args...)` instead.\n",
      "  with amp.autocast(autocast):\n"
     ]
    },
    {
     "name": "stdout",
     "output_type": "stream",
     "text": [
      "Modes -> Glow: False, Particles: True, Mirror: False, Filter: 0\n",
      "Modes -> Glow: False, Particles: True, Mirror: False, Filter: 0\n"
     ]
    },
    {
     "name": "stderr",
     "output_type": "stream",
     "text": [
      "C:\\Users\\GAMING/.cache\\torch\\hub\\ultralytics_yolov5_master\\models\\common.py:894: FutureWarning: `torch.cuda.amp.autocast(args...)` is deprecated. Please use `torch.amp.autocast('cuda', args...)` instead.\n",
      "  with amp.autocast(autocast):\n",
      "C:\\Users\\GAMING/.cache\\torch\\hub\\ultralytics_yolov5_master\\models\\common.py:894: FutureWarning: `torch.cuda.amp.autocast(args...)` is deprecated. Please use `torch.amp.autocast('cuda', args...)` instead.\n",
      "  with amp.autocast(autocast):\n"
     ]
    },
    {
     "name": "stdout",
     "output_type": "stream",
     "text": [
      "Modes -> Glow: False, Particles: True, Mirror: False, Filter: 0\n",
      "Modes -> Glow: False, Particles: True, Mirror: False, Filter: 0\n"
     ]
    },
    {
     "name": "stderr",
     "output_type": "stream",
     "text": [
      "C:\\Users\\GAMING/.cache\\torch\\hub\\ultralytics_yolov5_master\\models\\common.py:894: FutureWarning: `torch.cuda.amp.autocast(args...)` is deprecated. Please use `torch.amp.autocast('cuda', args...)` instead.\n",
      "  with amp.autocast(autocast):\n",
      "C:\\Users\\GAMING/.cache\\torch\\hub\\ultralytics_yolov5_master\\models\\common.py:894: FutureWarning: `torch.cuda.amp.autocast(args...)` is deprecated. Please use `torch.amp.autocast('cuda', args...)` instead.\n",
      "  with amp.autocast(autocast):\n"
     ]
    },
    {
     "name": "stdout",
     "output_type": "stream",
     "text": [
      "Modes -> Glow: False, Particles: True, Mirror: False, Filter: 0\n",
      "Modes -> Glow: False, Particles: True, Mirror: False, Filter: 0\n"
     ]
    },
    {
     "name": "stderr",
     "output_type": "stream",
     "text": [
      "C:\\Users\\GAMING/.cache\\torch\\hub\\ultralytics_yolov5_master\\models\\common.py:894: FutureWarning: `torch.cuda.amp.autocast(args...)` is deprecated. Please use `torch.amp.autocast('cuda', args...)` instead.\n",
      "  with amp.autocast(autocast):\n",
      "C:\\Users\\GAMING/.cache\\torch\\hub\\ultralytics_yolov5_master\\models\\common.py:894: FutureWarning: `torch.cuda.amp.autocast(args...)` is deprecated. Please use `torch.amp.autocast('cuda', args...)` instead.\n",
      "  with amp.autocast(autocast):\n"
     ]
    },
    {
     "name": "stdout",
     "output_type": "stream",
     "text": [
      "Modes -> Glow: False, Particles: True, Mirror: False, Filter: 0\n",
      "Modes -> Glow: False, Particles: True, Mirror: False, Filter: 0\n"
     ]
    },
    {
     "name": "stderr",
     "output_type": "stream",
     "text": [
      "C:\\Users\\GAMING/.cache\\torch\\hub\\ultralytics_yolov5_master\\models\\common.py:894: FutureWarning: `torch.cuda.amp.autocast(args...)` is deprecated. Please use `torch.amp.autocast('cuda', args...)` instead.\n",
      "  with amp.autocast(autocast):\n",
      "C:\\Users\\GAMING/.cache\\torch\\hub\\ultralytics_yolov5_master\\models\\common.py:894: FutureWarning: `torch.cuda.amp.autocast(args...)` is deprecated. Please use `torch.amp.autocast('cuda', args...)` instead.\n",
      "  with amp.autocast(autocast):\n"
     ]
    },
    {
     "name": "stdout",
     "output_type": "stream",
     "text": [
      "Modes -> Glow: False, Particles: True, Mirror: False, Filter: 0\n",
      "Modes -> Glow: False, Particles: True, Mirror: False, Filter: 0\n"
     ]
    },
    {
     "name": "stderr",
     "output_type": "stream",
     "text": [
      "C:\\Users\\GAMING/.cache\\torch\\hub\\ultralytics_yolov5_master\\models\\common.py:894: FutureWarning: `torch.cuda.amp.autocast(args...)` is deprecated. Please use `torch.amp.autocast('cuda', args...)` instead.\n",
      "  with amp.autocast(autocast):\n",
      "C:\\Users\\GAMING/.cache\\torch\\hub\\ultralytics_yolov5_master\\models\\common.py:894: FutureWarning: `torch.cuda.amp.autocast(args...)` is deprecated. Please use `torch.amp.autocast('cuda', args...)` instead.\n",
      "  with amp.autocast(autocast):\n"
     ]
    },
    {
     "name": "stdout",
     "output_type": "stream",
     "text": [
      "Modes -> Glow: False, Particles: True, Mirror: False, Filter: 0\n",
      "Modes -> Glow: False, Particles: True, Mirror: False, Filter: 0\n"
     ]
    },
    {
     "name": "stderr",
     "output_type": "stream",
     "text": [
      "C:\\Users\\GAMING/.cache\\torch\\hub\\ultralytics_yolov5_master\\models\\common.py:894: FutureWarning: `torch.cuda.amp.autocast(args...)` is deprecated. Please use `torch.amp.autocast('cuda', args...)` instead.\n",
      "  with amp.autocast(autocast):\n",
      "C:\\Users\\GAMING/.cache\\torch\\hub\\ultralytics_yolov5_master\\models\\common.py:894: FutureWarning: `torch.cuda.amp.autocast(args...)` is deprecated. Please use `torch.amp.autocast('cuda', args...)` instead.\n",
      "  with amp.autocast(autocast):\n"
     ]
    },
    {
     "name": "stdout",
     "output_type": "stream",
     "text": [
      "Modes -> Glow: False, Particles: True, Mirror: False, Filter: 0\n",
      "Modes -> Glow: False, Particles: True, Mirror: False, Filter: 0\n"
     ]
    },
    {
     "name": "stderr",
     "output_type": "stream",
     "text": [
      "C:\\Users\\GAMING/.cache\\torch\\hub\\ultralytics_yolov5_master\\models\\common.py:894: FutureWarning: `torch.cuda.amp.autocast(args...)` is deprecated. Please use `torch.amp.autocast('cuda', args...)` instead.\n",
      "  with amp.autocast(autocast):\n",
      "C:\\Users\\GAMING/.cache\\torch\\hub\\ultralytics_yolov5_master\\models\\common.py:894: FutureWarning: `torch.cuda.amp.autocast(args...)` is deprecated. Please use `torch.amp.autocast('cuda', args...)` instead.\n",
      "  with amp.autocast(autocast):\n"
     ]
    },
    {
     "name": "stdout",
     "output_type": "stream",
     "text": [
      "Modes -> Glow: False, Particles: True, Mirror: False, Filter: 0\n",
      "Modes -> Glow: False, Particles: True, Mirror: False, Filter: 0\n"
     ]
    },
    {
     "name": "stderr",
     "output_type": "stream",
     "text": [
      "C:\\Users\\GAMING/.cache\\torch\\hub\\ultralytics_yolov5_master\\models\\common.py:894: FutureWarning: `torch.cuda.amp.autocast(args...)` is deprecated. Please use `torch.amp.autocast('cuda', args...)` instead.\n",
      "  with amp.autocast(autocast):\n",
      "C:\\Users\\GAMING/.cache\\torch\\hub\\ultralytics_yolov5_master\\models\\common.py:894: FutureWarning: `torch.cuda.amp.autocast(args...)` is deprecated. Please use `torch.amp.autocast('cuda', args...)` instead.\n",
      "  with amp.autocast(autocast):\n"
     ]
    },
    {
     "name": "stdout",
     "output_type": "stream",
     "text": [
      "Modes -> Glow: False, Particles: True, Mirror: False, Filter: 0\n",
      "Modes -> Glow: False, Particles: True, Mirror: False, Filter: 0\n"
     ]
    },
    {
     "name": "stderr",
     "output_type": "stream",
     "text": [
      "C:\\Users\\GAMING/.cache\\torch\\hub\\ultralytics_yolov5_master\\models\\common.py:894: FutureWarning: `torch.cuda.amp.autocast(args...)` is deprecated. Please use `torch.amp.autocast('cuda', args...)` instead.\n",
      "  with amp.autocast(autocast):\n"
     ]
    },
    {
     "name": "stdout",
     "output_type": "stream",
     "text": [
      "Modes -> Glow: False, Particles: True, Mirror: False, Filter: 0\n",
      "Modes -> Glow: False, Particles: True, Mirror: False, Filter: 0\n"
     ]
    },
    {
     "name": "stderr",
     "output_type": "stream",
     "text": [
      "C:\\Users\\GAMING/.cache\\torch\\hub\\ultralytics_yolov5_master\\models\\common.py:894: FutureWarning: `torch.cuda.amp.autocast(args...)` is deprecated. Please use `torch.amp.autocast('cuda', args...)` instead.\n",
      "  with amp.autocast(autocast):\n",
      "C:\\Users\\GAMING/.cache\\torch\\hub\\ultralytics_yolov5_master\\models\\common.py:894: FutureWarning: `torch.cuda.amp.autocast(args...)` is deprecated. Please use `torch.amp.autocast('cuda', args...)` instead.\n",
      "  with amp.autocast(autocast):\n"
     ]
    },
    {
     "name": "stdout",
     "output_type": "stream",
     "text": [
      "Modes -> Glow: False, Particles: True, Mirror: False, Filter: 0\n",
      "Modes -> Glow: False, Particles: True, Mirror: False, Filter: 0\n"
     ]
    },
    {
     "name": "stderr",
     "output_type": "stream",
     "text": [
      "C:\\Users\\GAMING/.cache\\torch\\hub\\ultralytics_yolov5_master\\models\\common.py:894: FutureWarning: `torch.cuda.amp.autocast(args...)` is deprecated. Please use `torch.amp.autocast('cuda', args...)` instead.\n",
      "  with amp.autocast(autocast):\n",
      "C:\\Users\\GAMING/.cache\\torch\\hub\\ultralytics_yolov5_master\\models\\common.py:894: FutureWarning: `torch.cuda.amp.autocast(args...)` is deprecated. Please use `torch.amp.autocast('cuda', args...)` instead.\n",
      "  with amp.autocast(autocast):\n"
     ]
    },
    {
     "name": "stdout",
     "output_type": "stream",
     "text": [
      "Modes -> Glow: False, Particles: True, Mirror: False, Filter: 0\n",
      "Modes -> Glow: False, Particles: True, Mirror: False, Filter: 0\n"
     ]
    },
    {
     "name": "stderr",
     "output_type": "stream",
     "text": [
      "C:\\Users\\GAMING/.cache\\torch\\hub\\ultralytics_yolov5_master\\models\\common.py:894: FutureWarning: `torch.cuda.amp.autocast(args...)` is deprecated. Please use `torch.amp.autocast('cuda', args...)` instead.\n",
      "  with amp.autocast(autocast):\n",
      "C:\\Users\\GAMING/.cache\\torch\\hub\\ultralytics_yolov5_master\\models\\common.py:894: FutureWarning: `torch.cuda.amp.autocast(args...)` is deprecated. Please use `torch.amp.autocast('cuda', args...)` instead.\n",
      "  with amp.autocast(autocast):\n"
     ]
    },
    {
     "name": "stdout",
     "output_type": "stream",
     "text": [
      "Modes -> Glow: False, Particles: True, Mirror: False, Filter: 0\n",
      "Modes -> Glow: False, Particles: True, Mirror: False, Filter: 0\n"
     ]
    },
    {
     "name": "stderr",
     "output_type": "stream",
     "text": [
      "C:\\Users\\GAMING/.cache\\torch\\hub\\ultralytics_yolov5_master\\models\\common.py:894: FutureWarning: `torch.cuda.amp.autocast(args...)` is deprecated. Please use `torch.amp.autocast('cuda', args...)` instead.\n",
      "  with amp.autocast(autocast):\n",
      "C:\\Users\\GAMING/.cache\\torch\\hub\\ultralytics_yolov5_master\\models\\common.py:894: FutureWarning: `torch.cuda.amp.autocast(args...)` is deprecated. Please use `torch.amp.autocast('cuda', args...)` instead.\n",
      "  with amp.autocast(autocast):\n"
     ]
    },
    {
     "name": "stdout",
     "output_type": "stream",
     "text": [
      "Modes -> Glow: False, Particles: True, Mirror: False, Filter: 0\n",
      "Modes -> Glow: False, Particles: True, Mirror: False, Filter: 0\n"
     ]
    },
    {
     "name": "stderr",
     "output_type": "stream",
     "text": [
      "C:\\Users\\GAMING/.cache\\torch\\hub\\ultralytics_yolov5_master\\models\\common.py:894: FutureWarning: `torch.cuda.amp.autocast(args...)` is deprecated. Please use `torch.amp.autocast('cuda', args...)` instead.\n",
      "  with amp.autocast(autocast):\n",
      "C:\\Users\\GAMING/.cache\\torch\\hub\\ultralytics_yolov5_master\\models\\common.py:894: FutureWarning: `torch.cuda.amp.autocast(args...)` is deprecated. Please use `torch.amp.autocast('cuda', args...)` instead.\n",
      "  with amp.autocast(autocast):\n"
     ]
    },
    {
     "name": "stdout",
     "output_type": "stream",
     "text": [
      "Modes -> Glow: False, Particles: True, Mirror: False, Filter: 0\n",
      "Modes -> Glow: False, Particles: True, Mirror: False, Filter: 0\n"
     ]
    },
    {
     "name": "stderr",
     "output_type": "stream",
     "text": [
      "C:\\Users\\GAMING/.cache\\torch\\hub\\ultralytics_yolov5_master\\models\\common.py:894: FutureWarning: `torch.cuda.amp.autocast(args...)` is deprecated. Please use `torch.amp.autocast('cuda', args...)` instead.\n",
      "  with amp.autocast(autocast):\n",
      "C:\\Users\\GAMING/.cache\\torch\\hub\\ultralytics_yolov5_master\\models\\common.py:894: FutureWarning: `torch.cuda.amp.autocast(args...)` is deprecated. Please use `torch.amp.autocast('cuda', args...)` instead.\n",
      "  with amp.autocast(autocast):\n"
     ]
    },
    {
     "name": "stdout",
     "output_type": "stream",
     "text": [
      "Modes -> Glow: False, Particles: True, Mirror: False, Filter: 0\n",
      "Modes -> Glow: False, Particles: True, Mirror: False, Filter: 0\n"
     ]
    },
    {
     "name": "stderr",
     "output_type": "stream",
     "text": [
      "C:\\Users\\GAMING/.cache\\torch\\hub\\ultralytics_yolov5_master\\models\\common.py:894: FutureWarning: `torch.cuda.amp.autocast(args...)` is deprecated. Please use `torch.amp.autocast('cuda', args...)` instead.\n",
      "  with amp.autocast(autocast):\n",
      "C:\\Users\\GAMING/.cache\\torch\\hub\\ultralytics_yolov5_master\\models\\common.py:894: FutureWarning: `torch.cuda.amp.autocast(args...)` is deprecated. Please use `torch.amp.autocast('cuda', args...)` instead.\n",
      "  with amp.autocast(autocast):\n"
     ]
    },
    {
     "name": "stdout",
     "output_type": "stream",
     "text": [
      "Modes -> Glow: False, Particles: True, Mirror: False, Filter: 0\n",
      "Modes -> Glow: False, Particles: True, Mirror: False, Filter: 0\n"
     ]
    },
    {
     "name": "stderr",
     "output_type": "stream",
     "text": [
      "C:\\Users\\GAMING/.cache\\torch\\hub\\ultralytics_yolov5_master\\models\\common.py:894: FutureWarning: `torch.cuda.amp.autocast(args...)` is deprecated. Please use `torch.amp.autocast('cuda', args...)` instead.\n",
      "  with amp.autocast(autocast):\n",
      "C:\\Users\\GAMING/.cache\\torch\\hub\\ultralytics_yolov5_master\\models\\common.py:894: FutureWarning: `torch.cuda.amp.autocast(args...)` is deprecated. Please use `torch.amp.autocast('cuda', args...)` instead.\n",
      "  with amp.autocast(autocast):\n"
     ]
    },
    {
     "name": "stdout",
     "output_type": "stream",
     "text": [
      "Modes -> Glow: False, Particles: True, Mirror: False, Filter: 0\n",
      "Modes -> Glow: False, Particles: True, Mirror: False, Filter: 0\n"
     ]
    },
    {
     "name": "stderr",
     "output_type": "stream",
     "text": [
      "C:\\Users\\GAMING/.cache\\torch\\hub\\ultralytics_yolov5_master\\models\\common.py:894: FutureWarning: `torch.cuda.amp.autocast(args...)` is deprecated. Please use `torch.amp.autocast('cuda', args...)` instead.\n",
      "  with amp.autocast(autocast):\n",
      "C:\\Users\\GAMING/.cache\\torch\\hub\\ultralytics_yolov5_master\\models\\common.py:894: FutureWarning: `torch.cuda.amp.autocast(args...)` is deprecated. Please use `torch.amp.autocast('cuda', args...)` instead.\n",
      "  with amp.autocast(autocast):\n"
     ]
    },
    {
     "name": "stdout",
     "output_type": "stream",
     "text": [
      "Modes -> Glow: False, Particles: True, Mirror: False, Filter: 0\n",
      "Modes -> Glow: False, Particles: True, Mirror: False, Filter: 0\n"
     ]
    },
    {
     "name": "stderr",
     "output_type": "stream",
     "text": [
      "C:\\Users\\GAMING/.cache\\torch\\hub\\ultralytics_yolov5_master\\models\\common.py:894: FutureWarning: `torch.cuda.amp.autocast(args...)` is deprecated. Please use `torch.amp.autocast('cuda', args...)` instead.\n",
      "  with amp.autocast(autocast):\n",
      "C:\\Users\\GAMING/.cache\\torch\\hub\\ultralytics_yolov5_master\\models\\common.py:894: FutureWarning: `torch.cuda.amp.autocast(args...)` is deprecated. Please use `torch.amp.autocast('cuda', args...)` instead.\n",
      "  with amp.autocast(autocast):\n"
     ]
    },
    {
     "name": "stdout",
     "output_type": "stream",
     "text": [
      "Modes -> Glow: False, Particles: True, Mirror: False, Filter: 0\n",
      "Modes -> Glow: False, Particles: True, Mirror: False, Filter: 0\n"
     ]
    },
    {
     "name": "stderr",
     "output_type": "stream",
     "text": [
      "C:\\Users\\GAMING/.cache\\torch\\hub\\ultralytics_yolov5_master\\models\\common.py:894: FutureWarning: `torch.cuda.amp.autocast(args...)` is deprecated. Please use `torch.amp.autocast('cuda', args...)` instead.\n",
      "  with amp.autocast(autocast):\n",
      "C:\\Users\\GAMING/.cache\\torch\\hub\\ultralytics_yolov5_master\\models\\common.py:894: FutureWarning: `torch.cuda.amp.autocast(args...)` is deprecated. Please use `torch.amp.autocast('cuda', args...)` instead.\n",
      "  with amp.autocast(autocast):\n"
     ]
    },
    {
     "name": "stdout",
     "output_type": "stream",
     "text": [
      "Modes -> Glow: False, Particles: True, Mirror: False, Filter: 0\n",
      "Modes -> Glow: False, Particles: True, Mirror: False, Filter: 0\n"
     ]
    },
    {
     "name": "stderr",
     "output_type": "stream",
     "text": [
      "C:\\Users\\GAMING/.cache\\torch\\hub\\ultralytics_yolov5_master\\models\\common.py:894: FutureWarning: `torch.cuda.amp.autocast(args...)` is deprecated. Please use `torch.amp.autocast('cuda', args...)` instead.\n",
      "  with amp.autocast(autocast):\n",
      "C:\\Users\\GAMING/.cache\\torch\\hub\\ultralytics_yolov5_master\\models\\common.py:894: FutureWarning: `torch.cuda.amp.autocast(args...)` is deprecated. Please use `torch.amp.autocast('cuda', args...)` instead.\n",
      "  with amp.autocast(autocast):\n"
     ]
    },
    {
     "name": "stdout",
     "output_type": "stream",
     "text": [
      "Modes -> Glow: False, Particles: True, Mirror: False, Filter: 0\n",
      "Modes -> Glow: False, Particles: True, Mirror: False, Filter: 0\n"
     ]
    },
    {
     "name": "stderr",
     "output_type": "stream",
     "text": [
      "C:\\Users\\GAMING/.cache\\torch\\hub\\ultralytics_yolov5_master\\models\\common.py:894: FutureWarning: `torch.cuda.amp.autocast(args...)` is deprecated. Please use `torch.amp.autocast('cuda', args...)` instead.\n",
      "  with amp.autocast(autocast):\n",
      "C:\\Users\\GAMING/.cache\\torch\\hub\\ultralytics_yolov5_master\\models\\common.py:894: FutureWarning: `torch.cuda.amp.autocast(args...)` is deprecated. Please use `torch.amp.autocast('cuda', args...)` instead.\n",
      "  with amp.autocast(autocast):\n"
     ]
    },
    {
     "name": "stdout",
     "output_type": "stream",
     "text": [
      "Modes -> Glow: False, Particles: True, Mirror: False, Filter: 0\n",
      "Modes -> Glow: False, Particles: True, Mirror: False, Filter: 0\n"
     ]
    },
    {
     "name": "stderr",
     "output_type": "stream",
     "text": [
      "C:\\Users\\GAMING/.cache\\torch\\hub\\ultralytics_yolov5_master\\models\\common.py:894: FutureWarning: `torch.cuda.amp.autocast(args...)` is deprecated. Please use `torch.amp.autocast('cuda', args...)` instead.\n",
      "  with amp.autocast(autocast):\n",
      "C:\\Users\\GAMING/.cache\\torch\\hub\\ultralytics_yolov5_master\\models\\common.py:894: FutureWarning: `torch.cuda.amp.autocast(args...)` is deprecated. Please use `torch.amp.autocast('cuda', args...)` instead.\n",
      "  with amp.autocast(autocast):\n"
     ]
    },
    {
     "name": "stdout",
     "output_type": "stream",
     "text": [
      "Modes -> Glow: False, Particles: True, Mirror: False, Filter: 0\n",
      "Modes -> Glow: False, Particles: True, Mirror: False, Filter: 0\n"
     ]
    },
    {
     "name": "stderr",
     "output_type": "stream",
     "text": [
      "C:\\Users\\GAMING/.cache\\torch\\hub\\ultralytics_yolov5_master\\models\\common.py:894: FutureWarning: `torch.cuda.amp.autocast(args...)` is deprecated. Please use `torch.amp.autocast('cuda', args...)` instead.\n",
      "  with amp.autocast(autocast):\n",
      "C:\\Users\\GAMING/.cache\\torch\\hub\\ultralytics_yolov5_master\\models\\common.py:894: FutureWarning: `torch.cuda.amp.autocast(args...)` is deprecated. Please use `torch.amp.autocast('cuda', args...)` instead.\n",
      "  with amp.autocast(autocast):\n",
      "C:\\Users\\GAMING/.cache\\torch\\hub\\ultralytics_yolov5_master\\models\\common.py:894: FutureWarning: `torch.cuda.amp.autocast(args...)` is deprecated. Please use `torch.amp.autocast('cuda', args...)` instead.\n",
      "  with amp.autocast(autocast):\n"
     ]
    },
    {
     "name": "stdout",
     "output_type": "stream",
     "text": [
      "Modes -> Glow: False, Particles: True, Mirror: False, Filter: 0\n",
      "Modes -> Glow: False, Particles: True, Mirror: False, Filter: 0\n"
     ]
    },
    {
     "name": "stderr",
     "output_type": "stream",
     "text": [
      "C:\\Users\\GAMING/.cache\\torch\\hub\\ultralytics_yolov5_master\\models\\common.py:894: FutureWarning: `torch.cuda.amp.autocast(args...)` is deprecated. Please use `torch.amp.autocast('cuda', args...)` instead.\n",
      "  with amp.autocast(autocast):\n",
      "C:\\Users\\GAMING/.cache\\torch\\hub\\ultralytics_yolov5_master\\models\\common.py:894: FutureWarning: `torch.cuda.amp.autocast(args...)` is deprecated. Please use `torch.amp.autocast('cuda', args...)` instead.\n",
      "  with amp.autocast(autocast):\n"
     ]
    },
    {
     "name": "stdout",
     "output_type": "stream",
     "text": [
      "Modes -> Glow: False, Particles: True, Mirror: False, Filter: 0\n",
      "Modes -> Glow: False, Particles: True, Mirror: False, Filter: 0\n"
     ]
    },
    {
     "name": "stderr",
     "output_type": "stream",
     "text": [
      "C:\\Users\\GAMING/.cache\\torch\\hub\\ultralytics_yolov5_master\\models\\common.py:894: FutureWarning: `torch.cuda.amp.autocast(args...)` is deprecated. Please use `torch.amp.autocast('cuda', args...)` instead.\n",
      "  with amp.autocast(autocast):\n",
      "C:\\Users\\GAMING/.cache\\torch\\hub\\ultralytics_yolov5_master\\models\\common.py:894: FutureWarning: `torch.cuda.amp.autocast(args...)` is deprecated. Please use `torch.amp.autocast('cuda', args...)` instead.\n",
      "  with amp.autocast(autocast):\n"
     ]
    },
    {
     "name": "stdout",
     "output_type": "stream",
     "text": [
      "Modes -> Glow: False, Particles: True, Mirror: False, Filter: 0\n",
      "Modes -> Glow: False, Particles: True, Mirror: False, Filter: 0\n"
     ]
    },
    {
     "name": "stderr",
     "output_type": "stream",
     "text": [
      "C:\\Users\\GAMING/.cache\\torch\\hub\\ultralytics_yolov5_master\\models\\common.py:894: FutureWarning: `torch.cuda.amp.autocast(args...)` is deprecated. Please use `torch.amp.autocast('cuda', args...)` instead.\n",
      "  with amp.autocast(autocast):\n",
      "C:\\Users\\GAMING/.cache\\torch\\hub\\ultralytics_yolov5_master\\models\\common.py:894: FutureWarning: `torch.cuda.amp.autocast(args...)` is deprecated. Please use `torch.amp.autocast('cuda', args...)` instead.\n",
      "  with amp.autocast(autocast):\n"
     ]
    },
    {
     "name": "stdout",
     "output_type": "stream",
     "text": [
      "Modes -> Glow: False, Particles: True, Mirror: False, Filter: 0\n",
      "Modes -> Glow: False, Particles: True, Mirror: False, Filter: 0\n"
     ]
    },
    {
     "name": "stderr",
     "output_type": "stream",
     "text": [
      "C:\\Users\\GAMING/.cache\\torch\\hub\\ultralytics_yolov5_master\\models\\common.py:894: FutureWarning: `torch.cuda.amp.autocast(args...)` is deprecated. Please use `torch.amp.autocast('cuda', args...)` instead.\n",
      "  with amp.autocast(autocast):\n",
      "C:\\Users\\GAMING/.cache\\torch\\hub\\ultralytics_yolov5_master\\models\\common.py:894: FutureWarning: `torch.cuda.amp.autocast(args...)` is deprecated. Please use `torch.amp.autocast('cuda', args...)` instead.\n",
      "  with amp.autocast(autocast):\n"
     ]
    },
    {
     "name": "stdout",
     "output_type": "stream",
     "text": [
      "Modes -> Glow: False, Particles: True, Mirror: False, Filter: 0\n",
      "Modes -> Glow: False, Particles: True, Mirror: False, Filter: 0\n"
     ]
    },
    {
     "name": "stderr",
     "output_type": "stream",
     "text": [
      "C:\\Users\\GAMING/.cache\\torch\\hub\\ultralytics_yolov5_master\\models\\common.py:894: FutureWarning: `torch.cuda.amp.autocast(args...)` is deprecated. Please use `torch.amp.autocast('cuda', args...)` instead.\n",
      "  with amp.autocast(autocast):\n",
      "C:\\Users\\GAMING/.cache\\torch\\hub\\ultralytics_yolov5_master\\models\\common.py:894: FutureWarning: `torch.cuda.amp.autocast(args...)` is deprecated. Please use `torch.amp.autocast('cuda', args...)` instead.\n",
      "  with amp.autocast(autocast):\n"
     ]
    },
    {
     "name": "stdout",
     "output_type": "stream",
     "text": [
      "Modes -> Glow: False, Particles: True, Mirror: False, Filter: 0\n",
      "Modes -> Glow: False, Particles: True, Mirror: False, Filter: 0\n"
     ]
    },
    {
     "name": "stderr",
     "output_type": "stream",
     "text": [
      "C:\\Users\\GAMING/.cache\\torch\\hub\\ultralytics_yolov5_master\\models\\common.py:894: FutureWarning: `torch.cuda.amp.autocast(args...)` is deprecated. Please use `torch.amp.autocast('cuda', args...)` instead.\n",
      "  with amp.autocast(autocast):\n",
      "C:\\Users\\GAMING/.cache\\torch\\hub\\ultralytics_yolov5_master\\models\\common.py:894: FutureWarning: `torch.cuda.amp.autocast(args...)` is deprecated. Please use `torch.amp.autocast('cuda', args...)` instead.\n",
      "  with amp.autocast(autocast):\n"
     ]
    },
    {
     "name": "stdout",
     "output_type": "stream",
     "text": [
      "Modes -> Glow: False, Particles: True, Mirror: False, Filter: 0\n",
      "Modes -> Glow: False, Particles: True, Mirror: False, Filter: 0\n"
     ]
    },
    {
     "name": "stderr",
     "output_type": "stream",
     "text": [
      "C:\\Users\\GAMING/.cache\\torch\\hub\\ultralytics_yolov5_master\\models\\common.py:894: FutureWarning: `torch.cuda.amp.autocast(args...)` is deprecated. Please use `torch.amp.autocast('cuda', args...)` instead.\n",
      "  with amp.autocast(autocast):\n",
      "C:\\Users\\GAMING/.cache\\torch\\hub\\ultralytics_yolov5_master\\models\\common.py:894: FutureWarning: `torch.cuda.amp.autocast(args...)` is deprecated. Please use `torch.amp.autocast('cuda', args...)` instead.\n",
      "  with amp.autocast(autocast):\n"
     ]
    },
    {
     "name": "stdout",
     "output_type": "stream",
     "text": [
      "Modes -> Glow: False, Particles: True, Mirror: False, Filter: 0\n",
      "Modes -> Glow: False, Particles: True, Mirror: False, Filter: 0\n"
     ]
    },
    {
     "name": "stderr",
     "output_type": "stream",
     "text": [
      "C:\\Users\\GAMING/.cache\\torch\\hub\\ultralytics_yolov5_master\\models\\common.py:894: FutureWarning: `torch.cuda.amp.autocast(args...)` is deprecated. Please use `torch.amp.autocast('cuda', args...)` instead.\n",
      "  with amp.autocast(autocast):\n",
      "C:\\Users\\GAMING/.cache\\torch\\hub\\ultralytics_yolov5_master\\models\\common.py:894: FutureWarning: `torch.cuda.amp.autocast(args...)` is deprecated. Please use `torch.amp.autocast('cuda', args...)` instead.\n",
      "  with amp.autocast(autocast):\n"
     ]
    },
    {
     "name": "stdout",
     "output_type": "stream",
     "text": [
      "Modes -> Glow: False, Particles: True, Mirror: False, Filter: 0\n",
      "Modes -> Glow: False, Particles: True, Mirror: False, Filter: 0\n"
     ]
    },
    {
     "name": "stderr",
     "output_type": "stream",
     "text": [
      "C:\\Users\\GAMING/.cache\\torch\\hub\\ultralytics_yolov5_master\\models\\common.py:894: FutureWarning: `torch.cuda.amp.autocast(args...)` is deprecated. Please use `torch.amp.autocast('cuda', args...)` instead.\n",
      "  with amp.autocast(autocast):\n",
      "C:\\Users\\GAMING/.cache\\torch\\hub\\ultralytics_yolov5_master\\models\\common.py:894: FutureWarning: `torch.cuda.amp.autocast(args...)` is deprecated. Please use `torch.amp.autocast('cuda', args...)` instead.\n",
      "  with amp.autocast(autocast):\n"
     ]
    },
    {
     "name": "stdout",
     "output_type": "stream",
     "text": [
      "Modes -> Glow: False, Particles: True, Mirror: False, Filter: 0\n",
      "Modes -> Glow: False, Particles: True, Mirror: False, Filter: 0\n"
     ]
    },
    {
     "name": "stderr",
     "output_type": "stream",
     "text": [
      "C:\\Users\\GAMING/.cache\\torch\\hub\\ultralytics_yolov5_master\\models\\common.py:894: FutureWarning: `torch.cuda.amp.autocast(args...)` is deprecated. Please use `torch.amp.autocast('cuda', args...)` instead.\n",
      "  with amp.autocast(autocast):\n",
      "C:\\Users\\GAMING/.cache\\torch\\hub\\ultralytics_yolov5_master\\models\\common.py:894: FutureWarning: `torch.cuda.amp.autocast(args...)` is deprecated. Please use `torch.amp.autocast('cuda', args...)` instead.\n",
      "  with amp.autocast(autocast):\n"
     ]
    },
    {
     "name": "stdout",
     "output_type": "stream",
     "text": [
      "Modes -> Glow: False, Particles: True, Mirror: False, Filter: 0\n",
      "Modes -> Glow: False, Particles: True, Mirror: False, Filter: 0\n"
     ]
    },
    {
     "name": "stderr",
     "output_type": "stream",
     "text": [
      "C:\\Users\\GAMING/.cache\\torch\\hub\\ultralytics_yolov5_master\\models\\common.py:894: FutureWarning: `torch.cuda.amp.autocast(args...)` is deprecated. Please use `torch.amp.autocast('cuda', args...)` instead.\n",
      "  with amp.autocast(autocast):\n",
      "C:\\Users\\GAMING/.cache\\torch\\hub\\ultralytics_yolov5_master\\models\\common.py:894: FutureWarning: `torch.cuda.amp.autocast(args...)` is deprecated. Please use `torch.amp.autocast('cuda', args...)` instead.\n",
      "  with amp.autocast(autocast):\n"
     ]
    },
    {
     "name": "stdout",
     "output_type": "stream",
     "text": [
      "Modes -> Glow: False, Particles: True, Mirror: False, Filter: 0\n",
      "Modes -> Glow: False, Particles: True, Mirror: False, Filter: 0\n"
     ]
    },
    {
     "name": "stderr",
     "output_type": "stream",
     "text": [
      "C:\\Users\\GAMING/.cache\\torch\\hub\\ultralytics_yolov5_master\\models\\common.py:894: FutureWarning: `torch.cuda.amp.autocast(args...)` is deprecated. Please use `torch.amp.autocast('cuda', args...)` instead.\n",
      "  with amp.autocast(autocast):\n",
      "C:\\Users\\GAMING/.cache\\torch\\hub\\ultralytics_yolov5_master\\models\\common.py:894: FutureWarning: `torch.cuda.amp.autocast(args...)` is deprecated. Please use `torch.amp.autocast('cuda', args...)` instead.\n",
      "  with amp.autocast(autocast):\n"
     ]
    },
    {
     "name": "stdout",
     "output_type": "stream",
     "text": [
      "Modes -> Glow: False, Particles: True, Mirror: False, Filter: 0\n",
      "Modes -> Glow: False, Particles: True, Mirror: False, Filter: 0\n"
     ]
    },
    {
     "name": "stderr",
     "output_type": "stream",
     "text": [
      "C:\\Users\\GAMING/.cache\\torch\\hub\\ultralytics_yolov5_master\\models\\common.py:894: FutureWarning: `torch.cuda.amp.autocast(args...)` is deprecated. Please use `torch.amp.autocast('cuda', args...)` instead.\n",
      "  with amp.autocast(autocast):\n",
      "C:\\Users\\GAMING/.cache\\torch\\hub\\ultralytics_yolov5_master\\models\\common.py:894: FutureWarning: `torch.cuda.amp.autocast(args...)` is deprecated. Please use `torch.amp.autocast('cuda', args...)` instead.\n",
      "  with amp.autocast(autocast):\n"
     ]
    },
    {
     "name": "stdout",
     "output_type": "stream",
     "text": [
      "Modes -> Glow: False, Particles: True, Mirror: False, Filter: 0\n",
      "Modes -> Glow: False, Particles: True, Mirror: False, Filter: 0\n"
     ]
    },
    {
     "name": "stderr",
     "output_type": "stream",
     "text": [
      "C:\\Users\\GAMING/.cache\\torch\\hub\\ultralytics_yolov5_master\\models\\common.py:894: FutureWarning: `torch.cuda.amp.autocast(args...)` is deprecated. Please use `torch.amp.autocast('cuda', args...)` instead.\n",
      "  with amp.autocast(autocast):\n",
      "C:\\Users\\GAMING/.cache\\torch\\hub\\ultralytics_yolov5_master\\models\\common.py:894: FutureWarning: `torch.cuda.amp.autocast(args...)` is deprecated. Please use `torch.amp.autocast('cuda', args...)` instead.\n",
      "  with amp.autocast(autocast):\n"
     ]
    },
    {
     "name": "stdout",
     "output_type": "stream",
     "text": [
      "Modes -> Glow: False, Particles: True, Mirror: False, Filter: 0\n",
      "Modes -> Glow: False, Particles: True, Mirror: False, Filter: 0\n"
     ]
    },
    {
     "name": "stderr",
     "output_type": "stream",
     "text": [
      "C:\\Users\\GAMING/.cache\\torch\\hub\\ultralytics_yolov5_master\\models\\common.py:894: FutureWarning: `torch.cuda.amp.autocast(args...)` is deprecated. Please use `torch.amp.autocast('cuda', args...)` instead.\n",
      "  with amp.autocast(autocast):\n",
      "C:\\Users\\GAMING/.cache\\torch\\hub\\ultralytics_yolov5_master\\models\\common.py:894: FutureWarning: `torch.cuda.amp.autocast(args...)` is deprecated. Please use `torch.amp.autocast('cuda', args...)` instead.\n",
      "  with amp.autocast(autocast):\n"
     ]
    },
    {
     "name": "stdout",
     "output_type": "stream",
     "text": [
      "Modes -> Glow: False, Particles: True, Mirror: False, Filter: 0\n",
      "Modes -> Glow: False, Particles: True, Mirror: False, Filter: 0\n"
     ]
    },
    {
     "name": "stderr",
     "output_type": "stream",
     "text": [
      "C:\\Users\\GAMING/.cache\\torch\\hub\\ultralytics_yolov5_master\\models\\common.py:894: FutureWarning: `torch.cuda.amp.autocast(args...)` is deprecated. Please use `torch.amp.autocast('cuda', args...)` instead.\n",
      "  with amp.autocast(autocast):\n",
      "C:\\Users\\GAMING/.cache\\torch\\hub\\ultralytics_yolov5_master\\models\\common.py:894: FutureWarning: `torch.cuda.amp.autocast(args...)` is deprecated. Please use `torch.amp.autocast('cuda', args...)` instead.\n",
      "  with amp.autocast(autocast):\n"
     ]
    },
    {
     "name": "stdout",
     "output_type": "stream",
     "text": [
      "Modes -> Glow: False, Particles: True, Mirror: False, Filter: 0\n",
      "Modes -> Glow: False, Particles: True, Mirror: False, Filter: 0\n"
     ]
    },
    {
     "name": "stderr",
     "output_type": "stream",
     "text": [
      "C:\\Users\\GAMING/.cache\\torch\\hub\\ultralytics_yolov5_master\\models\\common.py:894: FutureWarning: `torch.cuda.amp.autocast(args...)` is deprecated. Please use `torch.amp.autocast('cuda', args...)` instead.\n",
      "  with amp.autocast(autocast):\n",
      "C:\\Users\\GAMING/.cache\\torch\\hub\\ultralytics_yolov5_master\\models\\common.py:894: FutureWarning: `torch.cuda.amp.autocast(args...)` is deprecated. Please use `torch.amp.autocast('cuda', args...)` instead.\n",
      "  with amp.autocast(autocast):\n"
     ]
    },
    {
     "name": "stdout",
     "output_type": "stream",
     "text": [
      "Modes -> Glow: False, Particles: True, Mirror: False, Filter: 0\n",
      "Modes -> Glow: False, Particles: True, Mirror: False, Filter: 0\n"
     ]
    },
    {
     "name": "stderr",
     "output_type": "stream",
     "text": [
      "C:\\Users\\GAMING/.cache\\torch\\hub\\ultralytics_yolov5_master\\models\\common.py:894: FutureWarning: `torch.cuda.amp.autocast(args...)` is deprecated. Please use `torch.amp.autocast('cuda', args...)` instead.\n",
      "  with amp.autocast(autocast):\n",
      "C:\\Users\\GAMING/.cache\\torch\\hub\\ultralytics_yolov5_master\\models\\common.py:894: FutureWarning: `torch.cuda.amp.autocast(args...)` is deprecated. Please use `torch.amp.autocast('cuda', args...)` instead.\n",
      "  with amp.autocast(autocast):\n"
     ]
    },
    {
     "name": "stdout",
     "output_type": "stream",
     "text": [
      "Modes -> Glow: False, Particles: True, Mirror: False, Filter: 0\n",
      "Modes -> Glow: False, Particles: True, Mirror: False, Filter: 0\n"
     ]
    },
    {
     "name": "stderr",
     "output_type": "stream",
     "text": [
      "C:\\Users\\GAMING/.cache\\torch\\hub\\ultralytics_yolov5_master\\models\\common.py:894: FutureWarning: `torch.cuda.amp.autocast(args...)` is deprecated. Please use `torch.amp.autocast('cuda', args...)` instead.\n",
      "  with amp.autocast(autocast):\n",
      "C:\\Users\\GAMING/.cache\\torch\\hub\\ultralytics_yolov5_master\\models\\common.py:894: FutureWarning: `torch.cuda.amp.autocast(args...)` is deprecated. Please use `torch.amp.autocast('cuda', args...)` instead.\n",
      "  with amp.autocast(autocast):\n"
     ]
    },
    {
     "name": "stdout",
     "output_type": "stream",
     "text": [
      "Modes -> Glow: False, Particles: True, Mirror: False, Filter: 0\n",
      "Modes -> Glow: False, Particles: True, Mirror: False, Filter: 0\n",
      "Modes -> Glow: False, Particles: True, Mirror: False, Filter: 0\n",
      "Modes -> Glow: False, Particles: True, Mirror: False, Filter: 0\n"
     ]
    },
    {
     "name": "stderr",
     "output_type": "stream",
     "text": [
      "C:\\Users\\GAMING/.cache\\torch\\hub\\ultralytics_yolov5_master\\models\\common.py:894: FutureWarning: `torch.cuda.amp.autocast(args...)` is deprecated. Please use `torch.amp.autocast('cuda', args...)` instead.\n",
      "  with amp.autocast(autocast):\n"
     ]
    },
    {
     "name": "stdout",
     "output_type": "stream",
     "text": [
      "Modes -> Glow: False, Particles: True, Mirror: False, Filter: 0\n",
      "Modes -> Glow: False, Particles: True, Mirror: False, Filter: 0\n"
     ]
    },
    {
     "name": "stderr",
     "output_type": "stream",
     "text": [
      "C:\\Users\\GAMING/.cache\\torch\\hub\\ultralytics_yolov5_master\\models\\common.py:894: FutureWarning: `torch.cuda.amp.autocast(args...)` is deprecated. Please use `torch.amp.autocast('cuda', args...)` instead.\n",
      "  with amp.autocast(autocast):\n",
      "C:\\Users\\GAMING/.cache\\torch\\hub\\ultralytics_yolov5_master\\models\\common.py:894: FutureWarning: `torch.cuda.amp.autocast(args...)` is deprecated. Please use `torch.amp.autocast('cuda', args...)` instead.\n",
      "  with amp.autocast(autocast):\n"
     ]
    },
    {
     "name": "stdout",
     "output_type": "stream",
     "text": [
      "Modes -> Glow: False, Particles: True, Mirror: False, Filter: 0\n",
      "Modes -> Glow: False, Particles: True, Mirror: False, Filter: 0\n"
     ]
    },
    {
     "name": "stderr",
     "output_type": "stream",
     "text": [
      "C:\\Users\\GAMING/.cache\\torch\\hub\\ultralytics_yolov5_master\\models\\common.py:894: FutureWarning: `torch.cuda.amp.autocast(args...)` is deprecated. Please use `torch.amp.autocast('cuda', args...)` instead.\n",
      "  with amp.autocast(autocast):\n",
      "C:\\Users\\GAMING/.cache\\torch\\hub\\ultralytics_yolov5_master\\models\\common.py:894: FutureWarning: `torch.cuda.amp.autocast(args...)` is deprecated. Please use `torch.amp.autocast('cuda', args...)` instead.\n",
      "  with amp.autocast(autocast):\n"
     ]
    },
    {
     "name": "stdout",
     "output_type": "stream",
     "text": [
      "Modes -> Glow: False, Particles: True, Mirror: False, Filter: 0\n",
      "Modes -> Glow: False, Particles: True, Mirror: False, Filter: 0\n"
     ]
    },
    {
     "name": "stderr",
     "output_type": "stream",
     "text": [
      "C:\\Users\\GAMING/.cache\\torch\\hub\\ultralytics_yolov5_master\\models\\common.py:894: FutureWarning: `torch.cuda.amp.autocast(args...)` is deprecated. Please use `torch.amp.autocast('cuda', args...)` instead.\n",
      "  with amp.autocast(autocast):\n",
      "C:\\Users\\GAMING/.cache\\torch\\hub\\ultralytics_yolov5_master\\models\\common.py:894: FutureWarning: `torch.cuda.amp.autocast(args...)` is deprecated. Please use `torch.amp.autocast('cuda', args...)` instead.\n",
      "  with amp.autocast(autocast):\n"
     ]
    },
    {
     "name": "stdout",
     "output_type": "stream",
     "text": [
      "Modes -> Glow: False, Particles: True, Mirror: False, Filter: 0\n",
      "Modes -> Glow: False, Particles: True, Mirror: False, Filter: 0\n"
     ]
    },
    {
     "name": "stderr",
     "output_type": "stream",
     "text": [
      "C:\\Users\\GAMING/.cache\\torch\\hub\\ultralytics_yolov5_master\\models\\common.py:894: FutureWarning: `torch.cuda.amp.autocast(args...)` is deprecated. Please use `torch.amp.autocast('cuda', args...)` instead.\n",
      "  with amp.autocast(autocast):\n",
      "C:\\Users\\GAMING/.cache\\torch\\hub\\ultralytics_yolov5_master\\models\\common.py:894: FutureWarning: `torch.cuda.amp.autocast(args...)` is deprecated. Please use `torch.amp.autocast('cuda', args...)` instead.\n",
      "  with amp.autocast(autocast):\n"
     ]
    },
    {
     "name": "stdout",
     "output_type": "stream",
     "text": [
      "Modes -> Glow: False, Particles: True, Mirror: False, Filter: 0\n",
      "Modes -> Glow: False, Particles: True, Mirror: False, Filter: 0\n"
     ]
    },
    {
     "name": "stderr",
     "output_type": "stream",
     "text": [
      "C:\\Users\\GAMING/.cache\\torch\\hub\\ultralytics_yolov5_master\\models\\common.py:894: FutureWarning: `torch.cuda.amp.autocast(args...)` is deprecated. Please use `torch.amp.autocast('cuda', args...)` instead.\n",
      "  with amp.autocast(autocast):\n"
     ]
    },
    {
     "name": "stdout",
     "output_type": "stream",
     "text": [
      "Modes -> Glow: False, Particles: True, Mirror: False, Filter: 0\n",
      "Modes -> Glow: False, Particles: True, Mirror: False, Filter: 0\n"
     ]
    },
    {
     "name": "stderr",
     "output_type": "stream",
     "text": [
      "C:\\Users\\GAMING/.cache\\torch\\hub\\ultralytics_yolov5_master\\models\\common.py:894: FutureWarning: `torch.cuda.amp.autocast(args...)` is deprecated. Please use `torch.amp.autocast('cuda', args...)` instead.\n",
      "  with amp.autocast(autocast):\n"
     ]
    },
    {
     "name": "stdout",
     "output_type": "stream",
     "text": [
      "Modes -> Glow: False, Particles: True, Mirror: False, Filter: 0\n",
      "Modes -> Glow: False, Particles: True, Mirror: False, Filter: 0\n",
      "Modes -> Glow: False, Particles: True, Mirror: False, Filter: 0\n",
      "Modes -> Glow: False, Particles: True, Mirror: False, Filter: 0\n",
      "Modes -> Glow: False, Particles: True, Mirror: False, Filter: 0\n",
      "Modes -> Glow: False, Particles: True, Mirror: False, Filter: 0\n",
      "Modes -> Glow: False, Particles: True, Mirror: False, Filter: 0\n"
     ]
    },
    {
     "name": "stderr",
     "output_type": "stream",
     "text": [
      "C:\\Users\\GAMING/.cache\\torch\\hub\\ultralytics_yolov5_master\\models\\common.py:894: FutureWarning: `torch.cuda.amp.autocast(args...)` is deprecated. Please use `torch.amp.autocast('cuda', args...)` instead.\n",
      "  with amp.autocast(autocast):\n",
      "C:\\Users\\GAMING/.cache\\torch\\hub\\ultralytics_yolov5_master\\models\\common.py:894: FutureWarning: `torch.cuda.amp.autocast(args...)` is deprecated. Please use `torch.amp.autocast('cuda', args...)` instead.\n",
      "  with amp.autocast(autocast):\n"
     ]
    },
    {
     "name": "stdout",
     "output_type": "stream",
     "text": [
      "Modes -> Glow: False, Particles: True, Mirror: False, Filter: 0\n",
      "Modes -> Glow: False, Particles: True, Mirror: False, Filter: 0\n"
     ]
    },
    {
     "name": "stderr",
     "output_type": "stream",
     "text": [
      "C:\\Users\\GAMING/.cache\\torch\\hub\\ultralytics_yolov5_master\\models\\common.py:894: FutureWarning: `torch.cuda.amp.autocast(args...)` is deprecated. Please use `torch.amp.autocast('cuda', args...)` instead.\n",
      "  with amp.autocast(autocast):\n"
     ]
    },
    {
     "name": "stdout",
     "output_type": "stream",
     "text": [
      "Modes -> Glow: False, Particles: True, Mirror: False, Filter: 0\n",
      "Modes -> Glow: False, Particles: True, Mirror: False, Filter: 0\n",
      "Modes -> Glow: False, Particles: True, Mirror: False, Filter: 0\n"
     ]
    },
    {
     "name": "stderr",
     "output_type": "stream",
     "text": [
      "C:\\Users\\GAMING/.cache\\torch\\hub\\ultralytics_yolov5_master\\models\\common.py:894: FutureWarning: `torch.cuda.amp.autocast(args...)` is deprecated. Please use `torch.amp.autocast('cuda', args...)` instead.\n",
      "  with amp.autocast(autocast):\n",
      "C:\\Users\\GAMING/.cache\\torch\\hub\\ultralytics_yolov5_master\\models\\common.py:894: FutureWarning: `torch.cuda.amp.autocast(args...)` is deprecated. Please use `torch.amp.autocast('cuda', args...)` instead.\n",
      "  with amp.autocast(autocast):\n",
      "C:\\Users\\GAMING/.cache\\torch\\hub\\ultralytics_yolov5_master\\models\\common.py:894: FutureWarning: `torch.cuda.amp.autocast(args...)` is deprecated. Please use `torch.amp.autocast('cuda', args...)` instead.\n",
      "  with amp.autocast(autocast):\n",
      "C:\\Users\\GAMING/.cache\\torch\\hub\\ultralytics_yolov5_master\\models\\common.py:894: FutureWarning: `torch.cuda.amp.autocast(args...)` is deprecated. Please use `torch.amp.autocast('cuda', args...)` instead.\n",
      "  with amp.autocast(autocast):\n",
      "C:\\Users\\GAMING/.cache\\torch\\hub\\ultralytics_yolov5_master\\models\\common.py:894: FutureWarning: `torch.cuda.amp.autocast(args...)` is deprecated. Please use `torch.amp.autocast('cuda', args...)` instead.\n",
      "  with amp.autocast(autocast):\n"
     ]
    },
    {
     "name": "stdout",
     "output_type": "stream",
     "text": [
      "Modes -> Glow: False, Particles: True, Mirror: False, Filter: 0\n",
      "Modes -> Glow: False, Particles: True, Mirror: False, Filter: 0\n",
      "Modes -> Glow: False, Particles: True, Mirror: False, Filter: 0\n",
      "Modes -> Glow: False, Particles: True, Mirror: False, Filter: 0\n",
      "Modes -> Glow: False, Particles: True, Mirror: False, Filter: 0\n"
     ]
    },
    {
     "name": "stderr",
     "output_type": "stream",
     "text": [
      "C:\\Users\\GAMING/.cache\\torch\\hub\\ultralytics_yolov5_master\\models\\common.py:894: FutureWarning: `torch.cuda.amp.autocast(args...)` is deprecated. Please use `torch.amp.autocast('cuda', args...)` instead.\n",
      "  with amp.autocast(autocast):\n",
      "C:\\Users\\GAMING/.cache\\torch\\hub\\ultralytics_yolov5_master\\models\\common.py:894: FutureWarning: `torch.cuda.amp.autocast(args...)` is deprecated. Please use `torch.amp.autocast('cuda', args...)` instead.\n",
      "  with amp.autocast(autocast):\n"
     ]
    },
    {
     "name": "stdout",
     "output_type": "stream",
     "text": [
      "Modes -> Glow: False, Particles: True, Mirror: False, Filter: 0\n",
      "Modes -> Glow: False, Particles: True, Mirror: False, Filter: 0\n",
      "Modes -> Glow: False, Particles: True, Mirror: False, Filter: 0\n",
      "Modes -> Glow: False, Particles: True, Mirror: False, Filter: 0\n",
      "Modes -> Glow: False, Particles: True, Mirror: False, Filter: 0\n"
     ]
    },
    {
     "name": "stderr",
     "output_type": "stream",
     "text": [
      "C:\\Users\\GAMING/.cache\\torch\\hub\\ultralytics_yolov5_master\\models\\common.py:894: FutureWarning: `torch.cuda.amp.autocast(args...)` is deprecated. Please use `torch.amp.autocast('cuda', args...)` instead.\n",
      "  with amp.autocast(autocast):\n",
      "C:\\Users\\GAMING/.cache\\torch\\hub\\ultralytics_yolov5_master\\models\\common.py:894: FutureWarning: `torch.cuda.amp.autocast(args...)` is deprecated. Please use `torch.amp.autocast('cuda', args...)` instead.\n",
      "  with amp.autocast(autocast):\n",
      "C:\\Users\\GAMING/.cache\\torch\\hub\\ultralytics_yolov5_master\\models\\common.py:894: FutureWarning: `torch.cuda.amp.autocast(args...)` is deprecated. Please use `torch.amp.autocast('cuda', args...)` instead.\n",
      "  with amp.autocast(autocast):\n"
     ]
    },
    {
     "name": "stdout",
     "output_type": "stream",
     "text": [
      "Modes -> Glow: False, Particles: True, Mirror: False, Filter: 0\n",
      "Modes -> Glow: False, Particles: True, Mirror: False, Filter: 0\n",
      "Modes -> Glow: False, Particles: True, Mirror: False, Filter: 0\n",
      "Modes -> Glow: False, Particles: True, Mirror: False, Filter: 0\n"
     ]
    },
    {
     "name": "stderr",
     "output_type": "stream",
     "text": [
      "C:\\Users\\GAMING/.cache\\torch\\hub\\ultralytics_yolov5_master\\models\\common.py:894: FutureWarning: `torch.cuda.amp.autocast(args...)` is deprecated. Please use `torch.amp.autocast('cuda', args...)` instead.\n",
      "  with amp.autocast(autocast):\n",
      "C:\\Users\\GAMING/.cache\\torch\\hub\\ultralytics_yolov5_master\\models\\common.py:894: FutureWarning: `torch.cuda.amp.autocast(args...)` is deprecated. Please use `torch.amp.autocast('cuda', args...)` instead.\n",
      "  with amp.autocast(autocast):\n"
     ]
    },
    {
     "name": "stdout",
     "output_type": "stream",
     "text": [
      "Modes -> Glow: False, Particles: True, Mirror: False, Filter: 0\n",
      "Modes -> Glow: False, Particles: True, Mirror: False, Filter: 0\n"
     ]
    },
    {
     "name": "stderr",
     "output_type": "stream",
     "text": [
      "C:\\Users\\GAMING/.cache\\torch\\hub\\ultralytics_yolov5_master\\models\\common.py:894: FutureWarning: `torch.cuda.amp.autocast(args...)` is deprecated. Please use `torch.amp.autocast('cuda', args...)` instead.\n",
      "  with amp.autocast(autocast):\n"
     ]
    },
    {
     "name": "stdout",
     "output_type": "stream",
     "text": [
      "Modes -> Glow: False, Particles: True, Mirror: False, Filter: 0\n",
      "Modes -> Glow: False, Particles: True, Mirror: False, Filter: 0\n"
     ]
    },
    {
     "name": "stderr",
     "output_type": "stream",
     "text": [
      "C:\\Users\\GAMING/.cache\\torch\\hub\\ultralytics_yolov5_master\\models\\common.py:894: FutureWarning: `torch.cuda.amp.autocast(args...)` is deprecated. Please use `torch.amp.autocast('cuda', args...)` instead.\n",
      "  with amp.autocast(autocast):\n",
      "C:\\Users\\GAMING/.cache\\torch\\hub\\ultralytics_yolov5_master\\models\\common.py:894: FutureWarning: `torch.cuda.amp.autocast(args...)` is deprecated. Please use `torch.amp.autocast('cuda', args...)` instead.\n",
      "  with amp.autocast(autocast):\n"
     ]
    },
    {
     "name": "stdout",
     "output_type": "stream",
     "text": [
      "Modes -> Glow: False, Particles: True, Mirror: False, Filter: 0\n",
      "Modes -> Glow: False, Particles: True, Mirror: False, Filter: 0\n",
      "Modes -> Glow: False, Particles: True, Mirror: False, Filter: 0\n"
     ]
    },
    {
     "name": "stderr",
     "output_type": "stream",
     "text": [
      "C:\\Users\\GAMING/.cache\\torch\\hub\\ultralytics_yolov5_master\\models\\common.py:894: FutureWarning: `torch.cuda.amp.autocast(args...)` is deprecated. Please use `torch.amp.autocast('cuda', args...)` instead.\n",
      "  with amp.autocast(autocast):\n",
      "C:\\Users\\GAMING/.cache\\torch\\hub\\ultralytics_yolov5_master\\models\\common.py:894: FutureWarning: `torch.cuda.amp.autocast(args...)` is deprecated. Please use `torch.amp.autocast('cuda', args...)` instead.\n",
      "  with amp.autocast(autocast):\n",
      "C:\\Users\\GAMING/.cache\\torch\\hub\\ultralytics_yolov5_master\\models\\common.py:894: FutureWarning: `torch.cuda.amp.autocast(args...)` is deprecated. Please use `torch.amp.autocast('cuda', args...)` instead.\n",
      "  with amp.autocast(autocast):\n",
      "C:\\Users\\GAMING/.cache\\torch\\hub\\ultralytics_yolov5_master\\models\\common.py:894: FutureWarning: `torch.cuda.amp.autocast(args...)` is deprecated. Please use `torch.amp.autocast('cuda', args...)` instead.\n",
      "  with amp.autocast(autocast):\n"
     ]
    },
    {
     "name": "stdout",
     "output_type": "stream",
     "text": [
      "Modes -> Glow: False, Particles: True, Mirror: False, Filter: 0\n",
      "Modes -> Glow: False, Particles: True, Mirror: False, Filter: 0\n"
     ]
    },
    {
     "name": "stderr",
     "output_type": "stream",
     "text": [
      "C:\\Users\\GAMING/.cache\\torch\\hub\\ultralytics_yolov5_master\\models\\common.py:894: FutureWarning: `torch.cuda.amp.autocast(args...)` is deprecated. Please use `torch.amp.autocast('cuda', args...)` instead.\n",
      "  with amp.autocast(autocast):\n"
     ]
    },
    {
     "name": "stdout",
     "output_type": "stream",
     "text": [
      "Modes -> Glow: False, Particles: True, Mirror: False, Filter: 0\n",
      "Modes -> Glow: False, Particles: True, Mirror: False, Filter: 0\n"
     ]
    },
    {
     "name": "stderr",
     "output_type": "stream",
     "text": [
      "C:\\Users\\GAMING/.cache\\torch\\hub\\ultralytics_yolov5_master\\models\\common.py:894: FutureWarning: `torch.cuda.amp.autocast(args...)` is deprecated. Please use `torch.amp.autocast('cuda', args...)` instead.\n",
      "  with amp.autocast(autocast):\n",
      "C:\\Users\\GAMING/.cache\\torch\\hub\\ultralytics_yolov5_master\\models\\common.py:894: FutureWarning: `torch.cuda.amp.autocast(args...)` is deprecated. Please use `torch.amp.autocast('cuda', args...)` instead.\n",
      "  with amp.autocast(autocast):\n"
     ]
    },
    {
     "name": "stdout",
     "output_type": "stream",
     "text": [
      "Modes -> Glow: False, Particles: True, Mirror: False, Filter: 0\n",
      "Modes -> Glow: False, Particles: True, Mirror: False, Filter: 0\n",
      "Modes -> Glow: False, Particles: True, Mirror: False, Filter: 0\n",
      "Modes -> Glow: False, Particles: True, Mirror: False, Filter: 0\n"
     ]
    },
    {
     "name": "stderr",
     "output_type": "stream",
     "text": [
      "C:\\Users\\GAMING/.cache\\torch\\hub\\ultralytics_yolov5_master\\models\\common.py:894: FutureWarning: `torch.cuda.amp.autocast(args...)` is deprecated. Please use `torch.amp.autocast('cuda', args...)` instead.\n",
      "  with amp.autocast(autocast):\n",
      "C:\\Users\\GAMING/.cache\\torch\\hub\\ultralytics_yolov5_master\\models\\common.py:894: FutureWarning: `torch.cuda.amp.autocast(args...)` is deprecated. Please use `torch.amp.autocast('cuda', args...)` instead.\n",
      "  with amp.autocast(autocast):\n"
     ]
    },
    {
     "name": "stdout",
     "output_type": "stream",
     "text": [
      "Modes -> Glow: False, Particles: True, Mirror: False, Filter: 0\n",
      "Modes -> Glow: False, Particles: True, Mirror: False, Filter: 0\n",
      "Modes -> Glow: False, Particles: True, Mirror: False, Filter: 0\n"
     ]
    },
    {
     "name": "stderr",
     "output_type": "stream",
     "text": [
      "C:\\Users\\GAMING/.cache\\torch\\hub\\ultralytics_yolov5_master\\models\\common.py:894: FutureWarning: `torch.cuda.amp.autocast(args...)` is deprecated. Please use `torch.amp.autocast('cuda', args...)` instead.\n",
      "  with amp.autocast(autocast):\n",
      "C:\\Users\\GAMING/.cache\\torch\\hub\\ultralytics_yolov5_master\\models\\common.py:894: FutureWarning: `torch.cuda.amp.autocast(args...)` is deprecated. Please use `torch.amp.autocast('cuda', args...)` instead.\n",
      "  with amp.autocast(autocast):\n"
     ]
    },
    {
     "name": "stdout",
     "output_type": "stream",
     "text": [
      "Modes -> Glow: False, Particles: True, Mirror: False, Filter: 0\n",
      "Modes -> Glow: False, Particles: True, Mirror: False, Filter: 0\n",
      "Modes -> Glow: False, Particles: True, Mirror: False, Filter: 0\n",
      "Modes -> Glow: False, Particles: True, Mirror: False, Filter: 0\n"
     ]
    },
    {
     "name": "stderr",
     "output_type": "stream",
     "text": [
      "C:\\Users\\GAMING/.cache\\torch\\hub\\ultralytics_yolov5_master\\models\\common.py:894: FutureWarning: `torch.cuda.amp.autocast(args...)` is deprecated. Please use `torch.amp.autocast('cuda', args...)` instead.\n",
      "  with amp.autocast(autocast):\n",
      "C:\\Users\\GAMING/.cache\\torch\\hub\\ultralytics_yolov5_master\\models\\common.py:894: FutureWarning: `torch.cuda.amp.autocast(args...)` is deprecated. Please use `torch.amp.autocast('cuda', args...)` instead.\n",
      "  with amp.autocast(autocast):\n"
     ]
    },
    {
     "name": "stdout",
     "output_type": "stream",
     "text": [
      "Modes -> Glow: False, Particles: True, Mirror: False, Filter: 0\n",
      "Modes -> Glow: False, Particles: True, Mirror: False, Filter: 0\n"
     ]
    },
    {
     "name": "stderr",
     "output_type": "stream",
     "text": [
      "C:\\Users\\GAMING/.cache\\torch\\hub\\ultralytics_yolov5_master\\models\\common.py:894: FutureWarning: `torch.cuda.amp.autocast(args...)` is deprecated. Please use `torch.amp.autocast('cuda', args...)` instead.\n",
      "  with amp.autocast(autocast):\n",
      "C:\\Users\\GAMING/.cache\\torch\\hub\\ultralytics_yolov5_master\\models\\common.py:894: FutureWarning: `torch.cuda.amp.autocast(args...)` is deprecated. Please use `torch.amp.autocast('cuda', args...)` instead.\n",
      "  with amp.autocast(autocast):\n"
     ]
    },
    {
     "name": "stdout",
     "output_type": "stream",
     "text": [
      "Modes -> Glow: False, Particles: True, Mirror: False, Filter: 0\n",
      "Modes -> Glow: False, Particles: True, Mirror: False, Filter: 0\n",
      "Modes -> Glow: False, Particles: True, Mirror: False, Filter: 0\n"
     ]
    },
    {
     "name": "stderr",
     "output_type": "stream",
     "text": [
      "C:\\Users\\GAMING/.cache\\torch\\hub\\ultralytics_yolov5_master\\models\\common.py:894: FutureWarning: `torch.cuda.amp.autocast(args...)` is deprecated. Please use `torch.amp.autocast('cuda', args...)` instead.\n",
      "  with amp.autocast(autocast):\n",
      "C:\\Users\\GAMING/.cache\\torch\\hub\\ultralytics_yolov5_master\\models\\common.py:894: FutureWarning: `torch.cuda.amp.autocast(args...)` is deprecated. Please use `torch.amp.autocast('cuda', args...)` instead.\n",
      "  with amp.autocast(autocast):\n",
      "C:\\Users\\GAMING/.cache\\torch\\hub\\ultralytics_yolov5_master\\models\\common.py:894: FutureWarning: `torch.cuda.amp.autocast(args...)` is deprecated. Please use `torch.amp.autocast('cuda', args...)` instead.\n",
      "  with amp.autocast(autocast):\n",
      "C:\\Users\\GAMING/.cache\\torch\\hub\\ultralytics_yolov5_master\\models\\common.py:894: FutureWarning: `torch.cuda.amp.autocast(args...)` is deprecated. Please use `torch.amp.autocast('cuda', args...)` instead.\n",
      "  with amp.autocast(autocast):\n"
     ]
    },
    {
     "name": "stdout",
     "output_type": "stream",
     "text": [
      "Modes -> Glow: False, Particles: True, Mirror: False, Filter: 0\n",
      "Modes -> Glow: False, Particles: True, Mirror: False, Filter: 0\n"
     ]
    },
    {
     "name": "stderr",
     "output_type": "stream",
     "text": [
      "C:\\Users\\GAMING/.cache\\torch\\hub\\ultralytics_yolov5_master\\models\\common.py:894: FutureWarning: `torch.cuda.amp.autocast(args...)` is deprecated. Please use `torch.amp.autocast('cuda', args...)` instead.\n",
      "  with amp.autocast(autocast):\n",
      "C:\\Users\\GAMING/.cache\\torch\\hub\\ultralytics_yolov5_master\\models\\common.py:894: FutureWarning: `torch.cuda.amp.autocast(args...)` is deprecated. Please use `torch.amp.autocast('cuda', args...)` instead.\n",
      "  with amp.autocast(autocast):\n",
      "C:\\Users\\GAMING/.cache\\torch\\hub\\ultralytics_yolov5_master\\models\\common.py:894: FutureWarning: `torch.cuda.amp.autocast(args...)` is deprecated. Please use `torch.amp.autocast('cuda', args...)` instead.\n",
      "  with amp.autocast(autocast):\n"
     ]
    },
    {
     "name": "stdout",
     "output_type": "stream",
     "text": [
      "Modes -> Glow: False, Particles: True, Mirror: False, Filter: 0\n",
      "Modes -> Glow: False, Particles: True, Mirror: False, Filter: 0\n",
      "Modes -> Glow: False, Particles: True, Mirror: False, Filter: 0\n",
      "Modes -> Glow: False, Particles: True, Mirror: False, Filter: 0\n"
     ]
    },
    {
     "name": "stderr",
     "output_type": "stream",
     "text": [
      "C:\\Users\\GAMING/.cache\\torch\\hub\\ultralytics_yolov5_master\\models\\common.py:894: FutureWarning: `torch.cuda.amp.autocast(args...)` is deprecated. Please use `torch.amp.autocast('cuda', args...)` instead.\n",
      "  with amp.autocast(autocast):\n",
      "C:\\Users\\GAMING/.cache\\torch\\hub\\ultralytics_yolov5_master\\models\\common.py:894: FutureWarning: `torch.cuda.amp.autocast(args...)` is deprecated. Please use `torch.amp.autocast('cuda', args...)` instead.\n",
      "  with amp.autocast(autocast):\n"
     ]
    },
    {
     "name": "stdout",
     "output_type": "stream",
     "text": [
      "Modes -> Glow: False, Particles: True, Mirror: False, Filter: 0\n",
      "Modes -> Glow: False, Particles: True, Mirror: False, Filter: 0\n",
      "Modes -> Glow: False, Particles: True, Mirror: False, Filter: 0\n"
     ]
    },
    {
     "name": "stderr",
     "output_type": "stream",
     "text": [
      "C:\\Users\\GAMING/.cache\\torch\\hub\\ultralytics_yolov5_master\\models\\common.py:894: FutureWarning: `torch.cuda.amp.autocast(args...)` is deprecated. Please use `torch.amp.autocast('cuda', args...)` instead.\n",
      "  with amp.autocast(autocast):\n",
      "C:\\Users\\GAMING/.cache\\torch\\hub\\ultralytics_yolov5_master\\models\\common.py:894: FutureWarning: `torch.cuda.amp.autocast(args...)` is deprecated. Please use `torch.amp.autocast('cuda', args...)` instead.\n",
      "  with amp.autocast(autocast):\n",
      "C:\\Users\\GAMING/.cache\\torch\\hub\\ultralytics_yolov5_master\\models\\common.py:894: FutureWarning: `torch.cuda.amp.autocast(args...)` is deprecated. Please use `torch.amp.autocast('cuda', args...)` instead.\n",
      "  with amp.autocast(autocast):\n"
     ]
    },
    {
     "name": "stdout",
     "output_type": "stream",
     "text": [
      "Modes -> Glow: False, Particles: True, Mirror: False, Filter: 0\n",
      "Modes -> Glow: False, Particles: True, Mirror: False, Filter: 0\n"
     ]
    },
    {
     "name": "stderr",
     "output_type": "stream",
     "text": [
      "C:\\Users\\GAMING/.cache\\torch\\hub\\ultralytics_yolov5_master\\models\\common.py:894: FutureWarning: `torch.cuda.amp.autocast(args...)` is deprecated. Please use `torch.amp.autocast('cuda', args...)` instead.\n",
      "  with amp.autocast(autocast):\n",
      "C:\\Users\\GAMING/.cache\\torch\\hub\\ultralytics_yolov5_master\\models\\common.py:894: FutureWarning: `torch.cuda.amp.autocast(args...)` is deprecated. Please use `torch.amp.autocast('cuda', args...)` instead.\n",
      "  with amp.autocast(autocast):\n",
      "C:\\Users\\GAMING/.cache\\torch\\hub\\ultralytics_yolov5_master\\models\\common.py:894: FutureWarning: `torch.cuda.amp.autocast(args...)` is deprecated. Please use `torch.amp.autocast('cuda', args...)` instead.\n",
      "  with amp.autocast(autocast):\n"
     ]
    },
    {
     "name": "stdout",
     "output_type": "stream",
     "text": [
      "Modes -> Glow: False, Particles: True, Mirror: False, Filter: 0\n",
      "Modes -> Glow: False, Particles: True, Mirror: False, Filter: 0\n",
      "Modes -> Glow: False, Particles: True, Mirror: False, Filter: 0\n",
      "Modes -> Glow: False, Particles: True, Mirror: False, Filter: 0\n",
      "Modes -> Glow: False, Particles: True, Mirror: False, Filter: 0\n"
     ]
    },
    {
     "name": "stderr",
     "output_type": "stream",
     "text": [
      "C:\\Users\\GAMING/.cache\\torch\\hub\\ultralytics_yolov5_master\\models\\common.py:894: FutureWarning: `torch.cuda.amp.autocast(args...)` is deprecated. Please use `torch.amp.autocast('cuda', args...)` instead.\n",
      "  with amp.autocast(autocast):\n",
      "C:\\Users\\GAMING/.cache\\torch\\hub\\ultralytics_yolov5_master\\models\\common.py:894: FutureWarning: `torch.cuda.amp.autocast(args...)` is deprecated. Please use `torch.amp.autocast('cuda', args...)` instead.\n",
      "  with amp.autocast(autocast):\n",
      "C:\\Users\\GAMING/.cache\\torch\\hub\\ultralytics_yolov5_master\\models\\common.py:894: FutureWarning: `torch.cuda.amp.autocast(args...)` is deprecated. Please use `torch.amp.autocast('cuda', args...)` instead.\n",
      "  with amp.autocast(autocast):\n"
     ]
    },
    {
     "name": "stdout",
     "output_type": "stream",
     "text": [
      "Modes -> Glow: False, Particles: True, Mirror: False, Filter: 0\n"
     ]
    },
    {
     "name": "stderr",
     "output_type": "stream",
     "text": [
      "C:\\Users\\GAMING/.cache\\torch\\hub\\ultralytics_yolov5_master\\models\\common.py:894: FutureWarning: `torch.cuda.amp.autocast(args...)` is deprecated. Please use `torch.amp.autocast('cuda', args...)` instead.\n",
      "  with amp.autocast(autocast):\n",
      "C:\\Users\\GAMING/.cache\\torch\\hub\\ultralytics_yolov5_master\\models\\common.py:894: FutureWarning: `torch.cuda.amp.autocast(args...)` is deprecated. Please use `torch.amp.autocast('cuda', args...)` instead.\n",
      "  with amp.autocast(autocast):\n"
     ]
    },
    {
     "name": "stdout",
     "output_type": "stream",
     "text": [
      "Modes -> Glow: False, Particles: True, Mirror: False, Filter: 0\n",
      "Modes -> Glow: False, Particles: True, Mirror: False, Filter: 0\n",
      "Modes -> Glow: False, Particles: True, Mirror: False, Filter: 0\n"
     ]
    },
    {
     "name": "stderr",
     "output_type": "stream",
     "text": [
      "C:\\Users\\GAMING/.cache\\torch\\hub\\ultralytics_yolov5_master\\models\\common.py:894: FutureWarning: `torch.cuda.amp.autocast(args...)` is deprecated. Please use `torch.amp.autocast('cuda', args...)` instead.\n",
      "  with amp.autocast(autocast):\n",
      "C:\\Users\\GAMING/.cache\\torch\\hub\\ultralytics_yolov5_master\\models\\common.py:894: FutureWarning: `torch.cuda.amp.autocast(args...)` is deprecated. Please use `torch.amp.autocast('cuda', args...)` instead.\n",
      "  with amp.autocast(autocast):\n"
     ]
    },
    {
     "name": "stdout",
     "output_type": "stream",
     "text": [
      "Modes -> Glow: False, Particles: True, Mirror: False, Filter: 0\n",
      "Modes -> Glow: False, Particles: True, Mirror: False, Filter: 0\n"
     ]
    },
    {
     "name": "stderr",
     "output_type": "stream",
     "text": [
      "C:\\Users\\GAMING/.cache\\torch\\hub\\ultralytics_yolov5_master\\models\\common.py:894: FutureWarning: `torch.cuda.amp.autocast(args...)` is deprecated. Please use `torch.amp.autocast('cuda', args...)` instead.\n",
      "  with amp.autocast(autocast):\n",
      "C:\\Users\\GAMING/.cache\\torch\\hub\\ultralytics_yolov5_master\\models\\common.py:894: FutureWarning: `torch.cuda.amp.autocast(args...)` is deprecated. Please use `torch.amp.autocast('cuda', args...)` instead.\n",
      "  with amp.autocast(autocast):\n",
      "C:\\Users\\GAMING/.cache\\torch\\hub\\ultralytics_yolov5_master\\models\\common.py:894: FutureWarning: `torch.cuda.amp.autocast(args...)` is deprecated. Please use `torch.amp.autocast('cuda', args...)` instead.\n",
      "  with amp.autocast(autocast):\n"
     ]
    },
    {
     "name": "stdout",
     "output_type": "stream",
     "text": [
      "Modes -> Glow: False, Particles: True, Mirror: False, Filter: 0\n",
      "Modes -> Glow: False, Particles: True, Mirror: False, Filter: 0\n",
      "Modes -> Glow: False, Particles: True, Mirror: False, Filter: 0\n",
      "Modes -> Glow: False, Particles: True, Mirror: False, Filter: 0\n"
     ]
    },
    {
     "name": "stderr",
     "output_type": "stream",
     "text": [
      "C:\\Users\\GAMING/.cache\\torch\\hub\\ultralytics_yolov5_master\\models\\common.py:894: FutureWarning: `torch.cuda.amp.autocast(args...)` is deprecated. Please use `torch.amp.autocast('cuda', args...)` instead.\n",
      "  with amp.autocast(autocast):\n",
      "C:\\Users\\GAMING/.cache\\torch\\hub\\ultralytics_yolov5_master\\models\\common.py:894: FutureWarning: `torch.cuda.amp.autocast(args...)` is deprecated. Please use `torch.amp.autocast('cuda', args...)` instead.\n",
      "  with amp.autocast(autocast):\n"
     ]
    },
    {
     "name": "stdout",
     "output_type": "stream",
     "text": [
      "Modes -> Glow: False, Particles: True, Mirror: False, Filter: 0\n",
      "Modes -> Glow: False, Particles: True, Mirror: False, Filter: 0\n",
      "Modes -> Glow: False, Particles: True, Mirror: False, Filter: 0\n"
     ]
    },
    {
     "name": "stderr",
     "output_type": "stream",
     "text": [
      "C:\\Users\\GAMING/.cache\\torch\\hub\\ultralytics_yolov5_master\\models\\common.py:894: FutureWarning: `torch.cuda.amp.autocast(args...)` is deprecated. Please use `torch.amp.autocast('cuda', args...)` instead.\n",
      "  with amp.autocast(autocast):\n",
      "C:\\Users\\GAMING/.cache\\torch\\hub\\ultralytics_yolov5_master\\models\\common.py:894: FutureWarning: `torch.cuda.amp.autocast(args...)` is deprecated. Please use `torch.amp.autocast('cuda', args...)` instead.\n",
      "  with amp.autocast(autocast):\n",
      "C:\\Users\\GAMING/.cache\\torch\\hub\\ultralytics_yolov5_master\\models\\common.py:894: FutureWarning: `torch.cuda.amp.autocast(args...)` is deprecated. Please use `torch.amp.autocast('cuda', args...)` instead.\n",
      "  with amp.autocast(autocast):\n",
      "C:\\Users\\GAMING/.cache\\torch\\hub\\ultralytics_yolov5_master\\models\\common.py:894: FutureWarning: `torch.cuda.amp.autocast(args...)` is deprecated. Please use `torch.amp.autocast('cuda', args...)` instead.\n",
      "  with amp.autocast(autocast):\n",
      "C:\\Users\\GAMING/.cache\\torch\\hub\\ultralytics_yolov5_master\\models\\common.py:894: FutureWarning: `torch.cuda.amp.autocast(args...)` is deprecated. Please use `torch.amp.autocast('cuda', args...)` instead.\n",
      "  with amp.autocast(autocast):\n"
     ]
    },
    {
     "name": "stdout",
     "output_type": "stream",
     "text": [
      "Modes -> Glow: False, Particles: True, Mirror: False, Filter: 0\n",
      "Modes -> Glow: False, Particles: True, Mirror: False, Filter: 0\n",
      "Modes -> Glow: False, Particles: True, Mirror: False, Filter: 0\n",
      "Modes -> Glow: False, Particles: True, Mirror: False, Filter: 0\n",
      "Modes -> Glow: False, Particles: True, Mirror: False, Filter: 0\n"
     ]
    },
    {
     "name": "stderr",
     "output_type": "stream",
     "text": [
      "C:\\Users\\GAMING/.cache\\torch\\hub\\ultralytics_yolov5_master\\models\\common.py:894: FutureWarning: `torch.cuda.amp.autocast(args...)` is deprecated. Please use `torch.amp.autocast('cuda', args...)` instead.\n",
      "  with amp.autocast(autocast):\n",
      "C:\\Users\\GAMING/.cache\\torch\\hub\\ultralytics_yolov5_master\\models\\common.py:894: FutureWarning: `torch.cuda.amp.autocast(args...)` is deprecated. Please use `torch.amp.autocast('cuda', args...)` instead.\n",
      "  with amp.autocast(autocast):\n",
      "C:\\Users\\GAMING/.cache\\torch\\hub\\ultralytics_yolov5_master\\models\\common.py:894: FutureWarning: `torch.cuda.amp.autocast(args...)` is deprecated. Please use `torch.amp.autocast('cuda', args...)` instead.\n",
      "  with amp.autocast(autocast):\n",
      "C:\\Users\\GAMING/.cache\\torch\\hub\\ultralytics_yolov5_master\\models\\common.py:894: FutureWarning: `torch.cuda.amp.autocast(args...)` is deprecated. Please use `torch.amp.autocast('cuda', args...)` instead.\n",
      "  with amp.autocast(autocast):\n",
      "C:\\Users\\GAMING/.cache\\torch\\hub\\ultralytics_yolov5_master\\models\\common.py:894: FutureWarning: `torch.cuda.amp.autocast(args...)` is deprecated. Please use `torch.amp.autocast('cuda', args...)` instead.\n",
      "  with amp.autocast(autocast):\n"
     ]
    },
    {
     "name": "stdout",
     "output_type": "stream",
     "text": [
      "Modes -> Glow: False, Particles: True, Mirror: False, Filter: 0\n",
      "Modes -> Glow: False, Particles: True, Mirror: False, Filter: 0\n",
      "Modes -> Glow: False, Particles: True, Mirror: False, Filter: 0\n",
      "Modes -> Glow: False, Particles: True, Mirror: False, Filter: 0\n"
     ]
    },
    {
     "name": "stderr",
     "output_type": "stream",
     "text": [
      "C:\\Users\\GAMING/.cache\\torch\\hub\\ultralytics_yolov5_master\\models\\common.py:894: FutureWarning: `torch.cuda.amp.autocast(args...)` is deprecated. Please use `torch.amp.autocast('cuda', args...)` instead.\n",
      "  with amp.autocast(autocast):\n",
      "C:\\Users\\GAMING/.cache\\torch\\hub\\ultralytics_yolov5_master\\models\\common.py:894: FutureWarning: `torch.cuda.amp.autocast(args...)` is deprecated. Please use `torch.amp.autocast('cuda', args...)` instead.\n",
      "  with amp.autocast(autocast):\n"
     ]
    },
    {
     "name": "stdout",
     "output_type": "stream",
     "text": [
      "Modes -> Glow: False, Particles: True, Mirror: False, Filter: 0\n",
      "Modes -> Glow: False, Particles: True, Mirror: False, Filter: 0\n",
      "Modes -> Glow: False, Particles: True, Mirror: False, Filter: 0\n"
     ]
    },
    {
     "name": "stderr",
     "output_type": "stream",
     "text": [
      "C:\\Users\\GAMING/.cache\\torch\\hub\\ultralytics_yolov5_master\\models\\common.py:894: FutureWarning: `torch.cuda.amp.autocast(args...)` is deprecated. Please use `torch.amp.autocast('cuda', args...)` instead.\n",
      "  with amp.autocast(autocast):\n",
      "C:\\Users\\GAMING/.cache\\torch\\hub\\ultralytics_yolov5_master\\models\\common.py:894: FutureWarning: `torch.cuda.amp.autocast(args...)` is deprecated. Please use `torch.amp.autocast('cuda', args...)` instead.\n",
      "  with amp.autocast(autocast):\n",
      "C:\\Users\\GAMING/.cache\\torch\\hub\\ultralytics_yolov5_master\\models\\common.py:894: FutureWarning: `torch.cuda.amp.autocast(args...)` is deprecated. Please use `torch.amp.autocast('cuda', args...)` instead.\n",
      "  with amp.autocast(autocast):\n"
     ]
    },
    {
     "name": "stdout",
     "output_type": "stream",
     "text": [
      "Modes -> Glow: False, Particles: True, Mirror: False, Filter: 0\n",
      "Modes -> Glow: False, Particles: True, Mirror: False, Filter: 0\n"
     ]
    },
    {
     "name": "stderr",
     "output_type": "stream",
     "text": [
      "C:\\Users\\GAMING/.cache\\torch\\hub\\ultralytics_yolov5_master\\models\\common.py:894: FutureWarning: `torch.cuda.amp.autocast(args...)` is deprecated. Please use `torch.amp.autocast('cuda', args...)` instead.\n",
      "  with amp.autocast(autocast):\n",
      "C:\\Users\\GAMING/.cache\\torch\\hub\\ultralytics_yolov5_master\\models\\common.py:894: FutureWarning: `torch.cuda.amp.autocast(args...)` is deprecated. Please use `torch.amp.autocast('cuda', args...)` instead.\n",
      "  with amp.autocast(autocast):\n"
     ]
    },
    {
     "name": "stdout",
     "output_type": "stream",
     "text": [
      "Modes -> Glow: False, Particles: True, Mirror: False, Filter: 0\n",
      "Modes -> Glow: False, Particles: True, Mirror: False, Filter: 0\n"
     ]
    },
    {
     "name": "stderr",
     "output_type": "stream",
     "text": [
      "C:\\Users\\GAMING/.cache\\torch\\hub\\ultralytics_yolov5_master\\models\\common.py:894: FutureWarning: `torch.cuda.amp.autocast(args...)` is deprecated. Please use `torch.amp.autocast('cuda', args...)` instead.\n",
      "  with amp.autocast(autocast):\n"
     ]
    },
    {
     "name": "stdout",
     "output_type": "stream",
     "text": [
      "Modes -> Glow: False, Particles: True, Mirror: False, Filter: 0\n",
      "Modes -> Glow: False, Particles: True, Mirror: False, Filter: 0\n",
      "Modes -> Glow: False, Particles: True, Mirror: False, Filter: 0\n",
      "Modes -> Glow: False, Particles: True, Mirror: False, Filter: 0\n"
     ]
    },
    {
     "name": "stderr",
     "output_type": "stream",
     "text": [
      "C:\\Users\\GAMING/.cache\\torch\\hub\\ultralytics_yolov5_master\\models\\common.py:894: FutureWarning: `torch.cuda.amp.autocast(args...)` is deprecated. Please use `torch.amp.autocast('cuda', args...)` instead.\n",
      "  with amp.autocast(autocast):\n"
     ]
    },
    {
     "name": "stdout",
     "output_type": "stream",
     "text": [
      "Modes -> Glow: False, Particles: True, Mirror: False, Filter: 0\n",
      "Modes -> Glow: False, Particles: True, Mirror: False, Filter: 0\n",
      "Modes -> Glow: False, Particles: True, Mirror: False, Filter: 0\n",
      "Modes -> Glow: False, Particles: True, Mirror: False, Filter: 0\n"
     ]
    },
    {
     "name": "stderr",
     "output_type": "stream",
     "text": [
      "C:\\Users\\GAMING/.cache\\torch\\hub\\ultralytics_yolov5_master\\models\\common.py:894: FutureWarning: `torch.cuda.amp.autocast(args...)` is deprecated. Please use `torch.amp.autocast('cuda', args...)` instead.\n",
      "  with amp.autocast(autocast):\n",
      "C:\\Users\\GAMING/.cache\\torch\\hub\\ultralytics_yolov5_master\\models\\common.py:894: FutureWarning: `torch.cuda.amp.autocast(args...)` is deprecated. Please use `torch.amp.autocast('cuda', args...)` instead.\n",
      "  with amp.autocast(autocast):\n"
     ]
    },
    {
     "name": "stdout",
     "output_type": "stream",
     "text": [
      "Modes -> Glow: False, Particles: True, Mirror: False, Filter: 0\n",
      "Modes -> Glow: False, Particles: True, Mirror: False, Filter: 0\n",
      "Modes -> Glow: False, Particles: True, Mirror: False, Filter: 0\n",
      "Modes -> Glow: False, Particles: True, Mirror: False, Filter: 0\n",
      "Modes -> Glow: False, Particles: True, Mirror: False, Filter: 0\n",
      "Modes -> Glow: False, Particles: True, Mirror: False, Filter: 0\n",
      "Modes -> Glow: False, Particles: True, Mirror: False, Filter: 0\n",
      "Modes -> Glow: False, Particles: True, Mirror: False, Filter: 0\n",
      "Modes -> Glow: False, Particles: True, Mirror: False, Filter: 0\n",
      "Modes -> Glow: False, Particles: True, Mirror: False, Filter: 0\n",
      "Modes -> Glow: False, Particles: True, Mirror: False, Filter: 0\n",
      "Modes -> Glow: False, Particles: True, Mirror: False, Filter: 0\n",
      "Modes -> Glow: False, Particles: True, Mirror: False, Filter: 0\n",
      "Modes -> Glow: False, Particles: True, Mirror: False, Filter: 0\n",
      "Modes -> Glow: False, Particles: True, Mirror: False, Filter: 0\n",
      "Modes -> Glow: False, Particles: True, Mirror: False, Filter: 0\n",
      "Modes -> Glow: False, Particles: True, Mirror: False, Filter: 0\n",
      "Modes -> Glow: False, Particles: True, Mirror: False, Filter: 0\n",
      "Modes -> Glow: False, Particles: True, Mirror: False, Filter: 0\n",
      "Modes -> Glow: False, Particles: True, Mirror: False, Filter: 0\n",
      "Modes -> Glow: False, Particles: True, Mirror: False, Filter: 0\n",
      "Modes -> Glow: False, Particles: True, Mirror: False, Filter: 0\n",
      "Modes -> Glow: False, Particles: True, Mirror: False, Filter: 0\n",
      "Modes -> Glow: False, Particles: True, Mirror: False, Filter: 0\n",
      "Modes -> Glow: False, Particles: True, Mirror: False, Filter: 0\n",
      "Modes -> Glow: False, Particles: True, Mirror: False, Filter: 0\n",
      "Modes -> Glow: False, Particles: True, Mirror: False, Filter: 0\n",
      "Modes -> Glow: False, Particles: True, Mirror: False, Filter: 0\n",
      "Modes -> Glow: False, Particles: True, Mirror: False, Filter: 0\n",
      "Modes -> Glow: False, Particles: True, Mirror: False, Filter: 0\n",
      "Modes -> Glow: False, Particles: True, Mirror: False, Filter: 0\n",
      "Modes -> Glow: False, Particles: True, Mirror: False, Filter: 0\n",
      "Modes -> Glow: False, Particles: True, Mirror: False, Filter: 0\n",
      "Modes -> Glow: False, Particles: True, Mirror: False, Filter: 0\n",
      "Modes -> Glow: False, Particles: True, Mirror: False, Filter: 0\n",
      "Modes -> Glow: False, Particles: True, Mirror: False, Filter: 0\n",
      "Modes -> Glow: False, Particles: True, Mirror: False, Filter: 0\n",
      "Modes -> Glow: False, Particles: True, Mirror: False, Filter: 0\n",
      "Modes -> Glow: False, Particles: True, Mirror: False, Filter: 0\n",
      "Modes -> Glow: False, Particles: True, Mirror: False, Filter: 0\n",
      "Modes -> Glow: False, Particles: True, Mirror: False, Filter: 0\n",
      "Modes -> Glow: False, Particles: True, Mirror: False, Filter: 0\n",
      "Modes -> Glow: False, Particles: True, Mirror: False, Filter: 0\n",
      "Modes -> Glow: False, Particles: True, Mirror: False, Filter: 0\n",
      "Modes -> Glow: False, Particles: True, Mirror: False, Filter: 0\n",
      "Modes -> Glow: False, Particles: True, Mirror: False, Filter: 0\n",
      "Modes -> Glow: False, Particles: True, Mirror: False, Filter: 0\n",
      "Modes -> Glow: False, Particles: True, Mirror: False, Filter: 0\n",
      "Modes -> Glow: False, Particles: True, Mirror: False, Filter: 0\n",
      "Modes -> Glow: False, Particles: True, Mirror: False, Filter: 0\n",
      "Modes -> Glow: False, Particles: True, Mirror: False, Filter: 0\n",
      "Modes -> Glow: False, Particles: True, Mirror: False, Filter: 0\n",
      "Modes -> Glow: False, Particles: True, Mirror: False, Filter: 0\n",
      "Modes -> Glow: False, Particles: True, Mirror: False, Filter: 0\n",
      "Modes -> Glow: False, Particles: True, Mirror: False, Filter: 0\n",
      "Modes -> Glow: False, Particles: True, Mirror: False, Filter: 0\n",
      "Modes -> Glow: False, Particles: True, Mirror: False, Filter: 0\n",
      "Modes -> Glow: False, Particles: True, Mirror: False, Filter: 0\n",
      "Modes -> Glow: False, Particles: True, Mirror: False, Filter: 0\n",
      "Modes -> Glow: False, Particles: True, Mirror: False, Filter: 0\n",
      "Modes -> Glow: False, Particles: True, Mirror: False, Filter: 0\n",
      "Modes -> Glow: False, Particles: True, Mirror: False, Filter: 0\n",
      "Modes -> Glow: False, Particles: True, Mirror: False, Filter: 0\n",
      "Modes -> Glow: False, Particles: True, Mirror: False, Filter: 0\n",
      "Modes -> Glow: False, Particles: True, Mirror: False, Filter: 0\n",
      "Modes -> Glow: False, Particles: True, Mirror: False, Filter: 0\n",
      "Modes -> Glow: False, Particles: True, Mirror: False, Filter: 0\n",
      "Modes -> Glow: False, Particles: True, Mirror: False, Filter: 0\n",
      "Modes -> Glow: False, Particles: True, Mirror: False, Filter: 0\n",
      "Modes -> Glow: False, Particles: True, Mirror: False, Filter: 0\n",
      "Modes -> Glow: False, Particles: True, Mirror: False, Filter: 0\n",
      "Modes -> Glow: False, Particles: True, Mirror: False, Filter: 0\n",
      "Modes -> Glow: False, Particles: True, Mirror: False, Filter: 0\n",
      "Modes -> Glow: False, Particles: True, Mirror: False, Filter: 0\n",
      "Modes -> Glow: False, Particles: True, Mirror: False, Filter: 0\n",
      "Modes -> Glow: False, Particles: True, Mirror: False, Filter: 0\n",
      "Modes -> Glow: False, Particles: True, Mirror: False, Filter: 0\n",
      "Modes -> Glow: False, Particles: True, Mirror: False, Filter: 0\n",
      "Modes -> Glow: False, Particles: True, Mirror: False, Filter: 0\n",
      "Modes -> Glow: False, Particles: True, Mirror: False, Filter: 0\n",
      "Modes -> Glow: False, Particles: True, Mirror: False, Filter: 0\n",
      "Modes -> Glow: False, Particles: True, Mirror: False, Filter: 0\n",
      "Modes -> Glow: False, Particles: True, Mirror: False, Filter: 0\n",
      "Modes -> Glow: False, Particles: True, Mirror: False, Filter: 0\n",
      "Modes -> Glow: False, Particles: True, Mirror: False, Filter: 0\n",
      "Modes -> Glow: False, Particles: True, Mirror: False, Filter: 0\n",
      "Modes -> Glow: False, Particles: True, Mirror: False, Filter: 0\n",
      "Modes -> Glow: False, Particles: True, Mirror: False, Filter: 0\n",
      "Modes -> Glow: False, Particles: True, Mirror: False, Filter: 0\n",
      "Modes -> Glow: False, Particles: True, Mirror: False, Filter: 0\n",
      "Modes -> Glow: False, Particles: True, Mirror: False, Filter: 0\n",
      "Modes -> Glow: False, Particles: True, Mirror: False, Filter: 0\n",
      "Modes -> Glow: False, Particles: True, Mirror: False, Filter: 0\n",
      "Modes -> Glow: False, Particles: True, Mirror: False, Filter: 0\n",
      "Modes -> Glow: False, Particles: True, Mirror: False, Filter: 0\n",
      "Modes -> Glow: False, Particles: True, Mirror: False, Filter: 0\n",
      "Modes -> Glow: False, Particles: True, Mirror: False, Filter: 0\n",
      "Modes -> Glow: False, Particles: True, Mirror: False, Filter: 0\n",
      "Modes -> Glow: False, Particles: True, Mirror: False, Filter: 0\n",
      "Modes -> Glow: False, Particles: True, Mirror: False, Filter: 0\n",
      "Modes -> Glow: False, Particles: True, Mirror: False, Filter: 0\n",
      "Modes -> Glow: False, Particles: True, Mirror: False, Filter: 0\n",
      "Modes -> Glow: False, Particles: True, Mirror: False, Filter: 0\n",
      "Modes -> Glow: False, Particles: True, Mirror: False, Filter: 0\n",
      "Modes -> Glow: False, Particles: True, Mirror: False, Filter: 0\n",
      "Modes -> Glow: False, Particles: True, Mirror: False, Filter: 0\n",
      "Modes -> Glow: False, Particles: True, Mirror: False, Filter: 0\n",
      "Modes -> Glow: False, Particles: True, Mirror: False, Filter: 0\n",
      "Modes -> Glow: False, Particles: True, Mirror: False, Filter: 0\n",
      "Modes -> Glow: False, Particles: True, Mirror: False, Filter: 0\n",
      "Modes -> Glow: False, Particles: True, Mirror: False, Filter: 0\n",
      "Modes -> Glow: False, Particles: True, Mirror: False, Filter: 0\n",
      "Modes -> Glow: False, Particles: True, Mirror: False, Filter: 0\n",
      "Modes -> Glow: False, Particles: True, Mirror: False, Filter: 0\n",
      "Modes -> Glow: False, Particles: True, Mirror: False, Filter: 0\n",
      "Modes -> Glow: False, Particles: True, Mirror: False, Filter: 0\n",
      "Modes -> Glow: False, Particles: True, Mirror: False, Filter: 0\n",
      "Modes -> Glow: False, Particles: True, Mirror: False, Filter: 0\n",
      "Modes -> Glow: False, Particles: True, Mirror: False, Filter: 0\n",
      "Modes -> Glow: False, Particles: True, Mirror: False, Filter: 0\n",
      "Modes -> Glow: False, Particles: True, Mirror: False, Filter: 0\n",
      "Modes -> Glow: False, Particles: True, Mirror: False, Filter: 0\n",
      "Modes -> Glow: False, Particles: True, Mirror: False, Filter: 0\n",
      "Modes -> Glow: False, Particles: True, Mirror: False, Filter: 0\n",
      "Modes -> Glow: False, Particles: True, Mirror: False, Filter: 0\n",
      "Modes -> Glow: False, Particles: True, Mirror: False, Filter: 0\n",
      "Modes -> Glow: False, Particles: True, Mirror: False, Filter: 0\n",
      "Modes -> Glow: False, Particles: True, Mirror: False, Filter: 0\n",
      "Modes -> Glow: False, Particles: True, Mirror: False, Filter: 0\n",
      "Modes -> Glow: False, Particles: True, Mirror: False, Filter: 0\n",
      "Modes -> Glow: False, Particles: True, Mirror: False, Filter: 0\n",
      "Modes -> Glow: False, Particles: True, Mirror: False, Filter: 0\n",
      "Modes -> Glow: False, Particles: True, Mirror: False, Filter: 0\n",
      "Modes -> Glow: False, Particles: True, Mirror: False, Filter: 0\n",
      "Modes -> Glow: False, Particles: True, Mirror: False, Filter: 0\n",
      "Modes -> Glow: False, Particles: True, Mirror: False, Filter: 0\n",
      "Modes -> Glow: False, Particles: True, Mirror: False, Filter: 0\n",
      "Modes -> Glow: False, Particles: True, Mirror: False, Filter: 0\n",
      "Modes -> Glow: False, Particles: True, Mirror: False, Filter: 0\n",
      "Modes -> Glow: False, Particles: True, Mirror: False, Filter: 0\n",
      "Modes -> Glow: False, Particles: True, Mirror: False, Filter: 0\n",
      "Modes -> Glow: False, Particles: True, Mirror: False, Filter: 0\n",
      "Modes -> Glow: False, Particles: True, Mirror: False, Filter: 0\n",
      "Modes -> Glow: False, Particles: True, Mirror: False, Filter: 0\n",
      "Modes -> Glow: False, Particles: True, Mirror: False, Filter: 0\n",
      "Modes -> Glow: False, Particles: True, Mirror: False, Filter: 0\n",
      "Modes -> Glow: False, Particles: True, Mirror: False, Filter: 0\n",
      "Modes -> Glow: False, Particles: True, Mirror: False, Filter: 0\n",
      "Modes -> Glow: False, Particles: True, Mirror: False, Filter: 0\n",
      "Modes -> Glow: False, Particles: True, Mirror: False, Filter: 0\n",
      "Modes -> Glow: False, Particles: True, Mirror: False, Filter: 0\n",
      "Modes -> Glow: False, Particles: True, Mirror: False, Filter: 0\n",
      "Modes -> Glow: False, Particles: True, Mirror: False, Filter: 0\n",
      "Modes -> Glow: False, Particles: True, Mirror: False, Filter: 0\n",
      "Modes -> Glow: False, Particles: True, Mirror: False, Filter: 0\n",
      "Modes -> Glow: False, Particles: True, Mirror: False, Filter: 0\n",
      "Modes -> Glow: False, Particles: True, Mirror: False, Filter: 0\n",
      "Modes -> Glow: False, Particles: True, Mirror: False, Filter: 0\n",
      "Modes -> Glow: False, Particles: True, Mirror: False, Filter: 0\n",
      "Modes -> Glow: False, Particles: True, Mirror: False, Filter: 0\n",
      "Modes -> Glow: False, Particles: True, Mirror: False, Filter: 0\n",
      "Modes -> Glow: False, Particles: True, Mirror: False, Filter: 0\n",
      "Modes -> Glow: False, Particles: True, Mirror: False, Filter: 0\n",
      "Modes -> Glow: False, Particles: True, Mirror: False, Filter: 0\n",
      "Modes -> Glow: False, Particles: True, Mirror: False, Filter: 0\n",
      "Modes -> Glow: False, Particles: True, Mirror: False, Filter: 0\n",
      "Modes -> Glow: False, Particles: True, Mirror: False, Filter: 0\n",
      "Modes -> Glow: False, Particles: True, Mirror: False, Filter: 0\n",
      "Modes -> Glow: False, Particles: True, Mirror: False, Filter: 0\n",
      "Modes -> Glow: False, Particles: True, Mirror: False, Filter: 0\n",
      "Modes -> Glow: False, Particles: True, Mirror: False, Filter: 0\n",
      "Modes -> Glow: False, Particles: True, Mirror: False, Filter: 0\n",
      "Modes -> Glow: False, Particles: True, Mirror: False, Filter: 0\n",
      "Modes -> Glow: False, Particles: True, Mirror: False, Filter: 0\n",
      "Modes -> Glow: False, Particles: True, Mirror: False, Filter: 0\n",
      "Modes -> Glow: False, Particles: True, Mirror: False, Filter: 0\n",
      "Modes -> Glow: False, Particles: True, Mirror: False, Filter: 0\n",
      "Modes -> Glow: False, Particles: True, Mirror: False, Filter: 0\n",
      "Modes -> Glow: False, Particles: True, Mirror: False, Filter: 0\n",
      "Modes -> Glow: False, Particles: True, Mirror: False, Filter: 0\n",
      "Modes -> Glow: False, Particles: True, Mirror: False, Filter: 0\n",
      "Modes -> Glow: False, Particles: True, Mirror: False, Filter: 0\n",
      "Modes -> Glow: False, Particles: True, Mirror: False, Filter: 0\n",
      "Modes -> Glow: False, Particles: True, Mirror: False, Filter: 0\n",
      "Modes -> Glow: False, Particles: True, Mirror: False, Filter: 0\n",
      "Modes -> Glow: False, Particles: True, Mirror: False, Filter: 0\n",
      "Modes -> Glow: False, Particles: True, Mirror: False, Filter: 0\n",
      "Modes -> Glow: False, Particles: True, Mirror: False, Filter: 0\n",
      "Modes -> Glow: False, Particles: True, Mirror: False, Filter: 0\n",
      "Modes -> Glow: False, Particles: True, Mirror: False, Filter: 0\n",
      "Modes -> Glow: False, Particles: True, Mirror: False, Filter: 0\n",
      "Modes -> Glow: False, Particles: True, Mirror: False, Filter: 0\n",
      "Modes -> Glow: False, Particles: True, Mirror: False, Filter: 0\n",
      "Modes -> Glow: False, Particles: True, Mirror: False, Filter: 0\n",
      "Modes -> Glow: False, Particles: True, Mirror: False, Filter: 0\n",
      "Modes -> Glow: False, Particles: True, Mirror: False, Filter: 0\n",
      "Modes -> Glow: False, Particles: True, Mirror: False, Filter: 0\n",
      "Modes -> Glow: False, Particles: True, Mirror: False, Filter: 0\n",
      "Modes -> Glow: False, Particles: True, Mirror: False, Filter: 0\n",
      "Modes -> Glow: False, Particles: True, Mirror: False, Filter: 0\n",
      "Modes -> Glow: False, Particles: True, Mirror: False, Filter: 0\n",
      "Modes -> Glow: False, Particles: True, Mirror: False, Filter: 0\n",
      "Modes -> Glow: False, Particles: True, Mirror: False, Filter: 0\n",
      "Modes -> Glow: False, Particles: True, Mirror: False, Filter: 0\n",
      "Modes -> Glow: False, Particles: True, Mirror: False, Filter: 0\n",
      "Modes -> Glow: False, Particles: True, Mirror: False, Filter: 0\n",
      "Modes -> Glow: False, Particles: True, Mirror: False, Filter: 0\n",
      "Modes -> Glow: False, Particles: True, Mirror: False, Filter: 0\n",
      "Modes -> Glow: False, Particles: True, Mirror: False, Filter: 0\n",
      "Modes -> Glow: False, Particles: True, Mirror: False, Filter: 0\n",
      "Modes -> Glow: False, Particles: True, Mirror: False, Filter: 0\n",
      "Modes -> Glow: False, Particles: True, Mirror: False, Filter: 0\n",
      "Modes -> Glow: False, Particles: True, Mirror: False, Filter: 0\n",
      "Modes -> Glow: False, Particles: True, Mirror: False, Filter: 0\n",
      "Modes -> Glow: False, Particles: True, Mirror: False, Filter: 0\n",
      "Modes -> Glow: False, Particles: True, Mirror: False, Filter: 0\n",
      "Modes -> Glow: False, Particles: True, Mirror: False, Filter: 0\n",
      "Modes -> Glow: False, Particles: True, Mirror: False, Filter: 0\n",
      "Modes -> Glow: False, Particles: True, Mirror: False, Filter: 0\n",
      "Modes -> Glow: False, Particles: True, Mirror: False, Filter: 0\n",
      "Modes -> Glow: False, Particles: True, Mirror: False, Filter: 0\n",
      "Modes -> Glow: False, Particles: True, Mirror: False, Filter: 0\n",
      "Modes -> Glow: False, Particles: True, Mirror: False, Filter: 0\n",
      "Modes -> Glow: False, Particles: True, Mirror: False, Filter: 0\n",
      "Modes -> Glow: False, Particles: True, Mirror: False, Filter: 0\n",
      "Modes -> Glow: False, Particles: True, Mirror: False, Filter: 0\n",
      "Modes -> Glow: False, Particles: True, Mirror: False, Filter: 0\n",
      "Modes -> Glow: False, Particles: True, Mirror: False, Filter: 0\n",
      "Modes -> Glow: False, Particles: True, Mirror: False, Filter: 0\n",
      "Modes -> Glow: False, Particles: True, Mirror: False, Filter: 0\n",
      "Modes -> Glow: False, Particles: True, Mirror: False, Filter: 0\n",
      "Modes -> Glow: False, Particles: True, Mirror: False, Filter: 0\n",
      "Modes -> Glow: False, Particles: True, Mirror: False, Filter: 0\n",
      "Modes -> Glow: False, Particles: True, Mirror: False, Filter: 0\n",
      "Modes -> Glow: False, Particles: True, Mirror: False, Filter: 0\n",
      "Modes -> Glow: False, Particles: True, Mirror: False, Filter: 0\n",
      "Modes -> Glow: False, Particles: True, Mirror: False, Filter: 0\n",
      "Modes -> Glow: False, Particles: True, Mirror: False, Filter: 0\n",
      "Modes -> Glow: False, Particles: True, Mirror: False, Filter: 0\n",
      "Modes -> Glow: False, Particles: True, Mirror: False, Filter: 0\n",
      "Modes -> Glow: False, Particles: True, Mirror: False, Filter: 0\n",
      "Modes -> Glow: False, Particles: True, Mirror: False, Filter: 0\n",
      "Modes -> Glow: False, Particles: True, Mirror: False, Filter: 0\n",
      "Modes -> Glow: False, Particles: True, Mirror: False, Filter: 0\n",
      "Modes -> Glow: False, Particles: True, Mirror: False, Filter: 0\n",
      "Modes -> Glow: False, Particles: True, Mirror: False, Filter: 0\n",
      "Modes -> Glow: False, Particles: True, Mirror: False, Filter: 0\n",
      "Modes -> Glow: False, Particles: True, Mirror: False, Filter: 0\n",
      "Modes -> Glow: False, Particles: True, Mirror: False, Filter: 0\n",
      "Modes -> Glow: False, Particles: True, Mirror: False, Filter: 0\n",
      "Modes -> Glow: False, Particles: True, Mirror: False, Filter: 0\n",
      "Modes -> Glow: False, Particles: True, Mirror: False, Filter: 0\n",
      "Modes -> Glow: False, Particles: True, Mirror: False, Filter: 0\n",
      "Modes -> Glow: False, Particles: True, Mirror: False, Filter: 0\n",
      "Modes -> Glow: False, Particles: True, Mirror: False, Filter: 0\n",
      "Modes -> Glow: False, Particles: True, Mirror: False, Filter: 0\n",
      "Modes -> Glow: False, Particles: True, Mirror: False, Filter: 0\n",
      "Modes -> Glow: False, Particles: True, Mirror: False, Filter: 0\n",
      "Modes -> Glow: False, Particles: True, Mirror: False, Filter: 0\n",
      "Modes -> Glow: False, Particles: True, Mirror: False, Filter: 0\n",
      "Modes -> Glow: False, Particles: True, Mirror: False, Filter: 0\n",
      "Modes -> Glow: False, Particles: True, Mirror: False, Filter: 0\n",
      "Modes -> Glow: False, Particles: True, Mirror: False, Filter: 0\n",
      "Modes -> Glow: False, Particles: True, Mirror: False, Filter: 0\n",
      "Modes -> Glow: False, Particles: True, Mirror: False, Filter: 0\n",
      "Modes -> Glow: False, Particles: True, Mirror: False, Filter: 0\n",
      "Modes -> Glow: False, Particles: True, Mirror: False, Filter: 0\n",
      "Modes -> Glow: False, Particles: True, Mirror: False, Filter: 0\n",
      "Modes -> Glow: False, Particles: True, Mirror: False, Filter: 0\n",
      "Modes -> Glow: False, Particles: True, Mirror: False, Filter: 0\n",
      "Modes -> Glow: False, Particles: True, Mirror: False, Filter: 0\n",
      "Modes -> Glow: False, Particles: True, Mirror: False, Filter: 0\n",
      "Modes -> Glow: False, Particles: True, Mirror: False, Filter: 0\n",
      "Modes -> Glow: False, Particles: True, Mirror: False, Filter: 0\n",
      "Modes -> Glow: False, Particles: True, Mirror: False, Filter: 0\n",
      "Modes -> Glow: False, Particles: True, Mirror: False, Filter: 0\n",
      "Modes -> Glow: False, Particles: True, Mirror: False, Filter: 0\n",
      "Modes -> Glow: False, Particles: True, Mirror: False, Filter: 0\n",
      "Modes -> Glow: False, Particles: True, Mirror: False, Filter: 0\n",
      "Modes -> Glow: False, Particles: True, Mirror: False, Filter: 0\n",
      "Modes -> Glow: False, Particles: True, Mirror: False, Filter: 0\n",
      "Modes -> Glow: False, Particles: True, Mirror: False, Filter: 0\n",
      "Modes -> Glow: False, Particles: True, Mirror: False, Filter: 0\n",
      "Modes -> Glow: False, Particles: True, Mirror: False, Filter: 0\n",
      "Modes -> Glow: False, Particles: True, Mirror: False, Filter: 0\n",
      "Modes -> Glow: False, Particles: True, Mirror: False, Filter: 0\n",
      "Modes -> Glow: False, Particles: True, Mirror: False, Filter: 0\n",
      "Modes -> Glow: False, Particles: True, Mirror: False, Filter: 0\n",
      "Modes -> Glow: False, Particles: True, Mirror: False, Filter: 0\n",
      "Modes -> Glow: False, Particles: True, Mirror: False, Filter: 0\n",
      "Modes -> Glow: False, Particles: True, Mirror: False, Filter: 0\n",
      "Modes -> Glow: False, Particles: True, Mirror: False, Filter: 0\n",
      "Modes -> Glow: False, Particles: True, Mirror: False, Filter: 0\n",
      "Modes -> Glow: False, Particles: True, Mirror: False, Filter: 0\n",
      "Modes -> Glow: False, Particles: True, Mirror: False, Filter: 0\n",
      "Modes -> Glow: False, Particles: True, Mirror: False, Filter: 0\n",
      "Modes -> Glow: False, Particles: True, Mirror: False, Filter: 0\n",
      "Modes -> Glow: False, Particles: True, Mirror: False, Filter: 0\n",
      "Modes -> Glow: False, Particles: True, Mirror: False, Filter: 0\n",
      "Modes -> Glow: False, Particles: True, Mirror: False, Filter: 0\n",
      "Modes -> Glow: False, Particles: True, Mirror: False, Filter: 0\n",
      "Modes -> Glow: False, Particles: True, Mirror: False, Filter: 0\n",
      "Modes -> Glow: False, Particles: True, Mirror: False, Filter: 0\n",
      "Modes -> Glow: False, Particles: True, Mirror: False, Filter: 0\n",
      "Modes -> Glow: False, Particles: True, Mirror: False, Filter: 0\n",
      "Modes -> Glow: False, Particles: True, Mirror: False, Filter: 0\n",
      "Modes -> Glow: False, Particles: True, Mirror: False, Filter: 0\n",
      "Modes -> Glow: False, Particles: True, Mirror: False, Filter: 0\n",
      "Modes -> Glow: False, Particles: True, Mirror: False, Filter: 0\n",
      "Modes -> Glow: False, Particles: True, Mirror: False, Filter: 0\n",
      "Modes -> Glow: False, Particles: True, Mirror: False, Filter: 0\n",
      "Modes -> Glow: False, Particles: True, Mirror: False, Filter: 0\n",
      "Modes -> Glow: False, Particles: True, Mirror: False, Filter: 0\n",
      "Modes -> Glow: False, Particles: True, Mirror: False, Filter: 0\n",
      "Modes -> Glow: False, Particles: True, Mirror: False, Filter: 0\n",
      "Modes -> Glow: False, Particles: True, Mirror: False, Filter: 0\n",
      "Modes -> Glow: False, Particles: True, Mirror: False, Filter: 0\n",
      "Modes -> Glow: False, Particles: True, Mirror: False, Filter: 0\n",
      "Modes -> Glow: False, Particles: True, Mirror: False, Filter: 0\n",
      "Modes -> Glow: False, Particles: True, Mirror: False, Filter: 0\n",
      "Modes -> Glow: False, Particles: True, Mirror: False, Filter: 0\n",
      "Modes -> Glow: False, Particles: True, Mirror: False, Filter: 0\n",
      "Modes -> Glow: False, Particles: True, Mirror: False, Filter: 0\n",
      "Modes -> Glow: False, Particles: True, Mirror: False, Filter: 0\n",
      "Modes -> Glow: False, Particles: True, Mirror: False, Filter: 0\n",
      "Modes -> Glow: False, Particles: True, Mirror: False, Filter: 0\n",
      "Modes -> Glow: False, Particles: True, Mirror: False, Filter: 0\n",
      "Modes -> Glow: False, Particles: True, Mirror: False, Filter: 0\n",
      "Modes -> Glow: False, Particles: True, Mirror: False, Filter: 0\n",
      "Modes -> Glow: False, Particles: True, Mirror: False, Filter: 0\n",
      "Modes -> Glow: False, Particles: True, Mirror: False, Filter: 0\n",
      "Modes -> Glow: False, Particles: True, Mirror: False, Filter: 0\n",
      "Modes -> Glow: False, Particles: True, Mirror: False, Filter: 0\n",
      "Modes -> Glow: False, Particles: True, Mirror: False, Filter: 0\n",
      "Modes -> Glow: False, Particles: True, Mirror: False, Filter: 0\n",
      "Modes -> Glow: False, Particles: True, Mirror: False, Filter: 0\n",
      "Modes -> Glow: False, Particles: True, Mirror: False, Filter: 0\n",
      "Modes -> Glow: False, Particles: True, Mirror: False, Filter: 0\n",
      "Modes -> Glow: False, Particles: True, Mirror: False, Filter: 0\n",
      "Modes -> Glow: False, Particles: True, Mirror: False, Filter: 0\n",
      "Modes -> Glow: False, Particles: True, Mirror: False, Filter: 0\n",
      "Modes -> Glow: False, Particles: True, Mirror: False, Filter: 0\n",
      "Modes -> Glow: False, Particles: True, Mirror: False, Filter: 0\n",
      "Modes -> Glow: False, Particles: True, Mirror: False, Filter: 0\n",
      "Modes -> Glow: False, Particles: True, Mirror: False, Filter: 0\n",
      "Modes -> Glow: False, Particles: True, Mirror: False, Filter: 0\n",
      "Modes -> Glow: False, Particles: True, Mirror: False, Filter: 0\n",
      "Modes -> Glow: False, Particles: True, Mirror: False, Filter: 0\n",
      "Modes -> Glow: False, Particles: True, Mirror: False, Filter: 0\n",
      "Modes -> Glow: False, Particles: True, Mirror: False, Filter: 0\n",
      "Modes -> Glow: False, Particles: True, Mirror: False, Filter: 0\n",
      "Modes -> Glow: False, Particles: True, Mirror: False, Filter: 0\n",
      "Modes -> Glow: False, Particles: True, Mirror: False, Filter: 0\n",
      "Modes -> Glow: False, Particles: True, Mirror: False, Filter: 0\n",
      "Modes -> Glow: False, Particles: True, Mirror: False, Filter: 0\n",
      "Modes -> Glow: False, Particles: True, Mirror: False, Filter: 0\n",
      "Modes -> Glow: False, Particles: True, Mirror: False, Filter: 0\n",
      "Modes -> Glow: False, Particles: True, Mirror: False, Filter: 0\n",
      "Modes -> Glow: False, Particles: True, Mirror: False, Filter: 0\n",
      "Modes -> Glow: False, Particles: True, Mirror: False, Filter: 0\n",
      "Modes -> Glow: False, Particles: True, Mirror: False, Filter: 0\n",
      "Modes -> Glow: False, Particles: True, Mirror: False, Filter: 0\n",
      "Modes -> Glow: False, Particles: True, Mirror: False, Filter: 0\n",
      "Modes -> Glow: False, Particles: True, Mirror: False, Filter: 0\n",
      "Modes -> Glow: False, Particles: True, Mirror: False, Filter: 0\n",
      "Modes -> Glow: False, Particles: True, Mirror: False, Filter: 0\n",
      "Modes -> Glow: False, Particles: True, Mirror: False, Filter: 0\n",
      "Modes -> Glow: False, Particles: True, Mirror: False, Filter: 0\n",
      "Modes -> Glow: False, Particles: True, Mirror: False, Filter: 0\n",
      "Modes -> Glow: False, Particles: True, Mirror: False, Filter: 0\n",
      "Modes -> Glow: False, Particles: True, Mirror: False, Filter: 0\n",
      "Modes -> Glow: False, Particles: True, Mirror: False, Filter: 0\n",
      "Modes -> Glow: False, Particles: True, Mirror: False, Filter: 0\n",
      "Modes -> Glow: False, Particles: True, Mirror: False, Filter: 0\n",
      "Modes -> Glow: False, Particles: True, Mirror: False, Filter: 0\n",
      "Modes -> Glow: False, Particles: True, Mirror: False, Filter: 0\n",
      "Modes -> Glow: False, Particles: True, Mirror: False, Filter: 0\n",
      "Modes -> Glow: False, Particles: True, Mirror: False, Filter: 0\n",
      "Modes -> Glow: False, Particles: True, Mirror: False, Filter: 0\n",
      "Modes -> Glow: False, Particles: True, Mirror: False, Filter: 0\n",
      "Modes -> Glow: False, Particles: True, Mirror: False, Filter: 0\n",
      "Modes -> Glow: False, Particles: True, Mirror: False, Filter: 0\n",
      "Modes -> Glow: False, Particles: True, Mirror: False, Filter: 1\n",
      "Modes -> Glow: False, Particles: True, Mirror: False, Filter: 1\n",
      "Modes -> Glow: False, Particles: True, Mirror: False, Filter: 1\n",
      "Modes -> Glow: False, Particles: True, Mirror: False, Filter: 1\n",
      "Modes -> Glow: False, Particles: True, Mirror: False, Filter: 1\n",
      "Modes -> Glow: False, Particles: True, Mirror: False, Filter: 2\n",
      "Modes -> Glow: False, Particles: True, Mirror: False, Filter: 2\n",
      "Modes -> Glow: False, Particles: True, Mirror: False, Filter: 2\n",
      "Modes -> Glow: False, Particles: True, Mirror: False, Filter: 2\n",
      "Modes -> Glow: False, Particles: True, Mirror: False, Filter: 2\n",
      "Modes -> Glow: False, Particles: True, Mirror: False, Filter: 3\n",
      "Modes -> Glow: False, Particles: True, Mirror: False, Filter: 3\n",
      "Modes -> Glow: False, Particles: True, Mirror: False, Filter: 3\n",
      "Modes -> Glow: False, Particles: True, Mirror: False, Filter: 3\n",
      "Modes -> Glow: False, Particles: True, Mirror: False, Filter: 3\n",
      "Modes -> Glow: False, Particles: True, Mirror: False, Filter: 3\n",
      "Modes -> Glow: False, Particles: True, Mirror: False, Filter: 4\n",
      "Modes -> Glow: False, Particles: True, Mirror: False, Filter: 4\n",
      "Modes -> Glow: False, Particles: True, Mirror: False, Filter: 4\n",
      "Modes -> Glow: False, Particles: True, Mirror: False, Filter: 4\n",
      "Modes -> Glow: False, Particles: True, Mirror: False, Filter: 4\n",
      "Modes -> Glow: False, Particles: True, Mirror: False, Filter: 4\n",
      "Modes -> Glow: False, Particles: True, Mirror: False, Filter: 4\n",
      "Modes -> Glow: False, Particles: True, Mirror: False, Filter: 4\n",
      "Modes -> Glow: False, Particles: True, Mirror: False, Filter: 2\n",
      "Modes -> Glow: False, Particles: True, Mirror: False, Filter: 2\n",
      "Modes -> Glow: False, Particles: True, Mirror: False, Filter: 2\n",
      "Modes -> Glow: False, Particles: True, Mirror: False, Filter: 2\n",
      "Modes -> Glow: False, Particles: True, Mirror: False, Filter: 5\n",
      "Modes -> Glow: False, Particles: True, Mirror: False, Filter: 5\n",
      "Modes -> Glow: False, Particles: True, Mirror: False, Filter: 5\n",
      "Modes -> Glow: False, Particles: True, Mirror: False, Filter: 5\n",
      "Modes -> Glow: False, Particles: True, Mirror: False, Filter: 5\n",
      "Modes -> Glow: False, Particles: True, Mirror: False, Filter: 5\n",
      "Modes -> Glow: False, Particles: True, Mirror: False, Filter: 5\n",
      "Modes -> Glow: False, Particles: True, Mirror: False, Filter: 5\n",
      "Modes -> Glow: False, Particles: True, Mirror: False, Filter: 5\n",
      "Modes -> Glow: False, Particles: True, Mirror: False, Filter: 4\n",
      "Modes -> Glow: False, Particles: True, Mirror: False, Filter: 4\n",
      "Modes -> Glow: False, Particles: True, Mirror: False, Filter: 4\n",
      "Modes -> Glow: False, Particles: True, Mirror: False, Filter: 4\n",
      "Modes -> Glow: False, Particles: True, Mirror: False, Filter: 4\n",
      "Modes -> Glow: False, Particles: True, Mirror: False, Filter: 4\n",
      "Modes -> Glow: False, Particles: True, Mirror: False, Filter: 6\n",
      "Modes -> Glow: False, Particles: True, Mirror: False, Filter: 6\n",
      "Modes -> Glow: False, Particles: True, Mirror: False, Filter: 6\n",
      "Modes -> Glow: False, Particles: True, Mirror: False, Filter: 6\n",
      "Modes -> Glow: False, Particles: True, Mirror: False, Filter: 6\n",
      "Modes -> Glow: False, Particles: True, Mirror: False, Filter: 6\n",
      "Modes -> Glow: False, Particles: True, Mirror: False, Filter: 6\n",
      "Modes -> Glow: False, Particles: True, Mirror: False, Filter: 6\n",
      "Modes -> Glow: False, Particles: True, Mirror: False, Filter: 6\n",
      "Modes -> Glow: False, Particles: True, Mirror: False, Filter: 6\n",
      "Modes -> Glow: False, Particles: True, Mirror: False, Filter: 6\n",
      "Modes -> Glow: False, Particles: True, Mirror: False, Filter: 6\n",
      "Modes -> Glow: False, Particles: True, Mirror: False, Filter: 6\n",
      "Modes -> Glow: False, Particles: True, Mirror: False, Filter: 6\n",
      "Modes -> Glow: False, Particles: True, Mirror: False, Filter: 6\n",
      "Modes -> Glow: False, Particles: True, Mirror: False, Filter: 6\n",
      "Modes -> Glow: False, Particles: True, Mirror: False, Filter: 6\n",
      "Modes -> Glow: False, Particles: True, Mirror: False, Filter: 6\n",
      "Modes -> Glow: False, Particles: True, Mirror: False, Filter: 6\n",
      "Modes -> Glow: False, Particles: True, Mirror: False, Filter: 6\n",
      "Modes -> Glow: False, Particles: True, Mirror: False, Filter: 6\n",
      "Modes -> Glow: False, Particles: True, Mirror: False, Filter: 6\n",
      "Modes -> Glow: False, Particles: True, Mirror: False, Filter: 6\n",
      "Modes -> Glow: False, Particles: True, Mirror: False, Filter: 6\n",
      "Modes -> Glow: False, Particles: True, Mirror: False, Filter: 6\n",
      "Modes -> Glow: False, Particles: True, Mirror: False, Filter: 6\n",
      "Modes -> Glow: False, Particles: True, Mirror: False, Filter: 6\n",
      "Modes -> Glow: False, Particles: True, Mirror: False, Filter: 6\n",
      "Modes -> Glow: False, Particles: True, Mirror: False, Filter: 6\n",
      "Modes -> Glow: False, Particles: True, Mirror: False, Filter: 6\n",
      "Modes -> Glow: False, Particles: True, Mirror: False, Filter: 6\n",
      "Modes -> Glow: False, Particles: True, Mirror: False, Filter: 6\n",
      "Modes -> Glow: False, Particles: True, Mirror: False, Filter: 6\n",
      "Modes -> Glow: False, Particles: True, Mirror: False, Filter: 6\n",
      "Modes -> Glow: False, Particles: True, Mirror: False, Filter: 6\n",
      "Modes -> Glow: False, Particles: True, Mirror: False, Filter: 6\n",
      "Modes -> Glow: False, Particles: True, Mirror: False, Filter: 6\n",
      "Modes -> Glow: False, Particles: True, Mirror: False, Filter: 6\n",
      "Modes -> Glow: False, Particles: True, Mirror: False, Filter: 6\n",
      "Modes -> Glow: False, Particles: True, Mirror: False, Filter: 6\n",
      "Modes -> Glow: False, Particles: True, Mirror: False, Filter: 6\n",
      "Modes -> Glow: False, Particles: True, Mirror: False, Filter: 6\n",
      "Modes -> Glow: False, Particles: True, Mirror: False, Filter: 6\n",
      "Modes -> Glow: False, Particles: True, Mirror: False, Filter: 6\n",
      "Modes -> Glow: False, Particles: True, Mirror: False, Filter: 6\n",
      "Modes -> Glow: False, Particles: True, Mirror: False, Filter: 6\n",
      "Modes -> Glow: False, Particles: True, Mirror: False, Filter: 6\n",
      "Modes -> Glow: False, Particles: True, Mirror: False, Filter: 6\n",
      "Modes -> Glow: False, Particles: True, Mirror: False, Filter: 6\n",
      "Modes -> Glow: False, Particles: True, Mirror: False, Filter: 6\n",
      "Modes -> Glow: False, Particles: True, Mirror: False, Filter: 6\n",
      "Modes -> Glow: False, Particles: True, Mirror: False, Filter: 6\n",
      "Modes -> Glow: False, Particles: True, Mirror: False, Filter: 6\n",
      "Modes -> Glow: False, Particles: True, Mirror: False, Filter: 6\n",
      "Modes -> Glow: False, Particles: True, Mirror: False, Filter: 6\n",
      "Modes -> Glow: False, Particles: True, Mirror: False, Filter: 6\n",
      "Modes -> Glow: False, Particles: True, Mirror: False, Filter: 6\n",
      "Modes -> Glow: False, Particles: True, Mirror: False, Filter: 6\n",
      "Modes -> Glow: False, Particles: True, Mirror: False, Filter: 6\n",
      "Modes -> Glow: False, Particles: True, Mirror: False, Filter: 6\n",
      "Modes -> Glow: False, Particles: True, Mirror: False, Filter: 6\n",
      "Modes -> Glow: False, Particles: True, Mirror: False, Filter: 6\n",
      "Modes -> Glow: False, Particles: True, Mirror: False, Filter: 6\n",
      "Modes -> Glow: False, Particles: True, Mirror: False, Filter: 6\n",
      "Modes -> Glow: False, Particles: True, Mirror: False, Filter: 6\n",
      "Modes -> Glow: False, Particles: True, Mirror: False, Filter: 6\n",
      "Modes -> Glow: False, Particles: True, Mirror: False, Filter: 6\n",
      "Modes -> Glow: False, Particles: True, Mirror: False, Filter: 6\n",
      "Modes -> Glow: False, Particles: True, Mirror: False, Filter: 6\n",
      "Modes -> Glow: False, Particles: True, Mirror: False, Filter: 6\n",
      "Modes -> Glow: False, Particles: True, Mirror: False, Filter: 6\n",
      "Modes -> Glow: False, Particles: True, Mirror: False, Filter: 6\n",
      "Modes -> Glow: False, Particles: True, Mirror: False, Filter: 6\n",
      "Modes -> Glow: False, Particles: True, Mirror: False, Filter: 6\n",
      "Modes -> Glow: False, Particles: True, Mirror: False, Filter: 6\n",
      "Modes -> Glow: False, Particles: True, Mirror: False, Filter: 6\n",
      "Modes -> Glow: False, Particles: True, Mirror: False, Filter: 6\n",
      "Modes -> Glow: False, Particles: True, Mirror: False, Filter: 6\n",
      "Modes -> Glow: False, Particles: True, Mirror: False, Filter: 6\n",
      "Modes -> Glow: False, Particles: True, Mirror: False, Filter: 6\n",
      "Modes -> Glow: False, Particles: True, Mirror: False, Filter: 6\n",
      "Modes -> Glow: False, Particles: True, Mirror: False, Filter: 6\n",
      "Modes -> Glow: False, Particles: True, Mirror: False, Filter: 6\n",
      "Modes -> Glow: False, Particles: True, Mirror: False, Filter: 6\n",
      "Modes -> Glow: False, Particles: True, Mirror: False, Filter: 6\n",
      "Modes -> Glow: False, Particles: True, Mirror: False, Filter: 6\n",
      "Modes -> Glow: False, Particles: True, Mirror: False, Filter: 6\n",
      "Modes -> Glow: False, Particles: True, Mirror: False, Filter: 6\n",
      "Modes -> Glow: False, Particles: True, Mirror: False, Filter: 6\n",
      "Modes -> Glow: False, Particles: True, Mirror: False, Filter: 6\n",
      "Modes -> Glow: False, Particles: True, Mirror: False, Filter: 6\n",
      "Modes -> Glow: False, Particles: True, Mirror: False, Filter: 6\n",
      "Modes -> Glow: False, Particles: True, Mirror: False, Filter: 6\n",
      "Modes -> Glow: False, Particles: True, Mirror: False, Filter: 6\n",
      "Modes -> Glow: False, Particles: True, Mirror: False, Filter: 6\n",
      "Modes -> Glow: False, Particles: True, Mirror: False, Filter: 6\n",
      "Modes -> Glow: False, Particles: True, Mirror: False, Filter: 6\n",
      "Modes -> Glow: False, Particles: True, Mirror: False, Filter: 6\n",
      "Modes -> Glow: False, Particles: True, Mirror: False, Filter: 6\n",
      "Modes -> Glow: False, Particles: True, Mirror: False, Filter: 6\n",
      "Modes -> Glow: False, Particles: True, Mirror: False, Filter: 6\n",
      "Modes -> Glow: False, Particles: True, Mirror: False, Filter: 6\n",
      "Modes -> Glow: False, Particles: True, Mirror: False, Filter: 6\n",
      "Modes -> Glow: False, Particles: True, Mirror: False, Filter: 6\n",
      "Modes -> Glow: False, Particles: True, Mirror: False, Filter: 6\n",
      "Modes -> Glow: False, Particles: True, Mirror: False, Filter: 6\n",
      "Modes -> Glow: False, Particles: True, Mirror: False, Filter: 6\n",
      "Modes -> Glow: False, Particles: True, Mirror: False, Filter: 6\n",
      "Modes -> Glow: False, Particles: True, Mirror: False, Filter: 6\n",
      "Modes -> Glow: False, Particles: True, Mirror: False, Filter: 6\n",
      "Modes -> Glow: False, Particles: True, Mirror: False, Filter: 6\n",
      "Modes -> Glow: False, Particles: True, Mirror: False, Filter: 6\n",
      "Modes -> Glow: False, Particles: True, Mirror: False, Filter: 6\n",
      "Modes -> Glow: False, Particles: True, Mirror: False, Filter: 6\n",
      "Modes -> Glow: False, Particles: True, Mirror: False, Filter: 6\n",
      "Modes -> Glow: False, Particles: True, Mirror: False, Filter: 6\n",
      "Modes -> Glow: False, Particles: True, Mirror: False, Filter: 6\n",
      "Modes -> Glow: False, Particles: True, Mirror: False, Filter: 6\n",
      "Modes -> Glow: False, Particles: True, Mirror: False, Filter: 6\n",
      "Modes -> Glow: False, Particles: True, Mirror: False, Filter: 6\n",
      "Modes -> Glow: False, Particles: True, Mirror: False, Filter: 6\n",
      "Modes -> Glow: False, Particles: True, Mirror: False, Filter: 6\n",
      "Modes -> Glow: False, Particles: True, Mirror: False, Filter: 6\n",
      "Modes -> Glow: False, Particles: True, Mirror: False, Filter: 6\n",
      "Modes -> Glow: False, Particles: True, Mirror: False, Filter: 6\n",
      "Modes -> Glow: False, Particles: True, Mirror: False, Filter: 6\n",
      "Modes -> Glow: False, Particles: True, Mirror: False, Filter: 6\n",
      "Modes -> Glow: False, Particles: True, Mirror: False, Filter: 6\n",
      "Modes -> Glow: False, Particles: True, Mirror: False, Filter: 6\n",
      "Modes -> Glow: False, Particles: True, Mirror: False, Filter: 6\n",
      "Modes -> Glow: False, Particles: True, Mirror: False, Filter: 6\n",
      "Modes -> Glow: False, Particles: True, Mirror: False, Filter: 6\n",
      "Modes -> Glow: False, Particles: True, Mirror: False, Filter: 6\n",
      "Modes -> Glow: False, Particles: True, Mirror: False, Filter: 6\n",
      "Modes -> Glow: False, Particles: True, Mirror: False, Filter: 6\n",
      "Modes -> Glow: False, Particles: True, Mirror: False, Filter: 6\n",
      "Modes -> Glow: False, Particles: True, Mirror: False, Filter: 6\n",
      "Modes -> Glow: False, Particles: True, Mirror: False, Filter: 6\n",
      "Modes -> Glow: False, Particles: True, Mirror: False, Filter: 6\n",
      "Modes -> Glow: False, Particles: True, Mirror: False, Filter: 6\n",
      "Modes -> Glow: False, Particles: True, Mirror: False, Filter: 6\n",
      "Modes -> Glow: False, Particles: True, Mirror: False, Filter: 6\n",
      "Modes -> Glow: False, Particles: True, Mirror: False, Filter: 6\n",
      "Modes -> Glow: False, Particles: True, Mirror: False, Filter: 6\n",
      "Modes -> Glow: False, Particles: True, Mirror: False, Filter: 6\n",
      "Modes -> Glow: False, Particles: True, Mirror: False, Filter: 6\n",
      "Modes -> Glow: False, Particles: True, Mirror: False, Filter: 6\n",
      "Modes -> Glow: False, Particles: True, Mirror: False, Filter: 6\n",
      "Modes -> Glow: False, Particles: True, Mirror: False, Filter: 6\n",
      "Modes -> Glow: False, Particles: True, Mirror: False, Filter: 6\n",
      "Modes -> Glow: False, Particles: True, Mirror: False, Filter: 6\n",
      "Modes -> Glow: False, Particles: True, Mirror: False, Filter: 6\n",
      "Modes -> Glow: False, Particles: True, Mirror: False, Filter: 6\n",
      "Modes -> Glow: False, Particles: True, Mirror: False, Filter: 6\n",
      "Modes -> Glow: False, Particles: True, Mirror: False, Filter: 6\n",
      "Modes -> Glow: False, Particles: True, Mirror: False, Filter: 6\n",
      "Modes -> Glow: False, Particles: True, Mirror: False, Filter: 6\n",
      "Modes -> Glow: False, Particles: True, Mirror: False, Filter: 6\n",
      "Modes -> Glow: False, Particles: True, Mirror: False, Filter: 6\n",
      "Modes -> Glow: False, Particles: True, Mirror: False, Filter: 6\n",
      "Modes -> Glow: False, Particles: True, Mirror: False, Filter: 6\n",
      "Modes -> Glow: False, Particles: True, Mirror: False, Filter: 6\n",
      "Modes -> Glow: False, Particles: True, Mirror: False, Filter: 6\n",
      "Modes -> Glow: False, Particles: True, Mirror: False, Filter: 6\n",
      "Modes -> Glow: False, Particles: True, Mirror: False, Filter: 6\n",
      "Modes -> Glow: False, Particles: True, Mirror: False, Filter: 6\n",
      "Modes -> Glow: False, Particles: True, Mirror: False, Filter: 6\n",
      "Modes -> Glow: False, Particles: True, Mirror: False, Filter: 6\n",
      "Modes -> Glow: False, Particles: True, Mirror: False, Filter: 6\n",
      "Modes -> Glow: False, Particles: True, Mirror: False, Filter: 6\n",
      "Modes -> Glow: False, Particles: True, Mirror: False, Filter: 6\n",
      "Modes -> Glow: False, Particles: True, Mirror: False, Filter: 6\n",
      "Modes -> Glow: False, Particles: True, Mirror: False, Filter: 6\n",
      "Modes -> Glow: False, Particles: True, Mirror: False, Filter: 6\n",
      "Modes -> Glow: False, Particles: True, Mirror: False, Filter: 6\n",
      "Modes -> Glow: False, Particles: True, Mirror: False, Filter: 6\n",
      "Modes -> Glow: False, Particles: True, Mirror: False, Filter: 6\n",
      "Modes -> Glow: False, Particles: True, Mirror: False, Filter: 6\n",
      "Modes -> Glow: False, Particles: True, Mirror: False, Filter: 6\n",
      "Modes -> Glow: False, Particles: True, Mirror: False, Filter: 6\n",
      "Modes -> Glow: False, Particles: True, Mirror: False, Filter: 6\n",
      "Modes -> Glow: False, Particles: True, Mirror: False, Filter: 6\n",
      "Modes -> Glow: False, Particles: True, Mirror: False, Filter: 6\n",
      "Modes -> Glow: False, Particles: True, Mirror: False, Filter: 6\n",
      "Modes -> Glow: False, Particles: True, Mirror: False, Filter: 6\n",
      "Modes -> Glow: False, Particles: True, Mirror: False, Filter: 6\n",
      "Modes -> Glow: False, Particles: True, Mirror: False, Filter: 6\n",
      "Modes -> Glow: False, Particles: True, Mirror: False, Filter: 6\n",
      "Modes -> Glow: False, Particles: True, Mirror: False, Filter: 6\n",
      "Modes -> Glow: False, Particles: True, Mirror: False, Filter: 6\n",
      "Modes -> Glow: False, Particles: True, Mirror: False, Filter: 6\n",
      "Modes -> Glow: False, Particles: True, Mirror: False, Filter: 6\n",
      "Modes -> Glow: False, Particles: True, Mirror: False, Filter: 6\n",
      "Modes -> Glow: False, Particles: True, Mirror: False, Filter: 6\n",
      "Modes -> Glow: False, Particles: True, Mirror: False, Filter: 6\n",
      "Modes -> Glow: False, Particles: True, Mirror: False, Filter: 6\n",
      "Modes -> Glow: False, Particles: True, Mirror: False, Filter: 6\n",
      "Modes -> Glow: False, Particles: True, Mirror: False, Filter: 6\n",
      "Modes -> Glow: False, Particles: True, Mirror: False, Filter: 6\n",
      "Modes -> Glow: False, Particles: True, Mirror: False, Filter: 6\n",
      "Modes -> Glow: False, Particles: True, Mirror: False, Filter: 6\n",
      "Modes -> Glow: False, Particles: True, Mirror: False, Filter: 6\n",
      "Modes -> Glow: False, Particles: True, Mirror: False, Filter: 6\n",
      "Modes -> Glow: False, Particles: True, Mirror: False, Filter: 6\n",
      "Modes -> Glow: False, Particles: True, Mirror: False, Filter: 6\n",
      "Modes -> Glow: False, Particles: True, Mirror: False, Filter: 6\n",
      "Modes -> Glow: False, Particles: True, Mirror: False, Filter: 6\n",
      "Modes -> Glow: False, Particles: True, Mirror: False, Filter: 6\n",
      "Modes -> Glow: False, Particles: True, Mirror: False, Filter: 6\n",
      "Modes -> Glow: False, Particles: True, Mirror: False, Filter: 6\n",
      "Modes -> Glow: False, Particles: True, Mirror: False, Filter: 6\n",
      "Modes -> Glow: False, Particles: True, Mirror: False, Filter: 6\n",
      "Modes -> Glow: False, Particles: True, Mirror: False, Filter: 6\n",
      "Modes -> Glow: False, Particles: True, Mirror: False, Filter: 6\n",
      "Modes -> Glow: False, Particles: True, Mirror: False, Filter: 6\n",
      "Modes -> Glow: False, Particles: True, Mirror: False, Filter: 6\n",
      "Modes -> Glow: False, Particles: True, Mirror: False, Filter: 6\n",
      "Modes -> Glow: False, Particles: True, Mirror: False, Filter: 6\n",
      "Modes -> Glow: False, Particles: True, Mirror: False, Filter: 6\n",
      "Modes -> Glow: False, Particles: True, Mirror: False, Filter: 6\n",
      "Modes -> Glow: False, Particles: True, Mirror: False, Filter: 6\n",
      "Modes -> Glow: False, Particles: True, Mirror: False, Filter: 6\n",
      "Modes -> Glow: False, Particles: True, Mirror: False, Filter: 6\n",
      "Modes -> Glow: False, Particles: True, Mirror: False, Filter: 6\n",
      "Modes -> Glow: False, Particles: True, Mirror: False, Filter: 6\n",
      "Modes -> Glow: False, Particles: True, Mirror: False, Filter: 6\n",
      "Modes -> Glow: False, Particles: True, Mirror: False, Filter: 6\n",
      "Modes -> Glow: False, Particles: True, Mirror: False, Filter: 6\n",
      "Modes -> Glow: False, Particles: True, Mirror: False, Filter: 6\n",
      "Modes -> Glow: False, Particles: True, Mirror: False, Filter: 6\n",
      "Modes -> Glow: False, Particles: True, Mirror: False, Filter: 6\n",
      "Modes -> Glow: False, Particles: True, Mirror: False, Filter: 6\n",
      "Modes -> Glow: False, Particles: True, Mirror: False, Filter: 6\n",
      "Modes -> Glow: False, Particles: True, Mirror: False, Filter: 6\n",
      "Modes -> Glow: False, Particles: True, Mirror: False, Filter: 6\n",
      "Modes -> Glow: False, Particles: True, Mirror: False, Filter: 6\n",
      "Modes -> Glow: False, Particles: True, Mirror: False, Filter: 6\n",
      "Modes -> Glow: False, Particles: True, Mirror: False, Filter: 6\n",
      "Modes -> Glow: False, Particles: True, Mirror: False, Filter: 6\n",
      "Modes -> Glow: False, Particles: True, Mirror: False, Filter: 6\n",
      "Modes -> Glow: False, Particles: True, Mirror: False, Filter: 6\n",
      "Modes -> Glow: False, Particles: True, Mirror: False, Filter: 6\n",
      "Modes -> Glow: False, Particles: True, Mirror: False, Filter: 6\n",
      "Modes -> Glow: False, Particles: True, Mirror: False, Filter: 6\n",
      "Modes -> Glow: False, Particles: True, Mirror: False, Filter: 6\n",
      "Modes -> Glow: False, Particles: True, Mirror: False, Filter: 6\n",
      "Modes -> Glow: False, Particles: True, Mirror: False, Filter: 6\n",
      "Modes -> Glow: False, Particles: True, Mirror: False, Filter: 6\n",
      "Modes -> Glow: False, Particles: True, Mirror: False, Filter: 6\n",
      "Modes -> Glow: False, Particles: True, Mirror: False, Filter: 6\n",
      "Modes -> Glow: False, Particles: True, Mirror: False, Filter: 6\n",
      "Modes -> Glow: False, Particles: True, Mirror: False, Filter: 6\n",
      "Modes -> Glow: False, Particles: True, Mirror: False, Filter: 6\n",
      "Modes -> Glow: False, Particles: True, Mirror: False, Filter: 6\n",
      "Modes -> Glow: False, Particles: True, Mirror: False, Filter: 6\n",
      "Modes -> Glow: False, Particles: True, Mirror: False, Filter: 6\n",
      "Modes -> Glow: False, Particles: True, Mirror: False, Filter: 6\n",
      "Modes -> Glow: False, Particles: True, Mirror: False, Filter: 6\n",
      "Modes -> Glow: False, Particles: True, Mirror: False, Filter: 6\n",
      "Modes -> Glow: False, Particles: True, Mirror: False, Filter: 6\n",
      "Modes -> Glow: False, Particles: True, Mirror: False, Filter: 6\n",
      "Modes -> Glow: False, Particles: True, Mirror: False, Filter: 6\n",
      "Modes -> Glow: False, Particles: True, Mirror: False, Filter: 6\n",
      "Modes -> Glow: False, Particles: True, Mirror: False, Filter: 6\n",
      "Modes -> Glow: False, Particles: True, Mirror: False, Filter: 6\n",
      "Modes -> Glow: False, Particles: True, Mirror: False, Filter: 6\n",
      "Modes -> Glow: False, Particles: True, Mirror: False, Filter: 6\n",
      "Modes -> Glow: False, Particles: True, Mirror: False, Filter: 6\n",
      "Modes -> Glow: False, Particles: True, Mirror: False, Filter: 6\n",
      "Modes -> Glow: False, Particles: True, Mirror: False, Filter: 6\n",
      "Modes -> Glow: False, Particles: True, Mirror: False, Filter: 6\n",
      "Modes -> Glow: False, Particles: True, Mirror: False, Filter: 6\n",
      "Modes -> Glow: False, Particles: True, Mirror: False, Filter: 6\n",
      "Modes -> Glow: False, Particles: True, Mirror: False, Filter: 6\n",
      "Modes -> Glow: False, Particles: True, Mirror: False, Filter: 6\n",
      "Modes -> Glow: False, Particles: True, Mirror: False, Filter: 6\n",
      "Modes -> Glow: False, Particles: True, Mirror: False, Filter: 6\n",
      "Modes -> Glow: False, Particles: True, Mirror: False, Filter: 6\n",
      "Modes -> Glow: False, Particles: True, Mirror: False, Filter: 6\n",
      "Modes -> Glow: False, Particles: True, Mirror: False, Filter: 6\n",
      "Modes -> Glow: False, Particles: True, Mirror: False, Filter: 6\n",
      "Modes -> Glow: False, Particles: True, Mirror: False, Filter: 6\n",
      "Modes -> Glow: False, Particles: True, Mirror: False, Filter: 6\n",
      "Modes -> Glow: False, Particles: True, Mirror: False, Filter: 6\n",
      "Modes -> Glow: False, Particles: True, Mirror: False, Filter: 6\n",
      "Modes -> Glow: False, Particles: True, Mirror: False, Filter: 6\n",
      "Modes -> Glow: False, Particles: True, Mirror: False, Filter: 6\n",
      "Modes -> Glow: False, Particles: True, Mirror: False, Filter: 0\n",
      "Modes -> Glow: False, Particles: True, Mirror: False, Filter: 0\n",
      "Modes -> Glow: False, Particles: True, Mirror: False, Filter: 0\n",
      "Modes -> Glow: False, Particles: True, Mirror: False, Filter: 0\n",
      "Modes -> Glow: False, Particles: True, Mirror: False, Filter: 0\n",
      "Modes -> Glow: False, Particles: True, Mirror: False, Filter: 0\n",
      "Modes -> Glow: False, Particles: True, Mirror: False, Filter: 0\n",
      "Modes -> Glow: False, Particles: True, Mirror: False, Filter: 0\n",
      "Modes -> Glow: False, Particles: True, Mirror: False, Filter: 0\n",
      "Modes -> Glow: False, Particles: True, Mirror: False, Filter: 0\n",
      "Modes -> Glow: False, Particles: True, Mirror: False, Filter: 0\n",
      "Modes -> Glow: False, Particles: True, Mirror: False, Filter: 0\n",
      "Modes -> Glow: False, Particles: True, Mirror: False, Filter: 0\n",
      "Modes -> Glow: False, Particles: True, Mirror: False, Filter: 0\n",
      "Modes -> Glow: False, Particles: True, Mirror: False, Filter: 0\n",
      "Modes -> Glow: False, Particles: True, Mirror: False, Filter: 0\n",
      "Modes -> Glow: False, Particles: True, Mirror: False, Filter: 0\n",
      "Modes -> Glow: False, Particles: True, Mirror: False, Filter: 0\n",
      "Modes -> Glow: False, Particles: True, Mirror: False, Filter: 0\n",
      "Modes -> Glow: False, Particles: True, Mirror: False, Filter: 0\n",
      "Modes -> Glow: False, Particles: True, Mirror: False, Filter: 0\n",
      "Modes -> Glow: False, Particles: True, Mirror: False, Filter: 0\n",
      "Modes -> Glow: False, Particles: True, Mirror: False, Filter: 0\n",
      "Modes -> Glow: False, Particles: True, Mirror: False, Filter: 0\n",
      "Modes -> Glow: False, Particles: True, Mirror: False, Filter: 0\n",
      "Modes -> Glow: False, Particles: True, Mirror: False, Filter: 0\n",
      "Modes -> Glow: False, Particles: True, Mirror: False, Filter: 0\n",
      "Modes -> Glow: False, Particles: True, Mirror: False, Filter: 0\n",
      "Modes -> Glow: False, Particles: True, Mirror: False, Filter: 0\n",
      "Modes -> Glow: False, Particles: True, Mirror: False, Filter: 0\n",
      "Modes -> Glow: False, Particles: True, Mirror: False, Filter: 0\n",
      "Modes -> Glow: False, Particles: True, Mirror: False, Filter: 0\n",
      "Modes -> Glow: False, Particles: True, Mirror: False, Filter: 0\n",
      "Modes -> Glow: False, Particles: True, Mirror: False, Filter: 0\n",
      "Modes -> Glow: False, Particles: True, Mirror: False, Filter: 0\n",
      "Modes -> Glow: False, Particles: True, Mirror: False, Filter: 0\n",
      "Modes -> Glow: False, Particles: True, Mirror: False, Filter: 0\n",
      "Modes -> Glow: False, Particles: True, Mirror: False, Filter: 0\n",
      "Modes -> Glow: False, Particles: True, Mirror: False, Filter: 0\n",
      "Modes -> Glow: False, Particles: True, Mirror: False, Filter: 0\n",
      "Modes -> Glow: False, Particles: True, Mirror: False, Filter: 0\n",
      "Modes -> Glow: False, Particles: True, Mirror: False, Filter: 0\n",
      "Modes -> Glow: False, Particles: True, Mirror: False, Filter: 0\n",
      "Modes -> Glow: False, Particles: True, Mirror: False, Filter: 0\n",
      "Modes -> Glow: False, Particles: True, Mirror: False, Filter: 0\n",
      "Modes -> Glow: False, Particles: True, Mirror: False, Filter: 0\n",
      "Modes -> Glow: False, Particles: True, Mirror: False, Filter: 0\n",
      "Modes -> Glow: False, Particles: True, Mirror: False, Filter: 0\n",
      "Modes -> Glow: False, Particles: True, Mirror: False, Filter: 0\n",
      "Modes -> Glow: False, Particles: True, Mirror: False, Filter: 0\n",
      "Modes -> Glow: False, Particles: True, Mirror: False, Filter: 0\n",
      "Modes -> Glow: False, Particles: True, Mirror: False, Filter: 0\n",
      "Modes -> Glow: False, Particles: True, Mirror: False, Filter: 0\n",
      "Modes -> Glow: True, Particles: True, Mirror: False, Filter: 0\n",
      "Modes -> Glow: True, Particles: True, Mirror: False, Filter: 0\n",
      "Modes -> Glow: True, Particles: True, Mirror: False, Filter: 0\n",
      "Modes -> Glow: True, Particles: True, Mirror: False, Filter: 0\n",
      "Modes -> Glow: True, Particles: True, Mirror: False, Filter: 0\n",
      "Modes -> Glow: True, Particles: True, Mirror: False, Filter: 0\n",
      "Modes -> Glow: True, Particles: True, Mirror: False, Filter: 0\n",
      "Modes -> Glow: False, Particles: True, Mirror: False, Filter: 0\n",
      "Modes -> Glow: False, Particles: True, Mirror: False, Filter: 0\n",
      "Modes -> Glow: False, Particles: False, Mirror: False, Filter: 0\n",
      "Modes -> Glow: False, Particles: False, Mirror: False, Filter: 0\n",
      "Modes -> Glow: False, Particles: False, Mirror: False, Filter: 0\n",
      "Modes -> Glow: False, Particles: False, Mirror: False, Filter: 0\n",
      "Modes -> Glow: False, Particles: False, Mirror: False, Filter: 0\n",
      "Modes -> Glow: True, Particles: False, Mirror: False, Filter: 0\n",
      "Modes -> Glow: True, Particles: False, Mirror: False, Filter: 0\n",
      "Modes -> Glow: True, Particles: False, Mirror: False, Filter: 0\n",
      "Modes -> Glow: True, Particles: False, Mirror: False, Filter: 0\n",
      "Modes -> Glow: True, Particles: False, Mirror: False, Filter: 0\n",
      "Modes -> Glow: True, Particles: False, Mirror: False, Filter: 0\n",
      "Modes -> Glow: True, Particles: False, Mirror: False, Filter: 0\n",
      "Modes -> Glow: True, Particles: False, Mirror: False, Filter: 0\n",
      "Modes -> Glow: True, Particles: False, Mirror: False, Filter: 0\n",
      "Modes -> Glow: True, Particles: False, Mirror: False, Filter: 0\n",
      "Modes -> Glow: True, Particles: False, Mirror: False, Filter: 0\n",
      "Modes -> Glow: True, Particles: False, Mirror: False, Filter: 0\n",
      "Modes -> Glow: True, Particles: False, Mirror: False, Filter: 0\n",
      "Modes -> Glow: True, Particles: False, Mirror: False, Filter: 0\n",
      "Modes -> Glow: True, Particles: False, Mirror: False, Filter: 0\n",
      "Modes -> Glow: True, Particles: True, Mirror: False, Filter: 0\n",
      "Modes -> Glow: True, Particles: True, Mirror: False, Filter: 0\n",
      "Modes -> Glow: True, Particles: True, Mirror: False, Filter: 0\n",
      "Modes -> Glow: True, Particles: True, Mirror: False, Filter: 0\n",
      "Modes -> Glow: True, Particles: True, Mirror: False, Filter: 0\n",
      "Modes -> Glow: True, Particles: True, Mirror: False, Filter: 0\n",
      "Modes -> Glow: True, Particles: True, Mirror: False, Filter: 0\n",
      "Modes -> Glow: True, Particles: True, Mirror: False, Filter: 0\n",
      "Modes -> Glow: True, Particles: True, Mirror: False, Filter: 0\n",
      "Modes -> Glow: True, Particles: True, Mirror: False, Filter: 0\n",
      "Modes -> Glow: True, Particles: True, Mirror: False, Filter: 0\n",
      "Modes -> Glow: True, Particles: True, Mirror: False, Filter: 0\n",
      "Modes -> Glow: True, Particles: True, Mirror: False, Filter: 0\n",
      "Modes -> Glow: True, Particles: True, Mirror: False, Filter: 0\n",
      "Modes -> Glow: True, Particles: True, Mirror: False, Filter: 0\n",
      "Modes -> Glow: True, Particles: True, Mirror: False, Filter: 0\n",
      "Modes -> Glow: True, Particles: True, Mirror: False, Filter: 0\n",
      "Modes -> Glow: True, Particles: True, Mirror: False, Filter: 0\n",
      "Modes -> Glow: True, Particles: True, Mirror: False, Filter: 0\n",
      "Modes -> Glow: True, Particles: True, Mirror: False, Filter: 0\n",
      "Modes -> Glow: True, Particles: True, Mirror: False, Filter: 0\n",
      "Modes -> Glow: True, Particles: True, Mirror: False, Filter: 0\n",
      "Modes -> Glow: True, Particles: True, Mirror: False, Filter: 0\n",
      "Modes -> Glow: True, Particles: True, Mirror: False, Filter: 0\n",
      "Modes -> Glow: True, Particles: True, Mirror: False, Filter: 0\n",
      "Modes -> Glow: True, Particles: True, Mirror: False, Filter: 0\n",
      "Modes -> Glow: True, Particles: True, Mirror: False, Filter: 0\n",
      "Modes -> Glow: True, Particles: True, Mirror: False, Filter: 0\n",
      "Modes -> Glow: True, Particles: True, Mirror: False, Filter: 0\n",
      "Modes -> Glow: True, Particles: True, Mirror: False, Filter: 0\n",
      "Modes -> Glow: True, Particles: True, Mirror: False, Filter: 0\n",
      "Modes -> Glow: True, Particles: True, Mirror: False, Filter: 0\n",
      "Modes -> Glow: True, Particles: True, Mirror: False, Filter: 0\n",
      "Modes -> Glow: True, Particles: True, Mirror: False, Filter: 0\n",
      "Modes -> Glow: True, Particles: True, Mirror: False, Filter: 0\n",
      "Modes -> Glow: True, Particles: True, Mirror: False, Filter: 0\n",
      "Modes -> Glow: True, Particles: True, Mirror: False, Filter: 0\n",
      "Modes -> Glow: True, Particles: True, Mirror: False, Filter: 0\n",
      "Modes -> Glow: True, Particles: True, Mirror: False, Filter: 0\n",
      "Modes -> Glow: True, Particles: True, Mirror: False, Filter: 0\n",
      "Modes -> Glow: True, Particles: True, Mirror: False, Filter: 0\n",
      "Modes -> Glow: True, Particles: True, Mirror: False, Filter: 0\n",
      "Modes -> Glow: True, Particles: True, Mirror: False, Filter: 0\n",
      "Modes -> Glow: True, Particles: True, Mirror: False, Filter: 0\n",
      "Modes -> Glow: True, Particles: True, Mirror: False, Filter: 0\n",
      "Modes -> Glow: True, Particles: True, Mirror: False, Filter: 0\n",
      "Modes -> Glow: True, Particles: True, Mirror: False, Filter: 0\n",
      "Modes -> Glow: True, Particles: True, Mirror: False, Filter: 0\n",
      "Modes -> Glow: True, Particles: True, Mirror: False, Filter: 0\n",
      "Modes -> Glow: True, Particles: True, Mirror: False, Filter: 0\n",
      "Modes -> Glow: True, Particles: True, Mirror: False, Filter: 0\n",
      "Modes -> Glow: True, Particles: True, Mirror: False, Filter: 0\n",
      "Modes -> Glow: True, Particles: True, Mirror: False, Filter: 0\n",
      "Modes -> Glow: True, Particles: True, Mirror: False, Filter: 0\n",
      "Modes -> Glow: True, Particles: True, Mirror: False, Filter: 0\n",
      "Modes -> Glow: True, Particles: True, Mirror: False, Filter: 0\n",
      "Modes -> Glow: True, Particles: True, Mirror: False, Filter: 0\n",
      "Modes -> Glow: True, Particles: True, Mirror: False, Filter: 0\n",
      "Modes -> Glow: True, Particles: True, Mirror: False, Filter: 0\n",
      "Modes -> Glow: True, Particles: True, Mirror: False, Filter: 0\n",
      "Modes -> Glow: True, Particles: True, Mirror: False, Filter: 0\n",
      "Modes -> Glow: True, Particles: True, Mirror: False, Filter: 0\n",
      "Modes -> Glow: True, Particles: True, Mirror: False, Filter: 0\n",
      "Modes -> Glow: True, Particles: True, Mirror: False, Filter: 0\n",
      "Modes -> Glow: True, Particles: True, Mirror: False, Filter: 0\n",
      "Modes -> Glow: True, Particles: True, Mirror: False, Filter: 0\n",
      "Modes -> Glow: True, Particles: True, Mirror: False, Filter: 0\n",
      "Modes -> Glow: True, Particles: True, Mirror: False, Filter: 0\n",
      "Modes -> Glow: True, Particles: True, Mirror: False, Filter: 0\n",
      "Modes -> Glow: True, Particles: True, Mirror: False, Filter: 0\n",
      "Modes -> Glow: True, Particles: True, Mirror: False, Filter: 0\n",
      "Modes -> Glow: True, Particles: True, Mirror: False, Filter: 0\n",
      "Modes -> Glow: True, Particles: True, Mirror: False, Filter: 0\n",
      "Modes -> Glow: True, Particles: True, Mirror: False, Filter: 0\n",
      "Modes -> Glow: True, Particles: True, Mirror: False, Filter: 0\n",
      "Modes -> Glow: True, Particles: True, Mirror: False, Filter: 0\n",
      "Modes -> Glow: True, Particles: True, Mirror: False, Filter: 0\n",
      "Modes -> Glow: True, Particles: True, Mirror: False, Filter: 0\n",
      "Modes -> Glow: True, Particles: True, Mirror: False, Filter: 0\n",
      "Modes -> Glow: True, Particles: True, Mirror: False, Filter: 0\n",
      "Modes -> Glow: True, Particles: True, Mirror: False, Filter: 0\n",
      "Modes -> Glow: True, Particles: True, Mirror: False, Filter: 0\n",
      "Modes -> Glow: True, Particles: True, Mirror: False, Filter: 0\n",
      "Modes -> Glow: True, Particles: True, Mirror: False, Filter: 0\n",
      "Modes -> Glow: True, Particles: True, Mirror: False, Filter: 0\n",
      "Modes -> Glow: True, Particles: True, Mirror: False, Filter: 0\n",
      "Modes -> Glow: True, Particles: True, Mirror: False, Filter: 0\n",
      "Modes -> Glow: True, Particles: True, Mirror: False, Filter: 0\n",
      "Modes -> Glow: True, Particles: True, Mirror: False, Filter: 0\n",
      "Modes -> Glow: True, Particles: True, Mirror: False, Filter: 0\n",
      "Modes -> Glow: True, Particles: True, Mirror: False, Filter: 0\n",
      "Modes -> Glow: True, Particles: True, Mirror: False, Filter: 0\n",
      "Modes -> Glow: True, Particles: True, Mirror: False, Filter: 0\n",
      "Modes -> Glow: True, Particles: True, Mirror: False, Filter: 0\n",
      "Modes -> Glow: True, Particles: True, Mirror: False, Filter: 0\n",
      "Modes -> Glow: True, Particles: True, Mirror: False, Filter: 0\n",
      "Modes -> Glow: True, Particles: True, Mirror: False, Filter: 0\n",
      "Modes -> Glow: True, Particles: True, Mirror: False, Filter: 0\n",
      "Modes -> Glow: True, Particles: True, Mirror: False, Filter: 0\n",
      "Modes -> Glow: True, Particles: True, Mirror: False, Filter: 0\n",
      "Modes -> Glow: True, Particles: True, Mirror: False, Filter: 0\n",
      "Modes -> Glow: True, Particles: True, Mirror: False, Filter: 0\n",
      "Modes -> Glow: True, Particles: True, Mirror: False, Filter: 0\n",
      "Modes -> Glow: True, Particles: True, Mirror: False, Filter: 0\n",
      "Modes -> Glow: True, Particles: True, Mirror: False, Filter: 0\n",
      "Modes -> Glow: True, Particles: True, Mirror: False, Filter: 0\n",
      "Modes -> Glow: True, Particles: True, Mirror: False, Filter: 0\n",
      "Modes -> Glow: True, Particles: True, Mirror: False, Filter: 0\n",
      "Modes -> Glow: True, Particles: True, Mirror: False, Filter: 0\n",
      "Modes -> Glow: True, Particles: True, Mirror: False, Filter: 0\n",
      "Modes -> Glow: True, Particles: True, Mirror: False, Filter: 0\n",
      "Modes -> Glow: True, Particles: True, Mirror: False, Filter: 0\n",
      "Modes -> Glow: True, Particles: True, Mirror: False, Filter: 0\n",
      "Modes -> Glow: True, Particles: True, Mirror: False, Filter: 0\n",
      "Modes -> Glow: True, Particles: True, Mirror: False, Filter: 0\n",
      "Modes -> Glow: True, Particles: True, Mirror: False, Filter: 0\n",
      "Modes -> Glow: True, Particles: True, Mirror: False, Filter: 0\n",
      "Modes -> Glow: True, Particles: True, Mirror: False, Filter: 0\n",
      "Modes -> Glow: True, Particles: True, Mirror: False, Filter: 0\n",
      "Modes -> Glow: True, Particles: True, Mirror: False, Filter: 0\n",
      "Modes -> Glow: True, Particles: True, Mirror: False, Filter: 0\n",
      "Modes -> Glow: True, Particles: True, Mirror: False, Filter: 0\n",
      "Modes -> Glow: True, Particles: True, Mirror: False, Filter: 0\n",
      "Modes -> Glow: True, Particles: True, Mirror: False, Filter: 0\n",
      "Modes -> Glow: True, Particles: True, Mirror: False, Filter: 0\n",
      "Modes -> Glow: True, Particles: True, Mirror: False, Filter: 0\n",
      "Modes -> Glow: True, Particles: True, Mirror: False, Filter: 0\n",
      "Modes -> Glow: True, Particles: True, Mirror: False, Filter: 0\n",
      "Modes -> Glow: True, Particles: True, Mirror: False, Filter: 0\n",
      "Modes -> Glow: True, Particles: True, Mirror: False, Filter: 0\n",
      "Modes -> Glow: True, Particles: True, Mirror: False, Filter: 0\n",
      "Modes -> Glow: True, Particles: True, Mirror: False, Filter: 0\n",
      "Modes -> Glow: True, Particles: True, Mirror: False, Filter: 0\n",
      "Modes -> Glow: True, Particles: True, Mirror: False, Filter: 0\n",
      "Modes -> Glow: True, Particles: True, Mirror: False, Filter: 0\n",
      "Modes -> Glow: True, Particles: True, Mirror: False, Filter: 0\n",
      "Modes -> Glow: True, Particles: True, Mirror: False, Filter: 0\n",
      "Modes -> Glow: True, Particles: True, Mirror: False, Filter: 0\n",
      "Modes -> Glow: True, Particles: True, Mirror: False, Filter: 0\n",
      "Modes -> Glow: True, Particles: True, Mirror: False, Filter: 0\n",
      "Modes -> Glow: True, Particles: True, Mirror: False, Filter: 0\n",
      "Modes -> Glow: True, Particles: True, Mirror: False, Filter: 0\n",
      "Modes -> Glow: True, Particles: True, Mirror: False, Filter: 0\n",
      "Modes -> Glow: True, Particles: True, Mirror: False, Filter: 0\n",
      "Modes -> Glow: True, Particles: True, Mirror: False, Filter: 0\n",
      "Modes -> Glow: True, Particles: True, Mirror: False, Filter: 0\n",
      "Modes -> Glow: True, Particles: True, Mirror: False, Filter: 0\n",
      "Modes -> Glow: True, Particles: True, Mirror: False, Filter: 0\n",
      "Modes -> Glow: True, Particles: True, Mirror: False, Filter: 0\n",
      "Modes -> Glow: True, Particles: True, Mirror: False, Filter: 0\n",
      "Modes -> Glow: True, Particles: True, Mirror: False, Filter: 0\n",
      "Modes -> Glow: True, Particles: True, Mirror: False, Filter: 0\n",
      "Modes -> Glow: True, Particles: True, Mirror: False, Filter: 0\n",
      "Modes -> Glow: True, Particles: True, Mirror: False, Filter: 0\n",
      "Modes -> Glow: True, Particles: True, Mirror: False, Filter: 0\n",
      "Modes -> Glow: True, Particles: True, Mirror: False, Filter: 0\n",
      "Modes -> Glow: True, Particles: True, Mirror: False, Filter: 0\n",
      "Modes -> Glow: True, Particles: True, Mirror: False, Filter: 0\n",
      "Modes -> Glow: True, Particles: True, Mirror: False, Filter: 0\n",
      "Modes -> Glow: True, Particles: True, Mirror: False, Filter: 0\n",
      "Modes -> Glow: True, Particles: True, Mirror: False, Filter: 0\n",
      "Modes -> Glow: True, Particles: True, Mirror: False, Filter: 0\n",
      "Modes -> Glow: True, Particles: True, Mirror: False, Filter: 0\n",
      "Modes -> Glow: True, Particles: True, Mirror: False, Filter: 0\n",
      "Modes -> Glow: True, Particles: True, Mirror: False, Filter: 0\n",
      "Modes -> Glow: True, Particles: True, Mirror: False, Filter: 0\n",
      "Modes -> Glow: True, Particles: True, Mirror: False, Filter: 0\n",
      "Modes -> Glow: True, Particles: True, Mirror: False, Filter: 0\n",
      "Modes -> Glow: True, Particles: True, Mirror: False, Filter: 0\n",
      "Modes -> Glow: True, Particles: True, Mirror: False, Filter: 0\n",
      "Modes -> Glow: True, Particles: True, Mirror: False, Filter: 0\n",
      "Modes -> Glow: True, Particles: True, Mirror: False, Filter: 0\n",
      "Modes -> Glow: True, Particles: True, Mirror: False, Filter: 0\n",
      "Modes -> Glow: True, Particles: True, Mirror: False, Filter: 0\n",
      "Modes -> Glow: True, Particles: True, Mirror: False, Filter: 0\n",
      "Modes -> Glow: True, Particles: True, Mirror: False, Filter: 0\n",
      "Modes -> Glow: True, Particles: True, Mirror: False, Filter: 0\n",
      "Modes -> Glow: True, Particles: True, Mirror: False, Filter: 0\n",
      "Modes -> Glow: True, Particles: True, Mirror: False, Filter: 0\n",
      "Modes -> Glow: True, Particles: True, Mirror: False, Filter: 0\n",
      "Modes -> Glow: True, Particles: True, Mirror: False, Filter: 0\n",
      "Modes -> Glow: True, Particles: True, Mirror: False, Filter: 0\n",
      "Modes -> Glow: False, Particles: True, Mirror: False, Filter: 0\n",
      "Modes -> Glow: False, Particles: True, Mirror: False, Filter: 0\n",
      "Modes -> Glow: False, Particles: True, Mirror: False, Filter: 0\n",
      "Modes -> Glow: False, Particles: True, Mirror: False, Filter: 0\n",
      "Modes -> Glow: False, Particles: False, Mirror: False, Filter: 0\n",
      "Modes -> Glow: False, Particles: False, Mirror: False, Filter: 0\n",
      "Modes -> Glow: False, Particles: False, Mirror: False, Filter: 0\n",
      "Modes -> Glow: False, Particles: False, Mirror: False, Filter: 0\n",
      "Modes -> Glow: False, Particles: False, Mirror: False, Filter: 0\n",
      "Modes -> Glow: False, Particles: False, Mirror: False, Filter: 0\n",
      "Modes -> Glow: False, Particles: False, Mirror: False, Filter: 0\n",
      "Modes -> Glow: False, Particles: False, Mirror: False, Filter: 0\n",
      "Modes -> Glow: False, Particles: False, Mirror: False, Filter: 0\n",
      "Modes -> Glow: False, Particles: False, Mirror: False, Filter: 0\n",
      "Modes -> Glow: False, Particles: False, Mirror: False, Filter: 0\n",
      "Modes -> Glow: False, Particles: False, Mirror: False, Filter: 0\n",
      "Modes -> Glow: False, Particles: False, Mirror: False, Filter: 0\n",
      "Modes -> Glow: False, Particles: False, Mirror: False, Filter: 0\n",
      "Modes -> Glow: False, Particles: False, Mirror: False, Filter: 0\n",
      "Modes -> Glow: False, Particles: False, Mirror: False, Filter: 0\n",
      "Modes -> Glow: False, Particles: False, Mirror: False, Filter: 0\n",
      "Modes -> Glow: False, Particles: False, Mirror: False, Filter: 0\n",
      "Modes -> Glow: False, Particles: False, Mirror: False, Filter: 0\n",
      "Modes -> Glow: False, Particles: False, Mirror: False, Filter: 0\n",
      "Modes -> Glow: False, Particles: False, Mirror: False, Filter: 0\n",
      "Modes -> Glow: False, Particles: False, Mirror: False, Filter: 0\n",
      "Modes -> Glow: False, Particles: False, Mirror: False, Filter: 0\n"
     ]
    }
   ],
   "source": [
    "import cv2\n",
    "import time\n",
    "import numpy as np\n",
    "import torch\n",
    "import mediapipe as mp\n",
    "import threading\n",
    "\n",
    "# 🚀 --- Load YOLOv5 Model for Object Detection ---\n",
    "# We are using the pre-trained 'yolov5s' model from Ultralytics\n",
    "# YOLOv5 (You Only Look Once) is a popular real-time object detection model.\n",
    "model = torch.hub.load('ultralytics/yolov5', 'yolov5s')\n",
    "\n",
    "# 🎯 --- Initialize Mediapipe for Hand & Pose Detection ---\n",
    "# Mediapipe is used to perform hand and pose detection.\n",
    "# Hands: Detects and tracks hand landmarks.\n",
    "# Pose: Detects full-body pose landmarks.\n",
    "mp_hands = mp.solutions.hands  \n",
    "mp_pose = mp.solutions.pose  \n",
    "mp_draw = mp.solutions.drawing_utils  # Drawing utility to visualize landmarks\n",
    "\n",
    "# Configure the hand detection model\n",
    "hands = mp_hands.Hands(min_detection_confidence=0.5, min_tracking_confidence=0.5)\n",
    "# Configure the pose detection model\n",
    "pose = mp_pose.Pose()\n",
    "\n",
    "# 📷 --- Initialize Webcam Capture ---\n",
    "cap = cv2.VideoCapture(0)  # Open the default webcam (index 0)\n",
    "\n",
    "# ⏱️ --- FPS Control to Avoid Overload ---\n",
    "FPS_LIMIT = 12  # Set the maximum FPS to avoid overloading the CPU\n",
    "last_time = time.time()  # Track the last processed frame time for FPS regulation\n",
    "\n",
    "# 🔥 --- Feature Toggles ---\n",
    "ai_glow = False  # Toggle AI glow effect (press 'b' to toggle)\n",
    "particles_enabled = False  # Toggle particle effect (press 'v' to toggle)\n",
    "split_screen = False  # Toggle mirror effect (press 'c' to toggle)\n",
    "\n",
    "# 🎨 --- Image Filters Dictionary ---\n",
    "# A dictionary of different filters you can apply to the webcam feed\n",
    "def apply_filter(frame, mode):\n",
    "    \"\"\"Applies different visual effects based on selected mode.\"\"\"\n",
    "    filters = {\n",
    "        1: lambda img: cv2.cvtColor(img, cv2.COLOR_BGR2GRAY),  # Grayscale 🌑\n",
    "        2: lambda img: cv2.Canny(img, 50, 150),  # Edge Detection ✏️\n",
    "        3: lambda img: cv2.GaussianBlur(img, (15, 15), 0),  # Blur 🌫️\n",
    "        4: lambda img: cv2.bitwise_not(img),  # Inverted Colors 🔄\n",
    "        5: lambda img: cv2.applyColorMap(img, cv2.COLORMAP_JET),  # Heatmap 🔥\n",
    "        6: lambda img: cv2.applyColorMap(img, cv2.COLORMAP_HOT),  # Thermal Effect ♨️\n",
    "        7: lambda img: cv2.applyColorMap(img, cv2.COLORMAP_OCEAN),  # Ocean Effect 🌊\n",
    "        8: lambda img: cv2.stylization(img, sigma_s=60, sigma_r=0.2),  # Cartoon Effect 🎭\n",
    "        9: lambda img: cv2.detailEnhance(img, sigma_s=5, sigma_r=0.1),  # Detail Enhancement 🔍\n",
    "    }\n",
    "    return filters.get(mode, lambda x: x)(frame)  # Default: No filter\n",
    "\n",
    "# 💡 --- AI Glow Effect ---\n",
    "def apply_ai_glow(frame):\n",
    "    \"\"\"Creates a futuristic AI glow effect using edge detection & color mapping.\"\"\"\n",
    "    small = cv2.resize(frame, (320, 240))  # Reduce resolution for faster processing\n",
    "    blurred = cv2.GaussianBlur(small, (15, 15), 0)  # Smooth effect\n",
    "    edges = cv2.Canny(small, 20, 80)  # Extract edges from the image\n",
    "    edges_colored = cv2.applyColorMap(edges, cv2.COLORMAP_WINTER)  # Colorize edges for visual effect\n",
    "    return cv2.addWeighted(cv2.resize(blurred, (frame.shape[1], frame.shape[0])), 0.7,\n",
    "                           cv2.resize(edges_colored, (frame.shape[1], frame.shape[0])), 0.3, 0)\n",
    "\n",
    "# 🌌 --- Particle System (Dynamic) ---\n",
    "class Particle:\n",
    "    \"\"\"Represents a particle that moves dynamically and reacts to hand gestures.\"\"\"\n",
    "    def __init__(self, width, height):\n",
    "        self.x = np.random.randint(0, width)  # Random initial X position\n",
    "        self.y = np.random.randint(0, height)  # Random initial Y position\n",
    "        self.vx = np.random.uniform(-1.5, 1.5)  # Random X velocity\n",
    "        self.vy = np.random.uniform(-1.5, 1.5)  # Random Y velocity\n",
    "        self.size = np.random.randint(3, 6)  # Particle size\n",
    "        self.color = (0, 255, 0)  # Green particles\n",
    "\n",
    "    def update(self, target_x=None, target_y=None):\n",
    "        \"\"\"Moves towards a target position (index finger tip) with a smooth effect.\"\"\"\n",
    "        if target_x and target_y:\n",
    "            dx, dy = target_x - self.x, target_y - self.y\n",
    "            dist = max(np.sqrt(dx**2 + dy**2), 1)  # Avoid division by zero\n",
    "            self.vx += (dx / dist) * 0.6  # Attraction force\n",
    "            self.vy += (dy / dist) * 0.6\n",
    "\n",
    "        # Apply movement with limits\n",
    "        self.x = np.clip(self.x + self.vx, 0, 640)\n",
    "        self.y = np.clip(self.y + self.vy, 0, 480)\n",
    "\n",
    "    def draw(self, frame):\n",
    "        \"\"\"Draws the particle on the frame.\"\"\"\n",
    "        cv2.circle(frame, (int(self.x), int(self.y)), self.size, self.color, -1)\n",
    "\n",
    "particles = [Particle(640, 480) for _ in range(100)]  # Create 100 particles\n",
    "\n",
    "# 🚀 --- YOLO Object Detection (Runs in Parallel) ---\n",
    "yolo_results = None\n",
    "def yolo_thread(frame):\n",
    "    \"\"\"Runs YOLO object detection in a separate thread for performance optimization.\"\"\"\n",
    "    global yolo_results\n",
    "    yolo_results = model(frame)\n",
    "\n",
    "# 🔄 --- Main Loop ---\n",
    "filter_mode = 0  # Default filter mode\n",
    "\n",
    "while True:\n",
    "    ret, frame = cap.read()\n",
    "    if not ret:\n",
    "        break\n",
    "\n",
    "    # 🕒 --- FPS Regulation (Prevents Overload) ---\n",
    "    if (time.time() - last_time) < 1 / FPS_LIMIT:\n",
    "        continue\n",
    "    last_time = time.time()\n",
    "\n",
    "    # 🎭 --- Convert Frame for MediaPipe Processing ---\n",
    "    rgb_frame = cv2.cvtColor(frame, cv2.COLOR_BGR2RGB)\n",
    "\n",
    "    # 📦 --- Start YOLO in a Separate Thread ---\n",
    "    yolo_task = threading.Thread(target=yolo_thread, args=(frame,))\n",
    "    yolo_task.start()\n",
    "\n",
    "    # 🖐 --- Hand Tracking ---\n",
    "    hand_x, hand_y = None, None\n",
    "    hand_results = hands.process(rgb_frame)\n",
    "    if hand_results.multi_hand_landmarks:\n",
    "        for hand_landmarks in hand_results.multi_hand_landmarks:\n",
    "            mp_draw.draw_landmarks(frame, hand_landmarks, mp_hands.HAND_CONNECTIONS)\n",
    "            hand_x = int(hand_landmarks.landmark[8].x * frame.shape[1])  # Index finger tip X\n",
    "            hand_y = int(hand_landmarks.landmark[8].y * frame.shape[0])  # Index finger tip Y\n",
    "\n",
    "    # 🏃 --- Pose Detection (Full-Body Tracking) ---\n",
    "    pose_results = pose.process(rgb_frame)\n",
    "    if pose_results.pose_landmarks:\n",
    "        mp_draw.draw_landmarks(frame, pose_results.pose_landmarks, mp_pose.POSE_CONNECTIONS,\n",
    "                               mp_draw.DrawingSpec(color=(0, 255, 0), thickness=2, circle_radius=3))\n",
    "\n",
    "    # 📌 --- YOLO Object Detection Results ---\n",
    "    if yolo_results:\n",
    "        for det in yolo_results.xyxy[0]:\n",
    "            x1, y1, x2, y2, conf, cls = det.tolist()\n",
    "            if conf > 0.5:  # Only detect objects with confidence > 50%\n",
    "                label = f\"{model.names[int(cls)]} {conf:.2f}\"\n",
    "                cv2.rectangle(frame, (int(x1), int(y1)), (int(x2), int(y2)), (0, 255, 0), 2)\n",
    "                cv2.putText(frame, label, (int(x1), int(y1) - 10), cv2.FONT_HERSHEY_SIMPLEX, 0.5, (0, 255, 0), 2)\n",
    "\n",
    "    # --- Apply AI Glow Effect ---\n",
    "    if ai_glow:\n",
    "        frame = apply_ai_glow(frame)\n",
    "\n",
    "    # --- Apply Selected Filter ---\n",
    "    if not ai_glow:\n",
    "        frame = apply_filter(frame, filter_mode)\n",
    "\n",
    "    # --- Apply Particles ---\n",
    "    if particles_enabled:\n",
    "        for particle in particles:\n",
    "            particle.update(hand_x, hand_y)\n",
    "            particle.draw(frame)\n",
    "\n",
    "    # 🪞 --- Apply Mirror Reflection Effect (Split Screen) ---\n",
    "    if split_screen:\n",
    "        flipped = cv2.flip(frame, 1)  # Mirror Effect\n",
    "        frame[:, frame.shape[1] // 2:] = flipped[:, frame.shape[1] // 2:]\n",
    "\n",
    "    # 🖥 --- Display Frame ---\n",
    "    cv2.imshow(\"AI Gesture Filters & Object Detection & Pose Detection\", frame)\n",
    "\n",
    "    # --- Debugging Output ---\n",
    "    print(f\"Modes -> Glow: {ai_glow}, Particles: {particles_enabled}, Mirror: {split_screen}, Filter: {filter_mode}\")\n",
    "\n",
    "    # 🎮 --- Keyboard Controls ---\n",
    "    key = cv2.waitKey(1) & 0xFF\n",
    "    if key == 27:  # ESC to exit\n",
    "        break\n",
    "    elif key == ord(\"b\"):  # Toggle AI Glow\n",
    "        ai_glow = not ai_glow\n",
    "    elif key == ord(\"v\"):  # Toggle Particles\n",
    "        particles_enabled = not particles_enabled\n",
    "        particles = [Particle(640, 480) for _ in range(100)]\n",
    "    elif key == ord(\"c\"):  # Toggle Mirror Effect\n",
    "        split_screen = not split_screen\n",
    "    elif key in range(48, 58):  # Keys 0-9 for Filters\n",
    "        filter_mode = key - 48\n",
    "\n",
    "# 🧹 --- Cleanup ---\n",
    "cap.release()  # Release the webcam capture\n",
    "cv2.destroyAllWindows()  # Close all OpenCV windows"
   ]
  },
  {
   "cell_type": "code",
   "execution_count": null,
   "metadata": {},
   "outputs": [],
   "source": []
  },
  {
   "cell_type": "code",
   "execution_count": null,
   "metadata": {},
   "outputs": [],
   "source": []
  },
  {
   "cell_type": "code",
   "execution_count": null,
   "metadata": {},
   "outputs": [],
   "source": []
  },
  {
   "cell_type": "markdown",
   "metadata": {},
   "source": [
    "<div style=\"\n",
    "    background: linear-gradient(to right, #ff5733, #c70039);\n",
    "    padding: 15px;\n",
    "    border-radius: 20px;\n",
    "    text-align: center;\n",
    "    font-size: 36px;\n",
    "    font-family: 'Orbitron', sans-serif;\n",
    "    color: white;\n",
    "    text-shadow: 0px 0px 10px #ff9966, 0px 0px 20px #ff9966;\n",
    "    box-shadow: 0px 0px 15px rgba(255, 153, 102, 0.6);\n",
    "    display: flex;\n",
    "    align-items: center;\n",
    "    justify-content: center;\n",
    "    gap: 10px;\">\n",
    "    ✅ AI Recognition Completed! What's Next? 🚀\n",
    "</div>\n"
   ]
  },
  {
   "cell_type": "markdown",
   "metadata": {},
   "source": [
    "<div style=\"\n",
    "    background: linear-gradient(to right, #f39c12, #e67e22);\n",
    "    padding: 15px;\n",
    "    border-radius: 20px;\n",
    "    text-align: center;\n",
    "    font-size: 36px;\n",
    "    font-family: 'Orbitron', sans-serif;\n",
    "    color: white;\n",
    "    text-shadow: 0px 0px 10px #ffcc00, 0px 0px 20px #ffcc00;\n",
    "    box-shadow: 0px 0px 15px rgba(255, 204, 0, 0.6);\n",
    "    display: flex;\n",
    "    align-items: center;\n",
    "    justify-content: center;\n",
    "    gap: 10px;\">\n",
    "    📸 Save Your AI-Enhanced Screenshots Now! 📂\n",
    "</div>"
   ]
  },
  {
   "cell_type": "markdown",
   "metadata": {},
   "source": [
    "<div style=\"\n",
    "    background: linear-gradient(to right, #16a085, #1abc9c);\n",
    "    padding: 15px;\n",
    "    border-radius: 20px;\n",
    "    text-align: center;\n",
    "    font-size: 36px;\n",
    "    font-family: 'Orbitron', sans-serif;\n",
    "    color: white;\n",
    "    text-shadow: 0px 0px 10px #00ffcc, 0px 0px 20px #00ffcc;\n",
    "    box-shadow: 0px 0px 15px rgba(0, 255, 204, 0.6);\n",
    "    display: flex;\n",
    "    align-items: center;\n",
    "    justify-content: center;\n",
    "    gap: 10px;\">\n",
    "    🔥 Stay Tuned! More AI Features Coming Soon! ⚡\n",
    "</div>"
   ]
  }
 ],
 "metadata": {
  "kernelspec": {
   "display_name": "Python [conda env:base] *",
   "language": "python",
   "name": "conda-base-py"
  },
  "language_info": {
   "codemirror_mode": {
    "name": "ipython",
    "version": 3
   },
   "file_extension": ".py",
   "mimetype": "text/x-python",
   "name": "python",
   "nbconvert_exporter": "python",
   "pygments_lexer": "ipython3",
   "version": "3.12.3"
  },
  "widgets": {
   "state": {},
   "version": "1.1.2"
  }
 },
 "nbformat": 4,
 "nbformat_minor": 4
}
