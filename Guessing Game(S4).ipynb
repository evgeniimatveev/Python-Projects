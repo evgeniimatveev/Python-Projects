{
 "cells": [
  {
   "cell_type": "markdown",
   "metadata": {},
   "source": [
    "<div style=\"\n",
    "  background: linear-gradient(to right, #00bcd4, #4caf50);\n",
    "  padding: 15px;\n",
    "  border-radius: 20px;\n",
    "  text-align: center;\n",
    "  font-size: 36px;\n",
    "  font-family: 'Press Start 2P', cursive;\n",
    "  color: white;\n",
    "  text-shadow: 0px 0px 10px #00ffcc, 0px 0px 20px #4caf50;\n",
    "  box-shadow: 0px 0px 15px rgba(0, 255, 204, 0.6);\n",
    "  display: flex;\n",
    "  align-items: center;\n",
    "  justify-content: center;\n",
    "  gap: 10px;\n",
    "  transition: transform 0.3s ease-in-out;\n",
    "\">\n",
    "🎮🚀 The Ultimate AI Battle Begins! Are you ready? 🚀🎮\n",
    "</div>"
   ]
  },
  {
   "cell_type": "markdown",
   "metadata": {},
   "source": [
    "<div style=\"\n",
    "  background: linear-gradient(to right, #ff9800, #ff5722);\n",
    "  padding: 15px;\n",
    "  border-radius: 20px;\n",
    "  text-align: center;\n",
    "  font-size: 36px;\n",
    "  font-family: 'Press Start 2P', cursive;\n",
    "  color: white;\n",
    "  text-shadow: 0px 0px 10px #ffcc80, 0px 0px 20px #ff5722;\n",
    "  box-shadow: 0px 0px 15px rgba(255, 152, 0, 0.6);\n",
    "  display: flex;\n",
    "  align-items: center;\n",
    "  justify-content: center;\n",
    "  gap: 10px;\n",
    "  transition: opacity 0.5s ease-in-out;\n",
    "\">\n",
    "🔥🎯 Only the Strongest Survive! Show your skill! 🎯🔥\n",
    "</div>"
   ]
  },
  {
   "cell_type": "markdown",
   "metadata": {},
   "source": [
    "<div style=\"\n",
    "  background: linear-gradient(to right, #673ab7, #9c27b0);\n",
    "  padding: 15px;\n",
    "  border-radius: 20px;\n",
    "  text-align: center;\n",
    "  font-size: 36px;\n",
    "  font-family: 'Press Start 2P', cursive;\n",
    "  color: white;\n",
    "  text-shadow: 0px 0px 10px #d1c4e9, 0px 0px 20px #9c27b0;\n",
    "  box-shadow: 0px 0px 15px rgba(103, 58, 183, 0.6);\n",
    "  display: flex;\n",
    "  align-items: center;\n",
    "  justify-content: center;\n",
    "  gap: 10px;\n",
    "\">\n",
    "🧠🎲 Outsmart AI or Be Defeated! Choose wisely! 🎲🧠\n",
    "</div>"
   ]
  },
  {
   "cell_type": "code",
   "execution_count": null,
   "metadata": {},
   "outputs": [],
   "source": []
  },
  {
   "cell_type": "code",
   "execution_count": null,
   "metadata": {},
   "outputs": [],
   "source": []
  },
  {
   "cell_type": "code",
   "execution_count": null,
   "metadata": {},
   "outputs": [],
   "source": []
  },
  {
   "cell_type": "code",
   "execution_count": 3,
   "metadata": {},
   "outputs": [
    {
     "name": "stdout",
     "output_type": "stream",
     "text": [
      "\n",
      "🎯 Welcome to the 'Guess the Number' game! 🎯\n",
      "\n",
      "Select difficulty level:\n",
      "1️⃣ Easy (1-10)\n",
      "2️⃣ Medium (1-49)\n",
      "3️⃣ Hard (1-100)\n"
     ]
    },
    {
     "name": "stdin",
     "output_type": "stream",
     "text": [
      "Enter 1, 2, or 3:  3\n"
     ]
    },
    {
     "name": "stdout",
     "output_type": "stream",
     "text": [
      "\n",
      "🎮 You chose 🔥 Hard (1-100). Let's begin!\n",
      "\n"
     ]
    },
    {
     "name": "stdin",
     "output_type": "stream",
     "text": [
      "💡 Enter your guess (1-100) or type 'exit' to quit:  50\n"
     ]
    },
    {
     "name": "stdout",
     "output_type": "stream",
     "text": [
      "🤔 Checking your guess...\n",
      "🎯 Think of a number between 50 and 80!\n",
      "\n"
     ]
    },
    {
     "name": "stdin",
     "output_type": "stream",
     "text": [
      "💡 Enter your guess (1-100) or type 'exit' to quit:  78\n"
     ]
    },
    {
     "name": "stdout",
     "output_type": "stream",
     "text": [
      "🤔 Checking your guess...\n",
      "🎯 Super close! You're within 3 numbers!\n",
      "\n"
     ]
    },
    {
     "name": "stdin",
     "output_type": "stream",
     "text": [
      "💡 Enter your guess (1-100) or type 'exit' to quit:  75\n"
     ]
    },
    {
     "name": "stdout",
     "output_type": "stream",
     "text": [
      "🤔 Checking your guess...\n",
      "🔢 Based on your last guesses, try focusing on numbers ending in 5!\n",
      "\n"
     ]
    },
    {
     "name": "stdin",
     "output_type": "stream",
     "text": [
      "💡 Enter your guess (1-100) or type 'exit' to quit:  55\n"
     ]
    },
    {
     "name": "stdout",
     "output_type": "stream",
     "text": [
      "🤔 Checking your guess...\n",
      "🎯 Think of a number between 55 and 80!\n",
      "\n"
     ]
    },
    {
     "name": "stdin",
     "output_type": "stream",
     "text": [
      "💡 Enter your guess (1-100) or type 'exit' to quit:  95\n"
     ]
    },
    {
     "name": "stdout",
     "output_type": "stream",
     "text": [
      "🤔 Checking your guess...\n",
      "🧠 You're very close, within 15 numbers of the answer!\n",
      "\n"
     ]
    },
    {
     "name": "stdin",
     "output_type": "stream",
     "text": [
      "💡 Enter your guess (1-100) or type 'exit' to quit:  80\n"
     ]
    },
    {
     "name": "stdout",
     "output_type": "stream",
     "text": [
      "🤔 Checking your guess...\n",
      "\n",
      "🥳 GET READY FOR THE GRAND CELEBRATION! 🎊\n",
      "⏳ 1....\n",
      "🎉 CONGRATULATIONS! 🎉🎊\n",
      "🔥 You guessed 80 in 6 attempts and 232.62 seconds! ⏳\n",
      "🏆 🔥 Incredible! You nailed it! 🎯 🏆\n",
      "\n",
      "🎁 YOUR VICTORY PRIZE: 🎁\n",
      "==================================================\n",
      "\n",
      "      /\\_/\\\n",
      "     ( -.- )   🎉 You did it! 🎉\n",
      "      (  >💖<  )\n",
      "\n",
      "      🎊🎉🎊🎉🎊🎉🎊🎉🎊🎉🎊🎉\n",
      "      🎉✨ YOU ARE A WINNER! ✨🎉\n",
      "      🎊🎉🎊🎉🎊🎉🎊🎉🎊🎉🎊🎉\n",
      "    \n",
      "==================================================\n"
     ]
    }
   ],
   "source": [
    "import random  # 🎲 Import for random number generation\n",
    "import time    # ⏳ Import for delays & countdown effects\n",
    "import sys     # 🎨 Import for terminal color support\n",
    "\n",
    "# 🎨 Function to apply colors to text (if the terminal supports it)\n",
    "def colored(text, color_code):\n",
    "    return f\"\\033[{color_code}m{text}\\033[0m\" if sys.stdout.isatty() else text\n",
    "\n",
    "# 🔥 Victory messages for winners!\n",
    "SUCCESS_MESSAGES = [\n",
    "    \"🎉 You're a legend! 🏆\",\n",
    "    \"🔥 Incredible! You nailed it! 🎯\",\n",
    "    \"🎯 Boom! Headshot! 💥\",\n",
    "    \"🚀 Unstoppable! You are on fire! 🔥\",\n",
    "    \"🧠 Mastermind detected! Genius mode activated! 🚀\"\n",
    "]\n",
    "\n",
    "# 🎁 Fixed ASCII Art (Escape Sequences Corrected)\n",
    "ASCII_ARTS = [\n",
    "    r\"\"\"\n",
    "        / \\__\n",
    "       (    @ \\______  \n",
    "      /         O    \\  \n",
    "     /   (_____ /    |  \n",
    "    /_____ / U   |  \n",
    "🐶 \"WOOF! CHAMPION MODE ACTIVATED!\" 🏆  \n",
    "    \"\"\",\n",
    "    r\"\"\"\n",
    "        / \\__  \n",
    "       (    @\\______  \n",
    "     /         O    \\  \n",
    "    /   (_____/     |  \n",
    "\n",
    "🐕 \"You are the true king of this game!\" 👑  \n",
    "    \"\"\",\n",
    "   \"\"\"\n",
    "    ████████╗██╗░░░██╗██╗███████╗███╗░░██╗██╗███╗░░██╗███████╗██████╗░\n",
    "    ╚══██╔══╝██║░░░██║██║██╔════╝████╗░██║██║████╗░██║██╔════╝██╔══██╗\n",
    "    ░░░██║░░░██║░░░██║██║█████╗░░██╔██╗██║██║██╔██╗██║█████╗░░██████╔╝\n",
    "    ░░░██║░░░██║░░░██║██║██╔══╝░░██║╚████║██║██║╚████║██╔══╝░░██╔═══╝░\n",
    "    ░░░██║░░░╚██████╔╝██║███████╗██║░╚███║██║██║░╚███║███████╗██║░░░░░\n",
    "    ░░░╚═╝░░░░╚═════╝░╚═╝╚══════╝╚═╝░░╚══╝╚═╝╚═╝░░╚══╝╚══════╝╚═╝░░░░░\n",
    "    \n",
    "    🎉  YOU ARE THE ULTIMATE WINNER! 🎉\n",
    "\n",
    "    \"\"\",\n",
    "    r\"\"\"\n",
    "      /\\_/\\\n",
    "     ( o.o )  🎉 Meow! You won! 🎉\n",
    "      > ^ <  \n",
    "\n",
    "      🎊🎉🎊🎉🎊🎉🎊🎉🎊🎉🎊🎉\n",
    "      🎉✨ YOU ARE A WINNER! ✨🎉\n",
    "      🎊🎉🎊🎉🎊🎉🎊🎉🎊🎉🎊🎉\n",
    "    \"\"\",\n",
    "    r\"\"\"\n",
    "      /\\_/\\\n",
    "     ( •_•)  🐶 Woof! You're amazing! 🏆\n",
    "     > 🦴 <\n",
    "\n",
    "      🎊🎉🎊🎉🎊🎉🎊🎉🎊🎉🎊🎉\n",
    "      🎉✨ YOU ARE A WINNER! ✨🎉\n",
    "      🎊🎉🎊🎉🎊🎉🎊🎉🎊🎉🎊🎉 \n",
    "    \"\"\",\n",
    "    r\"\"\"\n",
    "      /\\_/\\\n",
    "     ( -.- )   🎉 You did it! 🎉\n",
    "      (  >💖<  )\n",
    "\n",
    "      🎊🎉🎊🎉🎊🎉🎊🎉🎊🎉🎊🎉\n",
    "      🎉✨ YOU ARE A WINNER! ✨🎉\n",
    "      🎊🎉🎊🎉🎊🎉🎊🎉🎊🎉🎊🎉\n",
    "    \"\"\",\n",
    "    r\"\"\"\n",
    "      /\\_/\\\n",
    "     ( ^_^ )   🏅 Champion!\n",
    "      ( >🐾< )\n",
    "\n",
    "      🎊🎉🎊🎉🎊🎉🎊🎉🎊🎉🎊🎉\n",
    "      🎉✨ YOU ARE A WINNER! ✨🎉\n",
    "      🎊🎉🎊🎉🎊🎉🎊🎉🎊🎉🎊🎉\n",
    "    \"\"\"\n",
    "]\n",
    "\n",
    "# 🤖 AI Hint Generator\n",
    "def ai_hint(guess, true_number, low, high):\n",
    "    \"\"\"Generates smart hints based on player's guess.\"\"\"\n",
    "    \n",
    "    diff = abs(guess - true_number)\n",
    "    \n",
    "    if diff > (high - low) // 2:\n",
    "        return f\"🔥 You're WAY off! Try guessing at least {abs(guess - true_number) // 2} numbers {'lower' if guess > true_number else 'higher'}!\"\n",
    "    elif diff > (high - low) // 4:\n",
    "        return f\"🎯 Think of a number between {min(guess, true_number)} and {max(guess, true_number)}!\"\n",
    "    elif diff > (high - low) // 10:\n",
    "        return f\"🧠 You're very close, within {diff} numbers of the answer!\"\n",
    "    elif guess % 5 == 0:\n",
    "        return \"🔢 Based on your last guesses, try focusing on numbers ending in 5!\"\n",
    "    elif diff <= 3:\n",
    "        return \"🎯 Super close! You're within 3 numbers!\"\n",
    "    else:\n",
    "        return \"🤔 Keep thinking! You can do it!\"\n",
    "\n",
    "# 🎯 Main Game Function\n",
    "def guessing_game():\n",
    "    \"\"\"'Guess the Number' game with AI-powered hints and a fun UX\"\"\"\n",
    "\n",
    "    print(colored(\"\\n🎯 Welcome to the 'Guess the Number' game! 🎯\\n\", \"36\"))\n",
    "\n",
    "    # 📌 Difficulty levels\n",
    "    levels = {\n",
    "        \"1\": (1, 10, \"🐣 Easy (1-10)\"),\n",
    "        \"2\": (1, 49, \"⚡ Medium (1-49)\"),\n",
    "        \"3\": (1, 100, \"🔥 Hard (1-100)\")\n",
    "    }\n",
    "    \n",
    "    # 🎮 Choose difficulty level\n",
    "    while True:\n",
    "        print(\"Select difficulty level:\\n1️⃣ Easy (1-10)\\n2️⃣ Medium (1-49)\\n3️⃣ Hard (1-100)\")\n",
    "        level = input(\"Enter 1, 2, or 3: \")\n",
    "        if level in levels:\n",
    "            low, high, level_name = levels[level]\n",
    "            print(colored(f\"\\n🎮 You chose {level_name}. Let's begin!\\n\", \"34\"))\n",
    "            break\n",
    "        else:\n",
    "            print(colored(\"❌ Invalid choice. Please enter 1, 2, or 3.\\n\", \"31\"))\n",
    "\n",
    "    # 🎲 Generate random number\n",
    "    true_number = random.randint(low, high)\n",
    "    \n",
    "    attempts = 0  # 🔢 Attempt counter\n",
    "    start_time = time.time()  # ⏳ Timer start\n",
    "\n",
    "    while True:\n",
    "        try:\n",
    "            # 💡 Get user input\n",
    "            user_input = input(colored(f\"💡 Enter your guess ({low}-{high}) or type 'exit' to quit: \", \"33\"))\n",
    "            \n",
    "            if user_input.lower() == 'exit':  # 🏳️ Quit game\n",
    "                print(colored(\"👋 Thanks for playing! See you next time!\", \"36\"))\n",
    "                return  \n",
    "            \n",
    "            guess_number = int(user_input)  # Convert input to integer\n",
    "            \n",
    "            if guess_number < low or guess_number > high:\n",
    "                print(colored(f\"⚠️ Warning: The number must be between {low} and {high}! Try again.\\n\", \"33\"))\n",
    "                continue  \n",
    "\n",
    "            attempts += 1  # 🔢 Increase attempt counter\n",
    "\n",
    "            # ⏳ Simulate \"thinking\" effect\n",
    "            print(colored(\"🤔 Checking your guess...\", \"35\"))\n",
    "            time.sleep(1)\n",
    "\n",
    "            if guess_number == true_number:\n",
    "                time_taken = round(time.time() - start_time, 2)\n",
    "\n",
    "                # 🎉 Victory countdown before showing results\n",
    "                print(colored(\"\\n🥳 GET READY FOR THE GRAND CELEBRATION! 🎊\", \"35\"))\n",
    "                for i in range(15, 0, -1):  # Countdown effect\n",
    "                    print(colored(f\"⏳ {i}...\", \"36\"), end=\"\\r\")\n",
    "                    time.sleep(1)\n",
    "\n",
    "                # 🎉 Pick a random success message\n",
    "                success_message = random.choice(SUCCESS_MESSAGES)\n",
    "                \n",
    "                print(colored(f\"\\n🎉 CONGRATULATIONS! 🎉🎊\", \"32\"))\n",
    "                print(colored(f\"🔥 You guessed {true_number} in {attempts} attempts and {time_taken} seconds! ⏳\", \"34\"))\n",
    "                print(colored(f\"🏆 {success_message} 🏆\\n\", \"33\"))\n",
    "\n",
    "                # 🖼️ Show random ASCII art\n",
    "                ascii_art = random.choice(ASCII_ARTS)\n",
    "                print(colored(\"🎁 YOUR VICTORY PRIZE: 🎁\", \"35\"))\n",
    "                print(colored(\"=\" * 50, \"36\"))\n",
    "                print(colored(ascii_art, \"36\"))\n",
    "                print(colored(\"=\" * 50, \"36\"))\n",
    "\n",
    "                return  # ✅ End game\n",
    "\n",
    "            # 🤖 AI-powered hints!\n",
    "            print(colored(ai_hint(guess_number, true_number, low, high) + \"\\n\", \"36\"))\n",
    "\n",
    "        except ValueError:\n",
    "            print(colored(\"⚠️ Warning: Please enter a valid number.\\n\", \"33\"))  \n",
    "\n",
    "# 🚀 Run the game\n",
    "if __name__ == \"__main__\":\n",
    "    guessing_game()"
   ]
  },
  {
   "cell_type": "code",
   "execution_count": null,
   "metadata": {},
   "outputs": [],
   "source": []
  },
  {
   "cell_type": "code",
   "execution_count": null,
   "metadata": {},
   "outputs": [],
   "source": []
  },
  {
   "cell_type": "code",
   "execution_count": null,
   "metadata": {},
   "outputs": [],
   "source": []
  },
  {
   "cell_type": "markdown",
   "metadata": {},
   "source": [
    "<div style=\"\n",
    "  background: linear-gradient(to right, #4caf50, #8bc34a);\n",
    "  padding: 15px;\n",
    "  border-radius: 20px;\n",
    "  text-align: center;\n",
    "  font-size: 36px;\n",
    "  font-family: 'Press Start 2P', cursive;\n",
    "  color: white;\n",
    "  text-shadow: 0px 0px 10px #a5d6a7, 0px 0px 20px #8bc34a;\n",
    "  box-shadow: 0px 0px 15px rgba(76, 175, 80, 0.6);\n",
    "  display: flex;\n",
    "  align-items: center;\n",
    "  justify-content: center;\n",
    "  gap: 10px;\n",
    "\">\n",
    "🏆🎉 Victory! You've Defeated AI! Well played! 🎉🏆\n",
    "</div>"
   ]
  },
  {
   "cell_type": "markdown",
   "metadata": {},
   "source": [
    "<div style=\"\n",
    "  background: linear-gradient(to right, #2196f3, #03a9f4);\n",
    "  padding: 15px;\n",
    "  border-radius: 20px;\n",
    "  text-align: center;\n",
    "  font-size: 36px;\n",
    "  font-family: 'Press Start 2P', cursive;\n",
    "  color: white;\n",
    "  text-shadow: 0px 0px 10px #90caf9, 0px 0px 20px #03a9f4;\n",
    "  box-shadow: 0px 0px 15px rgba(33, 150, 243, 0.6);\n",
    "  display: flex;\n",
    "  align-items: center;\n",
    "  justify-content: center;\n",
    "  gap: 10px;\n",
    "\">\n",
    "🤖🚀 AI is Stunned! Your Skills are Legendary! 🚀🤖\n",
    "</div"
   ]
  },
  {
   "cell_type": "markdown",
   "metadata": {},
   "source": [
    "<div style=\"\n",
    "  background: linear-gradient(to right, #ffeb3b, #ffc107);\n",
    "  padding: 15px;\n",
    "  border-radius: 20px;\n",
    "  text-align: center;\n",
    "  font-size: 36px;\n",
    "  font-family: 'Press Start 2P', cursive;\n",
    "  color: black;\n",
    "  text-shadow: 0px 0px 15px #fff176, 0px 0px 25px #ffeb3b, 0px 0px 35px #ffc107;\n",
    "  box-shadow: 0px 0px 15px rgba(255, 235, 59, 0.6);\n",
    "  display: flex;\n",
    "  align-items: center;\n",
    "  justify-content: center;\n",
    "  gap: 10px;\n",
    "\">\n",
    "💡🎯 Try Again! Break Your Own Record! 🎯💡\n",
    "</div>"
   ]
  }
 ],
 "metadata": {
  "kernelspec": {
   "display_name": "Python [conda env:base] *",
   "language": "python",
   "name": "conda-base-py"
  },
  "language_info": {
   "codemirror_mode": {
    "name": "ipython",
    "version": 3
   },
   "file_extension": ".py",
   "mimetype": "text/x-python",
   "name": "python",
   "nbconvert_exporter": "python",
   "pygments_lexer": "ipython3",
   "version": "3.12.3"
  }
 },
 "nbformat": 4,
 "nbformat_minor": 4
}
